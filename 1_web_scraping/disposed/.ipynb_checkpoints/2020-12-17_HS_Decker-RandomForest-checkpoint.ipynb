{
 "cells": [
  {
   "cell_type": "markdown",
   "metadata": {},
   "source": [
    "# Hearth Stone Decker\n",
    "\n",
    "* https://hsreplay.net/decks/\n",
    "\n",
    "* 清資料"
   ]
  },
  {
   "cell_type": "code",
   "execution_count": 1,
   "metadata": {},
   "outputs": [],
   "source": [
    "import requests\n",
    "from bs4 import BeautifulSoup\n",
    "from selenium import webdriver\n",
    "from selenium.webdriver.support.ui import WebDriverWait\n",
    "from selenium.webdriver.common.keys import Keys\n",
    "from selenium.webdriver.support.ui import Select\n",
    "import pandas as pd\n",
    "import numpy as np\n",
    "import time\n",
    "import re\n",
    "import datetime\n",
    "import sqlite3 as lite\n",
    "import os\n",
    "import random\n",
    "import calendar"
   ]
  },
  {
   "cell_type": "markdown",
   "metadata": {},
   "source": [
    "url = \"https://hsreplay.net/decks/\""
   ]
  },
  {
   "cell_type": "markdown",
   "metadata": {},
   "source": [
    "# Deck Dictionary"
   ]
  },
  {
   "cell_type": "code",
   "execution_count": 2,
   "metadata": {},
   "outputs": [],
   "source": [
    "occupation_dict = {\n",
    "    \"Demon Hunter\" : \"https://hsreplay.net/decks/#playerClasses=DEMONHUNTER\",\n",
    "    \"Druid\" : \"https://hsreplay.net/decks/#playerClasses=DRUID\",\n",
    "    \"Hunter\" : \"https://hsreplay.net/decks/#playerClasses=HUNTER\",\n",
    "    \"Mage\" : \"https://hsreplay.net/decks/#playerClasses=MAGE\",\n",
    "    \"Paladin\" : \"https://hsreplay.net/decks/#playerClasses=PALADIN\",\n",
    "    \"Priest\" : \"https://hsreplay.net/decks/#playerClasses=PRIEST\",\n",
    "    \"Rogue\" : \"https://hsreplay.net/decks/#playerClasses=ROGUE\",\n",
    "    \"Shaman\" : \"https://hsreplay.net/decks/#playerClasses=SHAMAN\",\n",
    "    \"Warlock\" : \"https://hsreplay.net/decks/#playerClasses=WARLOCK\",\n",
    "    \"Warrior\" : \"https://hsreplay.net/decks/#playerClasses=WARRIOR\",\n",
    "}"
   ]
  },
  {
   "cell_type": "code",
   "execution_count": 3,
   "metadata": {},
   "outputs": [],
   "source": [
    "occupation_alternative_keyword = {\n",
    "    \"Demon Hunter\" : \"惡魔獵人\",\n",
    "    \"Druid\" : \"德\",\n",
    "    \"Hunter\" : \"獵\",\n",
    "    \"Mage\" : \"法\",\n",
    "    \"Paladin\" : \"聖\",\n",
    "    \"Priest\" : \"牧\",\n",
    "    \"Rogue\" : \"賊\",\n",
    "    \"Shaman\" : \"薩\",\n",
    "    \"Warlock\" : \"術\",\n",
    "    \"Warrior\" : \"戰\",\n",
    "}"
   ]
  },
  {
   "cell_type": "markdown",
   "metadata": {},
   "source": [
    "# Loading Dictionary & Analysis"
   ]
  },
  {
   "cell_type": "code",
   "execution_count": 4,
   "metadata": {},
   "outputs": [],
   "source": [
    "# Save\n",
    "#np.save('Priest_deck_dict.npy', deck_dict)\n",
    "\n",
    "# Load\n",
    "#read_dictionary = np.load('DemonHunter_deck_dict.npy',allow_pickle='TRUE').item()"
   ]
  },
  {
   "cell_type": "code",
   "execution_count": 5,
   "metadata": {},
   "outputs": [
    {
     "data": {
      "text/plain": [
       "{'Demon Hunter': 'https://hsreplay.net/decks/#playerClasses=DEMONHUNTER',\n",
       " 'Druid': 'https://hsreplay.net/decks/#playerClasses=DRUID',\n",
       " 'Hunter': 'https://hsreplay.net/decks/#playerClasses=HUNTER',\n",
       " 'Mage': 'https://hsreplay.net/decks/#playerClasses=MAGE',\n",
       " 'Paladin': 'https://hsreplay.net/decks/#playerClasses=PALADIN',\n",
       " 'Priest': 'https://hsreplay.net/decks/#playerClasses=PRIEST',\n",
       " 'Rogue': 'https://hsreplay.net/decks/#playerClasses=ROGUE',\n",
       " 'Shaman': 'https://hsreplay.net/decks/#playerClasses=SHAMAN',\n",
       " 'Warlock': 'https://hsreplay.net/decks/#playerClasses=WARLOCK',\n",
       " 'Warrior': 'https://hsreplay.net/decks/#playerClasses=WARRIOR'}"
      ]
     },
     "execution_count": 5,
     "metadata": {},
     "output_type": "execute_result"
    }
   ],
   "source": [
    "occupation_dict"
   ]
  },
  {
   "cell_type": "code",
   "execution_count": 6,
   "metadata": {},
   "outputs": [],
   "source": [
    "import os\n",
    "occupation = list(occupation_dict.keys())[0]\n",
    "base_path = f\"DB/{occupation}/\""
   ]
  },
  {
   "cell_type": "code",
   "execution_count": 7,
   "metadata": {},
   "outputs": [],
   "source": [
    "DemonHunter_decks = os.listdir(base_path)"
   ]
  },
  {
   "cell_type": "code",
   "execution_count": 8,
   "metadata": {},
   "outputs": [
    {
     "data": {
      "text/plain": [
       "['DemonHunter_deck_dict_2020-12-21_21-01.npy',\n",
       " 'DemonHunter_deck_dict_2020-12-16_14-13.npy',\n",
       " 'DemonHunter_deck_dict_2020-12-11_00-17.npy',\n",
       " 'DemonHunter_deck_dict_2020-12-08_00-14.npy',\n",
       " 'DemonHunter_deck_dict_2020-12-08_12-10.npy',\n",
       " 'DemonHunter_deck_dict_2020-12-22_00-01.npy',\n",
       " 'DemonHunter_deck_dict_2020-12-07_08-09.npy',\n",
       " 'DemonHunter_deck_dict_2020-12-06_15-39.npy',\n",
       " 'DemonHunter_deck_dict_2020-12-12_00-19.npy',\n",
       " 'DemonHunter_deck_dict_2020-12-14_21-13.npy',\n",
       " 'DemonHunter_deck_dict_2020-12-10_00-15.npy',\n",
       " 'DemonHunter_deck_dict_2020-12-15_07-12.npy',\n",
       " 'DemonHunter_deck_dict_2020-12-06_22-09.npy',\n",
       " 'DemonHunter_deck_dict_2020-12-17_14-07.npy',\n",
       " 'DemonHunter_deck_dict_2020-12-15_00-19.npy',\n",
       " 'DemonHunter_deck_dict_2020-12-06_18-09.npy',\n",
       " 'DemonHunter_deck_dict_2020-12-06_20-09.npy',\n",
       " 'DemonHunter_deck_dict_2020-12-08_04-16.npy',\n",
       " 'DemonHunter_deck_dict_2020-12-23_00-02.npy',\n",
       " 'DemonHunter_deck_dict_2020-12-22_14-01.npy',\n",
       " 'DemonHunter_deck_dict_2020-12-16_07-13.npy',\n",
       " 'DemonHunter_deck_dict_2020-12-07_00-15.npy',\n",
       " 'DemonHunter_deck_dict_2020-12-07_10-10.npy',\n",
       " 'DemonHunter_deck_dict_2020-12-16_00-19.npy',\n",
       " 'DemonHunter_deck_dict_2020-12-06_16-11.npy',\n",
       " 'DemonHunter_deck_dict_2020-12-20_21-31.npy',\n",
       " 'DemonHunter_deck_dict_2020-12-23_07-01.npy',\n",
       " 'DemonHunter_deck_dict_2020-12-07_02-16.npy',\n",
       " '.ipynb_checkpoints',\n",
       " 'DemonHunter_deck_dict_2020-12-07_04-13.npy',\n",
       " 'DemonHunter_deck_dict_2020-12-07_16-10.npy',\n",
       " 'DemonHunter_deck_dict_2020-12-07_06-15.npy',\n",
       " 'DemonHunter_deck_dict_2020-12-22_21-01.npy',\n",
       " 'DemonHunter_deck_dict_2020-12-15_14-13.npy',\n",
       " 'DemonHunter_deck_dict_2020-12-17_00-19.npy',\n",
       " 'DemonHunter_deck_dict_2020-12-22_07-01.npy',\n",
       " 'DemonHunter_deck_dict_2020-12-17_07-17.npy']"
      ]
     },
     "execution_count": 8,
     "metadata": {},
     "output_type": "execute_result"
    }
   ],
   "source": [
    "DemonHunter_decks"
   ]
  },
  {
   "cell_type": "code",
   "execution_count": 9,
   "metadata": {},
   "outputs": [
    {
     "name": "stdout",
     "output_type": "stream",
     "text": [
      "DemonHunter_deck_dict_2020-12-16_00-19.npy\n",
      "DemonHunter_deck_dict_2020-12-15_14-13.npy\n",
      "DemonHunter_deck_dict_2020-12-17_07-17.npy\n"
     ]
    }
   ],
   "source": [
    "print(DemonHunter_decks[-14])\n",
    "print(DemonHunter_decks[-4])\n",
    "print(DemonHunter_decks[-1])"
   ]
  },
  {
   "cell_type": "code",
   "execution_count": 10,
   "metadata": {},
   "outputs": [],
   "source": [
    "d0 = np.load(f\"{base_path}{DemonHunter_decks[-14]}\", allow_pickle='TRUE').item()\n",
    "d1 = np.load(f\"{base_path}{DemonHunter_decks[-4]}\", allow_pickle='TRUE').item()\n",
    "d2 = np.load(f\"{base_path}{DemonHunter_decks[-1]}\", allow_pickle='TRUE').item()"
   ]
  },
  {
   "cell_type": "markdown",
   "metadata": {},
   "source": [
    "### 比較差異"
   ]
  },
  {
   "cell_type": "code",
   "execution_count": 16,
   "metadata": {},
   "outputs": [
    {
     "data": {
      "text/plain": [
       "{'URL': 'https://hsreplay.net/decks/kyCUK1H2Y5wtS52RdFQLXb/',\n",
       " 'Deck_Name': 'Aggro Demon Hunter',\n",
       " 'Deck_Composition': {57182: {'card_name': '守護者強化商人',\n",
       "   'IsDuo': 1,\n",
       "   'card_URL': 'https://hsreplay.net/cards/57182/'},\n",
       "  58972: {'card_name': '強悍的新生',\n",
       "   'IsDuo': 1,\n",
       "   'card_URL': 'https://hsreplay.net/cards/58972/'},\n",
       "  59394: {'card_name': '惡魔夥伴',\n",
       "   'IsDuo': 1,\n",
       "   'card_URL': 'https://hsreplay.net/cards/59394/'},\n",
       "  58487: {'card_name': '戰鬥犬魔',\n",
       "   'IsDuo': 1,\n",
       "   'card_URL': 'https://hsreplay.net/cards/58487/'},\n",
       "  58610: {'card_name': '法力燃燒',\n",
       "   'IsDuo': 1,\n",
       "   'card_URL': 'https://hsreplay.net/cards/58610/'},\n",
       "  55161: {'card_name': '烈焰戰鬥法師',\n",
       "   'IsDuo': 1,\n",
       "   'card_URL': 'https://hsreplay.net/cards/55161/'},\n",
       "  54269: {'card_name': '開朗小幫手',\n",
       "   'IsDuo': 1,\n",
       "   'card_URL': 'https://hsreplay.net/cards/54269/'},\n",
       "  56928: {'card_name': '雙刃斬',\n",
       "   'IsDuo': 1,\n",
       "   'card_URL': 'https://hsreplay.net/cards/56928/'},\n",
       "  57175: {'card_name': '噬骨打鬥者',\n",
       "   'IsDuo': 1,\n",
       "   'card_URL': 'https://hsreplay.net/cards/57175/'},\n",
       "  56587: {'card_name': '幽暗之翼',\n",
       "   'IsDuo': 1,\n",
       "   'card_URL': 'https://hsreplay.net/cards/56587/'},\n",
       "  61898: {'card_name': '蠕動懼怪',\n",
       "   'IsDuo': 1,\n",
       "   'card_URL': 'https://hsreplay.net/cards/61898/'},\n",
       "  59590: {'card_name': '閱讀狂',\n",
       "   'IsDuo': 1,\n",
       "   'card_URL': 'https://hsreplay.net/cards/59590/'},\n",
       "  61273: {'card_name': '空中特技',\n",
       "   'IsDuo': 1,\n",
       "   'card_URL': 'https://hsreplay.net/cards/61273/'},\n",
       "  61133: {'card_name': '驚懼領主之噬',\n",
       "   'IsDuo': 1,\n",
       "   'card_URL': 'https://hsreplay.net/cards/61133/'},\n",
       "  61135: {'card_name': '高蹺手',\n",
       "   'IsDuo': 1,\n",
       "   'card_URL': 'https://hsreplay.net/cards/61135/'}},\n",
       " 'win_rate': '60.8%',\n",
       " 'dust_cost': '1840',\n",
       " 'game_count': '180,000',\n",
       " 'time_duration': '5.6 分鐘'}"
      ]
     },
     "execution_count": 16,
     "metadata": {},
     "output_type": "execute_result"
    }
   ],
   "source": [
    "d0['kyCUK1H2Y5wtS52RdFQLXb']"
   ]
  },
  {
   "cell_type": "code",
   "execution_count": 12,
   "metadata": {},
   "outputs": [
    {
     "data": {
      "text/plain": [
       "{'URL': 'https://hsreplay.net/decks/nsEeXHKmqGKVT1yjrULMUe/',\n",
       " 'Deck_Name': 'Soul Demon Hunter',\n",
       " 'Deck_Composition': {58452: {'card_name': '吞噬魔法',\n",
       "   'IsDuo': 'NaN',\n",
       "   'card_URL': 'https://hsreplay.net/cards/58452/'},\n",
       "  56928: {'card_name': '雙刃斬',\n",
       "   'IsDuo': 1,\n",
       "   'card_URL': 'https://hsreplay.net/cards/56928/'},\n",
       "  59724: {'card_name': '靈魂獄卒',\n",
       "   'IsDuo': 1,\n",
       "   'card_URL': 'https://hsreplay.net/cards/59724/'},\n",
       "  58492: {'card_name': '劍刃之舞',\n",
       "   'IsDuo': 1,\n",
       "   'card_URL': 'https://hsreplay.net/cards/58492/'},\n",
       "  56791: {'card_name': '混沌之擊',\n",
       "   'IsDuo': 1,\n",
       "   'card_URL': 'https://hsreplay.net/cards/56791/'},\n",
       "  59725: {'card_name': '靈魂削斬',\n",
       "   'IsDuo': 1,\n",
       "   'card_URL': 'https://hsreplay.net/cards/59725/'},\n",
       "  59259: {'card_name': '食法獵能豹',\n",
       "   'IsDuo': 1,\n",
       "   'card_URL': 'https://hsreplay.net/cards/59259/'},\n",
       "  59646: {'card_name': '魔杖師',\n",
       "   'IsDuo': 1,\n",
       "   'card_URL': 'https://hsreplay.net/cards/59646/'},\n",
       "  56583: {'card_name': '奧達奇戰刃',\n",
       "   'IsDuo': 1,\n",
       "   'card_URL': 'https://hsreplay.net/cards/56583/'},\n",
       "  60151: {'card_name': '裂魂秘術使',\n",
       "   'IsDuo': 1,\n",
       "   'card_URL': 'https://hsreplay.net/cards/60151/'},\n",
       "  58202: {'card_name': '凱恩‧日怒',\n",
       "   'IsDuo': 'NaN',\n",
       "   'card_URL': 'https://hsreplay.net/cards/58202/'},\n",
       "  55400: {'card_name': '寶藏盜掠者',\n",
       "   'IsDuo': 'NaN',\n",
       "   'card_URL': 'https://hsreplay.net/cards/55400/'},\n",
       "  59089: {'card_name': '斬髓刀',\n",
       "   'IsDuo': 1,\n",
       "   'card_URL': 'https://hsreplay.net/cards/59089/'},\n",
       "  58494: {'card_name': '旋刃精兵',\n",
       "   'IsDuo': 1,\n",
       "   'card_URL': 'https://hsreplay.net/cards/58494/'},\n",
       "  59732: {'card_name': '魂石工匠',\n",
       "   'IsDuo': 1,\n",
       "   'card_URL': 'https://hsreplay.net/cards/59732/'},\n",
       "  58201: {'card_name': '古爾丹之顱',\n",
       "   'IsDuo': 1,\n",
       "   'card_URL': 'https://hsreplay.net/cards/58201/'},\n",
       "  59727: {'card_name': '靈魂學家瑪麗希亞',\n",
       "   'IsDuo': 'NaN',\n",
       "   'card_URL': 'https://hsreplay.net/cards/59727/'}},\n",
       " 'win_rate': '60.8%',\n",
       " 'dust_cost': '4300',\n",
       " 'game_count': '15,000',\n",
       " 'time_duration': '7.8 分鐘'}"
      ]
     },
     "execution_count": 12,
     "metadata": {},
     "output_type": "execute_result"
    }
   ],
   "source": [
    "d1[\"nsEeXHKmqGKVT1yjrULMUe\"]"
   ]
  },
  {
   "cell_type": "code",
   "execution_count": 13,
   "metadata": {},
   "outputs": [
    {
     "data": {
      "text/plain": [
       "dict_keys([58452, 56928, 59724, 56791, 59725, 59259, 59646, 58492, 56583, 58202, 55400, 59089, 60151, 58494, 59732, 58201, 59727])"
      ]
     },
     "execution_count": 13,
     "metadata": {},
     "output_type": "execute_result"
    }
   ],
   "source": [
    "d2[\"nsEeXHKmqGKVT1yjrULMUe\"][\"Deck_Composition\"].keys()"
   ]
  },
  {
   "cell_type": "markdown",
   "metadata": {},
   "source": [
    "# Tidy Data"
   ]
  },
  {
   "cell_type": "markdown",
   "metadata": {},
   "source": [
    "1. get into layer 3 -> get unique card list\n",
    "\n",
    "2. for each deck, append to the dataframe as a new row"
   ]
  },
  {
   "cell_type": "code",
   "execution_count": 23,
   "metadata": {},
   "outputs": [],
   "source": [
    "unique_card_list = []"
   ]
  },
  {
   "cell_type": "code",
   "execution_count": 24,
   "metadata": {},
   "outputs": [],
   "source": [
    "for deck_key in list(d0.keys()):\n",
    "    for cardID in list(d0[deck_key]['Deck_Composition'].keys()):\n",
    "        unique_card_list.append(cardID)"
   ]
  },
  {
   "cell_type": "code",
   "execution_count": 22,
   "metadata": {},
   "outputs": [
    {
     "data": {
      "text/plain": [
       "dict_keys([57182, 58972, 59394, 58487, 58610, 55161, 54269, 56928, 57175, 56587, 61898, 59590, 61273, 61133, 61135])"
      ]
     },
     "execution_count": 22,
     "metadata": {},
     "output_type": "execute_result"
    }
   ],
   "source": [
    "d0[list(d0.keys())[0]]['Deck_Composition'].keys()"
   ]
  },
  {
   "cell_type": "code",
   "execution_count": 28,
   "metadata": {},
   "outputs": [],
   "source": [
    "unique_card_list = set(unique_card_list)"
   ]
  },
  {
   "cell_type": "markdown",
   "metadata": {},
   "source": [
    "### For all files"
   ]
  },
  {
   "cell_type": "code",
   "execution_count": 51,
   "metadata": {},
   "outputs": [],
   "source": [
    "import os\n",
    "\n",
    "unique_card_dict = {}\n",
    "\n",
    "\n",
    "for occupation in list(occupation_dict.keys()): # for each 職業 （依照職業分類資料夾）\n",
    "    base_path = f\"DB/{occupation}\"\n",
    "    occupation_deck_paths = os.listdir(base_path) # 職業資料夾底下有數個.npy檔，要load進來\n",
    "    occupation_deck_paths.sort()\n",
    "    \n",
    "    for occupation_decks_path in occupation_deck_paths: # 大約一天一個字典檔\n",
    "        if \".npy\" in occupation_decks_path: # 如果是.npy檔，就讀進來\n",
    "            d_tmp = np.load(f\"{base_path}/{occupation_decks_path}\", allow_pickle='TRUE').item()\n",
    "            \n",
    "            # 在一次爬蟲抓取的dict下\n",
    "            for deck_key in list(d_tmp.keys()):\n",
    "                for cardID in list(d_tmp[deck_key]['Deck_Composition'].keys()):\n",
    "                    #unique_card_list.append(cardID)\n",
    "                    unique_card_dict[cardID] = d_tmp[deck_key]['Deck_Composition'][cardID]['card_name']"
   ]
  },
  {
   "cell_type": "code",
   "execution_count": 73,
   "metadata": {},
   "outputs": [
    {
     "data": {
      "text/html": [
       "<div>\n",
       "<style scoped>\n",
       "    .dataframe tbody tr th:only-of-type {\n",
       "        vertical-align: middle;\n",
       "    }\n",
       "\n",
       "    .dataframe tbody tr th {\n",
       "        vertical-align: top;\n",
       "    }\n",
       "\n",
       "    .dataframe thead th {\n",
       "        text-align: right;\n",
       "    }\n",
       "</style>\n",
       "<table border=\"1\" class=\"dataframe\">\n",
       "  <thead>\n",
       "    <tr style=\"text-align: right;\">\n",
       "      <th></th>\n",
       "      <th>Card_Name</th>\n",
       "    </tr>\n",
       "  </thead>\n",
       "  <tbody>\n",
       "    <tr>\n",
       "      <th>57182</th>\n",
       "      <td>守護者強化商人</td>\n",
       "    </tr>\n",
       "    <tr>\n",
       "      <th>58972</th>\n",
       "      <td>強悍的新生</td>\n",
       "    </tr>\n",
       "    <tr>\n",
       "      <th>59394</th>\n",
       "      <td>惡魔夥伴</td>\n",
       "    </tr>\n",
       "    <tr>\n",
       "      <th>58487</th>\n",
       "      <td>戰鬥犬魔</td>\n",
       "    </tr>\n",
       "    <tr>\n",
       "      <th>58610</th>\n",
       "      <td>法力燃燒</td>\n",
       "    </tr>\n",
       "    <tr>\n",
       "      <th>...</th>\n",
       "      <td>...</td>\n",
       "    </tr>\n",
       "    <tr>\n",
       "      <th>1108</th>\n",
       "      <td>暴怒</td>\n",
       "    </tr>\n",
       "    <tr>\n",
       "      <th>1026</th>\n",
       "      <td>命令之吼</td>\n",
       "    </tr>\n",
       "    <tr>\n",
       "      <th>52086</th>\n",
       "      <td>爆爆劫奪者</td>\n",
       "    </tr>\n",
       "    <tr>\n",
       "      <th>55002</th>\n",
       "      <td>祭儀斧</td>\n",
       "    </tr>\n",
       "    <tr>\n",
       "      <th>55420</th>\n",
       "      <td>飼龍者</td>\n",
       "    </tr>\n",
       "  </tbody>\n",
       "</table>\n",
       "<p>973 rows × 1 columns</p>\n",
       "</div>"
      ],
      "text/plain": [
       "      Card_Name\n",
       "57182   守護者強化商人\n",
       "58972     強悍的新生\n",
       "59394      惡魔夥伴\n",
       "58487      戰鬥犬魔\n",
       "58610      法力燃燒\n",
       "...         ...\n",
       "1108         暴怒\n",
       "1026       命令之吼\n",
       "52086     爆爆劫奪者\n",
       "55002       祭儀斧\n",
       "55420       飼龍者\n",
       "\n",
       "[973 rows x 1 columns]"
      ]
     },
     "execution_count": 73,
     "metadata": {},
     "output_type": "execute_result"
    }
   ],
   "source": [
    "columns = [\"Card_Name\"]\n",
    "df_cards = pd.DataFrame.from_dict(unique_card_dict, orient = \"index\", columns=columns)\n",
    "df_cards"
   ]
  },
  {
   "cell_type": "code",
   "execution_count": 77,
   "metadata": {},
   "outputs": [],
   "source": [
    "df_cards = df_cards.sort_index()"
   ]
  },
  {
   "cell_type": "code",
   "execution_count": 80,
   "metadata": {},
   "outputs": [],
   "source": [
    "df_cards = df_cards.reset_index()"
   ]
  },
  {
   "cell_type": "code",
   "execution_count": 83,
   "metadata": {},
   "outputs": [],
   "source": [
    "df_cards.columns = [\"Card_ID\", \"Card_Name\"]"
   ]
  },
  {
   "cell_type": "code",
   "execution_count": 84,
   "metadata": {},
   "outputs": [
    {
     "data": {
      "text/html": [
       "<div>\n",
       "<style scoped>\n",
       "    .dataframe tbody tr th:only-of-type {\n",
       "        vertical-align: middle;\n",
       "    }\n",
       "\n",
       "    .dataframe tbody tr th {\n",
       "        vertical-align: top;\n",
       "    }\n",
       "\n",
       "    .dataframe thead th {\n",
       "        text-align: right;\n",
       "    }\n",
       "</style>\n",
       "<table border=\"1\" class=\"dataframe\">\n",
       "  <thead>\n",
       "    <tr style=\"text-align: right;\">\n",
       "      <th></th>\n",
       "      <th>Card_ID</th>\n",
       "      <th>Card_Name</th>\n",
       "    </tr>\n",
       "  </thead>\n",
       "  <tbody>\n",
       "    <tr>\n",
       "      <th>0</th>\n",
       "      <td>8</td>\n",
       "      <td>精神控制</td>\n",
       "    </tr>\n",
       "    <tr>\n",
       "      <th>1</th>\n",
       "      <td>22</td>\n",
       "      <td>心靈之怒</td>\n",
       "    </tr>\n",
       "    <tr>\n",
       "      <th>2</th>\n",
       "      <td>23</td>\n",
       "      <td>末日災厄</td>\n",
       "    </tr>\n",
       "    <tr>\n",
       "      <th>3</th>\n",
       "      <td>28</td>\n",
       "      <td>柯爾克隆精英</td>\n",
       "    </tr>\n",
       "    <tr>\n",
       "      <th>4</th>\n",
       "      <td>30</td>\n",
       "      <td>思想竊取</td>\n",
       "    </tr>\n",
       "    <tr>\n",
       "      <th>...</th>\n",
       "      <td>...</td>\n",
       "      <td>...</td>\n",
       "    </tr>\n",
       "    <tr>\n",
       "      <th>968</th>\n",
       "      <td>61842</td>\n",
       "      <td>瑪克希瑪‧布萊頓海默</td>\n",
       "    </tr>\n",
       "    <tr>\n",
       "      <th>969</th>\n",
       "      <td>61846</td>\n",
       "      <td>請勿餵食動物</td>\n",
       "    </tr>\n",
       "    <tr>\n",
       "      <th>970</th>\n",
       "      <td>61884</td>\n",
       "      <td>舞台鬼母</td>\n",
       "    </tr>\n",
       "    <tr>\n",
       "      <th>971</th>\n",
       "      <td>61898</td>\n",
       "      <td>蠕動懼怪</td>\n",
       "    </tr>\n",
       "    <tr>\n",
       "      <th>972</th>\n",
       "      <td>62049</td>\n",
       "      <td>安全檢查員</td>\n",
       "    </tr>\n",
       "  </tbody>\n",
       "</table>\n",
       "<p>973 rows × 2 columns</p>\n",
       "</div>"
      ],
      "text/plain": [
       "     Card_ID   Card_Name\n",
       "0          8        精神控制\n",
       "1         22        心靈之怒\n",
       "2         23        末日災厄\n",
       "3         28      柯爾克隆精英\n",
       "4         30        思想竊取\n",
       "..       ...         ...\n",
       "968    61842  瑪克希瑪‧布萊頓海默\n",
       "969    61846      請勿餵食動物\n",
       "970    61884        舞台鬼母\n",
       "971    61898        蠕動懼怪\n",
       "972    62049       安全檢查員\n",
       "\n",
       "[973 rows x 2 columns]"
      ]
     },
     "execution_count": 84,
     "metadata": {},
     "output_type": "execute_result"
    }
   ],
   "source": [
    "df_cards"
   ]
  },
  {
   "cell_type": "markdown",
   "metadata": {},
   "source": [
    "### test"
   ]
  },
  {
   "cell_type": "code",
   "execution_count": 86,
   "metadata": {},
   "outputs": [],
   "source": [
    "columns = [\"Deck_ID\", \"Deck_URL\", \"Deck_Name\", \"Occupation\", \n",
    "           \"dust_cost\", \"game_count\", \"time_duration\", \"win_rate\"]"
   ]
  },
  {
   "cell_type": "code",
   "execution_count": 89,
   "metadata": {},
   "outputs": [],
   "source": [
    "for Card_ID in df_cards[\"Card_ID\"]:\n",
    "    columns.append(f\"Card_{Card_ID}\")"
   ]
  },
  {
   "cell_type": "code",
   "execution_count": 91,
   "metadata": {},
   "outputs": [
    {
     "data": {
      "text/plain": [
       "['Deck_ID',\n",
       " 'Deck_URL',\n",
       " 'Deck_Name',\n",
       " 'Occupation',\n",
       " 'dust_cost',\n",
       " 'game_count',\n",
       " 'time_duration',\n",
       " 'win_rate',\n",
       " 'Card_8',\n",
       " 'Card_22']"
      ]
     },
     "execution_count": 91,
     "metadata": {},
     "output_type": "execute_result"
    }
   ],
   "source": [
    "columns[0:10]"
   ]
  },
  {
   "cell_type": "code",
   "execution_count": 94,
   "metadata": {},
   "outputs": [],
   "source": [
    "df_tmp = pd.DataFrame(columns = columns)"
   ]
  },
  {
   "cell_type": "code",
   "execution_count": 137,
   "metadata": {},
   "outputs": [],
   "source": [
    "# mother dataframe\n",
    "df_Decks = pd.DataFrame(columns = columns)"
   ]
  },
  {
   "cell_type": "code",
   "execution_count": 95,
   "metadata": {},
   "outputs": [
    {
     "data": {
      "text/html": [
       "<div>\n",
       "<style scoped>\n",
       "    .dataframe tbody tr th:only-of-type {\n",
       "        vertical-align: middle;\n",
       "    }\n",
       "\n",
       "    .dataframe tbody tr th {\n",
       "        vertical-align: top;\n",
       "    }\n",
       "\n",
       "    .dataframe thead th {\n",
       "        text-align: right;\n",
       "    }\n",
       "</style>\n",
       "<table border=\"1\" class=\"dataframe\">\n",
       "  <thead>\n",
       "    <tr style=\"text-align: right;\">\n",
       "      <th></th>\n",
       "      <th>Deck_ID</th>\n",
       "      <th>Deck_URL</th>\n",
       "      <th>Deck_Name</th>\n",
       "      <th>Occupation</th>\n",
       "      <th>dust_cost</th>\n",
       "      <th>game_count</th>\n",
       "      <th>time_duration</th>\n",
       "      <th>win_rate</th>\n",
       "      <th>Card_8</th>\n",
       "      <th>Card_22</th>\n",
       "      <th>...</th>\n",
       "      <th>Card_61690</th>\n",
       "      <th>Card_61699</th>\n",
       "      <th>Card_61700</th>\n",
       "      <th>Card_61702</th>\n",
       "      <th>Card_61839</th>\n",
       "      <th>Card_61842</th>\n",
       "      <th>Card_61846</th>\n",
       "      <th>Card_61884</th>\n",
       "      <th>Card_61898</th>\n",
       "      <th>Card_62049</th>\n",
       "    </tr>\n",
       "  </thead>\n",
       "  <tbody>\n",
       "  </tbody>\n",
       "</table>\n",
       "<p>0 rows × 981 columns</p>\n",
       "</div>"
      ],
      "text/plain": [
       "Empty DataFrame\n",
       "Columns: [Deck_ID, Deck_URL, Deck_Name, Occupation, dust_cost, game_count, time_duration, win_rate, Card_8, Card_22, Card_23, Card_28, Card_30, Card_32, Card_36, Card_48, Card_64, Card_67, Card_69, Card_70, Card_75, Card_77, Card_86, Card_90, Card_95, Card_113, Card_132, Card_138, Card_140, Card_141, Card_147, Card_157, Card_158, Card_163, Card_180, Card_189, Card_191, Card_195, Card_201, Card_205, Card_211, Card_213, Card_216, Card_220, Card_239, Card_242, Card_250, Card_251, Card_254, Card_257, Card_268, Card_272, Card_279, Card_284, Card_285, Card_289, Card_290, Card_291, Card_292, Card_296, Card_304, Card_306, Card_308, Card_315, Card_338, Card_339, Card_348, Card_352, Card_363, Card_365, Card_366, Card_376, Card_381, Card_383, Card_389, Card_395, Card_397, Card_400, Card_401, Card_405, Card_413, Card_415, Card_420, Card_421, Card_436, Card_437, Card_443, Card_445, Card_453, Card_455, Card_456, Card_457, Card_459, Card_461, Card_467, Card_475, Card_476, Card_493, Card_496, Card_503, ...]\n",
       "Index: []\n",
       "\n",
       "[0 rows x 981 columns]"
      ]
     },
     "execution_count": 95,
     "metadata": {},
     "output_type": "execute_result"
    }
   ],
   "source": [
    "df_tmp"
   ]
  },
  {
   "cell_type": "code",
   "execution_count": 109,
   "metadata": {},
   "outputs": [],
   "source": [
    "df_tmp[\"Occupation\"] = occupation\n",
    "#for deck_key in list(d_tmp.keys()):\n",
    "deck_key = list(d_tmp.keys())[0]\n",
    "\n",
    "# Inside first layer\n",
    "df_tmp[\"Deck_ID\"] = deck_key\n",
    "df_tmp[\"Deck_URL\"] = d_tmp[deck_key][\"URL\"]\n",
    "df_tmp[\"Deck_Name\"] = d_tmp[deck_key][\"Deck_Name\"]\n",
    "\n",
    "df_tmp[\"dust_cost\"] = d_tmp[deck_key][\"dust_cost\"]\n",
    "df_tmp[\"game_count\"] = d_tmp[deck_key][\"game_count\"]\n",
    "df_tmp[\"time_duration\"] = d_tmp[deck_key][\"time_duration\"]\n",
    "df_tmp[\"win_rate\"] = d_tmp[deck_key][\"win_rate\"]\n",
    "\n",
    "# Inside second layer\n",
    "for cardID in list(d_tmp[deck_key]['Deck_Composition'].keys()):\n",
    "    if d_tmp[deck_key][\"Deck_Composition\"][cardID][\"IsDuo\"] == 1:\n",
    "        df_tmp[f\"Card_{cardID}\"] = 2\n",
    "    else:\n",
    "        df_tmp[f\"Card_{cardID}\"] = 1"
   ]
  },
  {
   "cell_type": "code",
   "execution_count": 112,
   "metadata": {},
   "outputs": [
    {
     "data": {
      "text/html": [
       "<div>\n",
       "<style scoped>\n",
       "    .dataframe tbody tr th:only-of-type {\n",
       "        vertical-align: middle;\n",
       "    }\n",
       "\n",
       "    .dataframe tbody tr th {\n",
       "        vertical-align: top;\n",
       "    }\n",
       "\n",
       "    .dataframe thead th {\n",
       "        text-align: right;\n",
       "    }\n",
       "</style>\n",
       "<table border=\"1\" class=\"dataframe\">\n",
       "  <thead>\n",
       "    <tr style=\"text-align: right;\">\n",
       "      <th></th>\n",
       "      <th>Deck_ID</th>\n",
       "      <th>Deck_URL</th>\n",
       "      <th>Deck_Name</th>\n",
       "      <th>Occupation</th>\n",
       "      <th>dust_cost</th>\n",
       "      <th>game_count</th>\n",
       "      <th>time_duration</th>\n",
       "      <th>win_rate</th>\n",
       "      <th>Card_8</th>\n",
       "      <th>Card_22</th>\n",
       "      <th>...</th>\n",
       "      <th>Card_61690</th>\n",
       "      <th>Card_61699</th>\n",
       "      <th>Card_61700</th>\n",
       "      <th>Card_61702</th>\n",
       "      <th>Card_61839</th>\n",
       "      <th>Card_61842</th>\n",
       "      <th>Card_61846</th>\n",
       "      <th>Card_61884</th>\n",
       "      <th>Card_61898</th>\n",
       "      <th>Card_62049</th>\n",
       "    </tr>\n",
       "  </thead>\n",
       "  <tbody>\n",
       "    <tr>\n",
       "      <th>0</th>\n",
       "      <td>JPuFNRlPXs7a2T25JTb8If</td>\n",
       "      <td>https://hsreplay.net/decks/JPuFNRlPXs7a2T25JTb...</td>\n",
       "      <td>炸彈戰</td>\n",
       "      <td>Warrior</td>\n",
       "      <td>12140</td>\n",
       "      <td>3,000</td>\n",
       "      <td>8.7 分鐘</td>\n",
       "      <td>59.9%</td>\n",
       "      <td>NaN</td>\n",
       "      <td>NaN</td>\n",
       "      <td>...</td>\n",
       "      <td>NaN</td>\n",
       "      <td>NaN</td>\n",
       "      <td>NaN</td>\n",
       "      <td>NaN</td>\n",
       "      <td>NaN</td>\n",
       "      <td>NaN</td>\n",
       "      <td>NaN</td>\n",
       "      <td>NaN</td>\n",
       "      <td>NaN</td>\n",
       "      <td>NaN</td>\n",
       "    </tr>\n",
       "  </tbody>\n",
       "</table>\n",
       "<p>1 rows × 981 columns</p>\n",
       "</div>"
      ],
      "text/plain": [
       "                  Deck_ID                                           Deck_URL  \\\n",
       "0  JPuFNRlPXs7a2T25JTb8If  https://hsreplay.net/decks/JPuFNRlPXs7a2T25JTb...   \n",
       "\n",
       "  Deck_Name Occupation dust_cost game_count time_duration win_rate Card_8  \\\n",
       "0       炸彈戰    Warrior     12140      3,000        8.7 分鐘    59.9%    NaN   \n",
       "\n",
       "   Card_22  ... Card_61690  Card_61699 Card_61700 Card_61702 Card_61839  \\\n",
       "0      NaN  ...        NaN         NaN        NaN        NaN        NaN   \n",
       "\n",
       "  Card_61842 Card_61846 Card_61884 Card_61898 Card_62049  \n",
       "0        NaN        NaN        NaN        NaN        NaN  \n",
       "\n",
       "[1 rows x 981 columns]"
      ]
     },
     "execution_count": 112,
     "metadata": {},
     "output_type": "execute_result"
    }
   ],
   "source": [
    "df_tmp"
   ]
  },
  {
   "cell_type": "code",
   "execution_count": 131,
   "metadata": {},
   "outputs": [
    {
     "data": {
      "text/plain": [
       "30"
      ]
     },
     "execution_count": 131,
     "metadata": {},
     "output_type": "execute_result"
    }
   ],
   "source": [
    "# check 卡牌張數總和確實是30\n",
    "df_tmp.iloc[0,8:].sum()"
   ]
  },
  {
   "cell_type": "markdown",
   "metadata": {},
   "source": [
    "### 製作跑Random Forest的dataframe : row by row"
   ]
  },
  {
   "cell_type": "code",
   "execution_count": null,
   "metadata": {},
   "outputs": [],
   "source": [
    "t0 = datetime.datetime.now()\n",
    "\n",
    "for occupation in list(occupation_dict.keys()): # for each 職業 （依照職業分類資料夾）\n",
    "    base_path = f\"DB/{occupation}\"\n",
    "    occupation_deck_paths = os.listdir(base_path) # 職業資料夾底下有數個.npy檔，要load進來\n",
    "    occupation_deck_paths.sort()\n",
    "    \n",
    "    for occupation_decks_path in occupation_deck_paths: # 大約一天一個字典檔\n",
    "        if \".npy\" in occupation_decks_path: # 如果是.npy檔，就讀進來\n",
    "            d_tmp = np.load(f\"{base_path}/{occupation_decks_path}\", allow_pickle='TRUE').item()\n",
    "            \n",
    "\n",
    "    # row by row 地append\n",
    "    \n",
    "        df_tmp[\"Occupation\"] = occupation\n",
    "        for deck_key in list(d_tmp.keys()):\n",
    "\n",
    "            # Inside first layer\n",
    "            df_tmp[\"Deck_ID\"] = deck_key\n",
    "            df_tmp[\"Deck_URL\"] = d_tmp[deck_key][\"URL\"]\n",
    "            df_tmp[\"Deck_Name\"] = d_tmp[deck_key][\"Deck_Name\"]\n",
    "\n",
    "            df_tmp[\"dust_cost\"] = d_tmp[deck_key][\"dust_cost\"]\n",
    "            df_tmp[\"game_count\"] = d_tmp[deck_key][\"game_count\"]\n",
    "            df_tmp[\"time_duration\"] = d_tmp[deck_key][\"time_duration\"]\n",
    "            df_tmp[\"win_rate\"] = d_tmp[deck_key][\"win_rate\"]\n",
    "\n",
    "            # Inside second layer\n",
    "            for cardID in list(d_tmp[deck_key]['Deck_Composition'].keys()):\n",
    "                if d_tmp[deck_key][\"Deck_Composition\"][cardID][\"IsDuo\"] == 1:\n",
    "                    df_tmp[f\"Card_{cardID}\"] = 2\n",
    "                else:\n",
    "                    df_tmp[f\"Card_{cardID}\"] = 1\n",
    "                    \n",
    "            # append\n",
    "            df_Decks = df_Decks.append(df_tmp)\n",
    "t1 = datetime.datetime.now()\n",
    "print(t1-t0)"
   ]
  },
  {
   "cell_type": "code",
   "execution_count": null,
   "metadata": {},
   "outputs": [],
   "source": []
  }
 ],
 "metadata": {
  "kernelspec": {
   "display_name": "Python 3",
   "language": "python",
   "name": "python3"
  },
  "language_info": {
   "codemirror_mode": {
    "name": "ipython",
    "version": 3
   },
   "file_extension": ".py",
   "mimetype": "text/x-python",
   "name": "python",
   "nbconvert_exporter": "python",
   "pygments_lexer": "ipython3",
   "version": "3.8.3"
  }
 },
 "nbformat": 4,
 "nbformat_minor": 4
}
