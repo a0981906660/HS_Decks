{
 "cells": [
  {
   "cell_type": "code",
   "execution_count": 1,
   "metadata": {},
   "outputs": [],
   "source": [
    "import numpy as np\n",
    "import pandas as pd"
   ]
  },
  {
   "cell_type": "code",
   "execution_count": 2,
   "metadata": {},
   "outputs": [],
   "source": [
    "dh_deck_1206 = np.load(\"Warrior/Warrior_deck_dict_2020-12-06_16-21.npy\", allow_pickle=True).item()\n",
    "dh_deck_1207 = np.load(\"Warrior/Warrior_deck_dict_2020-12-07_12-26.npy\", allow_pickle=True).item()"
   ]
  },
  {
   "cell_type": "code",
   "execution_count": 4,
   "metadata": {},
   "outputs": [
    {
     "data": {
      "text/plain": [
       "{'URL': 'https://hsreplay.net/decks/0tCHPvwBZXSS375UZDVxO/',\n",
       " 'Deck_Name': '炸彈戰',\n",
       " 'Deck_Composition': {57718: {'card_name': '劍盾合璧',\n",
       "   'IsDuo': 1,\n",
       "   'card_URL': 'https://hsreplay.net/cards/57718/'},\n",
       "  511: {'card_name': '升級！',\n",
       "   'IsDuo': 1,\n",
       "   'card_URL': 'https://hsreplay.net/cards/511/'},\n",
       "  636: {'card_name': '旋風斬',\n",
       "   'IsDuo': 'NaN',\n",
       "   'card_URL': 'https://hsreplay.net/cards/636/'},\n",
       "  546: {'card_name': '盾牌猛擊',\n",
       "   'IsDuo': 1,\n",
       "   'card_URL': 'https://hsreplay.net/cards/546/'},\n",
       "  56512: {'card_name': '海盜庫房',\n",
       "   'IsDuo': 1,\n",
       "   'card_URL': 'https://hsreplay.net/cards/56512/'},\n",
       "  56504: {'card_name': '劍刃風暴',\n",
       "   'IsDuo': 1,\n",
       "   'card_URL': 'https://hsreplay.net/cards/56504/'},\n",
       "  59411: {'card_name': '巴羅夫領主',\n",
       "   'IsDuo': 'NaN',\n",
       "   'card_URL': 'https://hsreplay.net/cards/59411/'},\n",
       "  1023: {'card_name': '盾牌格擋',\n",
       "   'IsDuo': 1,\n",
       "   'card_URL': 'https://hsreplay.net/cards/1023/'},\n",
       "  59402: {'card_name': '脅迫',\n",
       "   'IsDuo': 1,\n",
       "   'card_URL': 'https://hsreplay.net/cards/59402/'},\n",
       "  55001: {'card_name': '邪惡陣線軍需官',\n",
       "   'IsDuo': 1,\n",
       "   'card_URL': 'https://hsreplay.net/cards/55001/'},\n",
       "  51738: {'card_name': '大工匠扳手',\n",
       "   'IsDuo': 1,\n",
       "   'card_URL': 'https://hsreplay.net/cards/51738/'},\n",
       "  55400: {'card_name': '寶藏盜掠者',\n",
       "   'IsDuo': 'NaN',\n",
       "   'card_URL': 'https://hsreplay.net/cards/55400/'},\n",
       "  60023: {'card_name': '劈砍課程',\n",
       "   'IsDuo': 1,\n",
       "   'card_URL': 'https://hsreplay.net/cards/60023/'},\n",
       "  59690: {'card_name': '卡斯迪諾夫醫生',\n",
       "   'IsDuo': 'NaN',\n",
       "   'card_URL': 'https://hsreplay.net/cards/59690/'},\n",
       "  75: {'card_name': '鬥毆',\n",
       "   'IsDuo': 1,\n",
       "   'card_URL': 'https://hsreplay.net/cards/75/'},\n",
       "  55907: {'card_name': '克隆克斯‧龍蹄',\n",
       "   'IsDuo': 'NaN',\n",
       "   'card_URL': 'https://hsreplay.net/cards/55907/'},\n",
       "  57413: {'card_name': '『不動冥龍』葛拉克朗',\n",
       "   'IsDuo': 'NaN',\n",
       "   'card_URL': 'https://hsreplay.net/cards/57413/'},\n",
       "  51739: {'card_name': '霹靂至尊爆爆博士',\n",
       "   'IsDuo': 'NaN',\n",
       "   'card_URL': 'https://hsreplay.net/cards/51739/'},\n",
       "  55007: {'card_name': '『瘋狂巨龍』死亡之翼',\n",
       "   'IsDuo': 'NaN',\n",
       "   'card_URL': 'https://hsreplay.net/cards/55007/'}},\n",
       " 'win_rate': '56.9%',\n",
       " 'dust_cost': '12140',\n",
       " 'game_count': '11,000',\n",
       " 'time_duration': '8.6 分鐘'}"
      ]
     },
     "execution_count": 4,
     "metadata": {},
     "output_type": "execute_result"
    }
   ],
   "source": [
    "dh_deck_1206[\"0tCHPvwBZXSS375UZDVxO\"]"
   ]
  },
  {
   "cell_type": "code",
   "execution_count": 5,
   "metadata": {},
   "outputs": [
    {
     "data": {
      "text/plain": [
       "{'URL': 'https://hsreplay.net/decks/0tCHPvwBZXSS375UZDVxO/',\n",
       " 'Deck_Name': '炸彈戰',\n",
       " 'Deck_Composition': {57718: {'card_name': '劍盾合璧',\n",
       "   'IsDuo': 1,\n",
       "   'card_URL': 'https://hsreplay.net/cards/57718/'},\n",
       "  511: {'card_name': '升級！',\n",
       "   'IsDuo': 1,\n",
       "   'card_URL': 'https://hsreplay.net/cards/511/'},\n",
       "  636: {'card_name': '旋風斬',\n",
       "   'IsDuo': 'NaN',\n",
       "   'card_URL': 'https://hsreplay.net/cards/636/'},\n",
       "  546: {'card_name': '盾牌猛擊',\n",
       "   'IsDuo': 1,\n",
       "   'card_URL': 'https://hsreplay.net/cards/546/'},\n",
       "  56512: {'card_name': '海盜庫房',\n",
       "   'IsDuo': 1,\n",
       "   'card_URL': 'https://hsreplay.net/cards/56512/'},\n",
       "  56504: {'card_name': '劍刃風暴',\n",
       "   'IsDuo': 1,\n",
       "   'card_URL': 'https://hsreplay.net/cards/56504/'},\n",
       "  59411: {'card_name': '巴羅夫領主',\n",
       "   'IsDuo': 'NaN',\n",
       "   'card_URL': 'https://hsreplay.net/cards/59411/'},\n",
       "  1023: {'card_name': '盾牌格擋',\n",
       "   'IsDuo': 1,\n",
       "   'card_URL': 'https://hsreplay.net/cards/1023/'},\n",
       "  59402: {'card_name': '脅迫',\n",
       "   'IsDuo': 1,\n",
       "   'card_URL': 'https://hsreplay.net/cards/59402/'},\n",
       "  55001: {'card_name': '邪惡陣線軍需官',\n",
       "   'IsDuo': 1,\n",
       "   'card_URL': 'https://hsreplay.net/cards/55001/'},\n",
       "  51738: {'card_name': '大工匠扳手',\n",
       "   'IsDuo': 1,\n",
       "   'card_URL': 'https://hsreplay.net/cards/51738/'},\n",
       "  55400: {'card_name': '寶藏盜掠者',\n",
       "   'IsDuo': 'NaN',\n",
       "   'card_URL': 'https://hsreplay.net/cards/55400/'},\n",
       "  60023: {'card_name': '劈砍課程',\n",
       "   'IsDuo': 1,\n",
       "   'card_URL': 'https://hsreplay.net/cards/60023/'},\n",
       "  59690: {'card_name': '卡斯迪諾夫醫生',\n",
       "   'IsDuo': 'NaN',\n",
       "   'card_URL': 'https://hsreplay.net/cards/59690/'},\n",
       "  75: {'card_name': '鬥毆',\n",
       "   'IsDuo': 1,\n",
       "   'card_URL': 'https://hsreplay.net/cards/75/'},\n",
       "  55907: {'card_name': '克隆克斯‧龍蹄',\n",
       "   'IsDuo': 'NaN',\n",
       "   'card_URL': 'https://hsreplay.net/cards/55907/'},\n",
       "  57413: {'card_name': '『不動冥龍』葛拉克朗',\n",
       "   'IsDuo': 'NaN',\n",
       "   'card_URL': 'https://hsreplay.net/cards/57413/'},\n",
       "  51739: {'card_name': '霹靂至尊爆爆博士',\n",
       "   'IsDuo': 'NaN',\n",
       "   'card_URL': 'https://hsreplay.net/cards/51739/'},\n",
       "  55007: {'card_name': '『瘋狂巨龍』死亡之翼',\n",
       "   'IsDuo': 'NaN',\n",
       "   'card_URL': 'https://hsreplay.net/cards/55007/'}},\n",
       " 'win_rate': '56.9%',\n",
       " 'dust_cost': '12140',\n",
       " 'game_count': '11,000',\n",
       " 'time_duration': '8.6 分鐘'}"
      ]
     },
     "execution_count": 5,
     "metadata": {},
     "output_type": "execute_result"
    }
   ],
   "source": [
    "dh_deck_1207[\"0tCHPvwBZXSS375UZDVxO\"]"
   ]
  },
  {
   "cell_type": "code",
   "execution_count": null,
   "metadata": {},
   "outputs": [],
   "source": []
  }
 ],
 "metadata": {
  "kernelspec": {
   "display_name": "Python 3",
   "language": "python",
   "name": "python3"
  },
  "language_info": {
   "codemirror_mode": {
    "name": "ipython",
    "version": 3
   },
   "file_extension": ".py",
   "mimetype": "text/x-python",
   "name": "python",
   "nbconvert_exporter": "python",
   "pygments_lexer": "ipython3",
   "version": "3.8.3"
  }
 },
 "nbformat": 4,
 "nbformat_minor": 4
}
