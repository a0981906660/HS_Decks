{
 "cells": [
  {
   "cell_type": "markdown",
   "metadata": {},
   "source": [
    "# Hearth Stone Decker\n",
    "\n",
    "* https://hsreplay.net/decks/"
   ]
  },
  {
   "cell_type": "code",
   "execution_count": 1,
   "metadata": {},
   "outputs": [],
   "source": [
    "import requests\n",
    "from bs4 import BeautifulSoup\n",
    "from selenium import webdriver\n",
    "from selenium.webdriver.support.ui import WebDriverWait\n",
    "from selenium.webdriver.common.keys import Keys\n",
    "from selenium.webdriver.support.ui import Select\n",
    "import pandas as pd\n",
    "import numpy as np\n",
    "import time\n",
    "import re\n",
    "import datetime\n",
    "import sqlite3 as lite\n",
    "import os\n",
    "import random\n",
    "import calendar"
   ]
  },
  {
   "cell_type": "code",
   "execution_count": 2,
   "metadata": {},
   "outputs": [],
   "source": [
    "url = \"https://hsreplay.net/decks/\""
   ]
  },
  {
   "cell_type": "code",
   "execution_count": 4,
   "metadata": {},
   "outputs": [],
   "source": [
    "# Open Browser and open udn library #打開瀏覽器，但不要載入圖片\n",
    "options = webdriver.ChromeOptions()\n",
    "prefs = {\n",
    "    'profile.default_content_setting_values': {\n",
    "        #'images': 2,\n",
    "        #'javascript': 2\n",
    "    }\n",
    "}\n",
    "options.add_experimental_option('prefs', prefs)\n",
    "options.add_experimental_option('prefs', prefs)\n",
    "\n",
    "# 偽裝header\n",
    "user_agent = \"Mozilla/5.0 (Macintosh; Intel Mac OS X 10_13_6) AppleWebKit/605.1.15 (KHTML, like Gecko) Version/12.0.3 Safari/605.1.15\"\n",
    "options.add_argument('--user-agent=%s' % user_agent)\n",
    "# 防止 javascript detect selenium\n",
    "options.add_experimental_option('excludeSwitches', ['enable-automation'])\n",
    "# headless\n",
    "#options.add_argument('-headless')\n",
    "\n",
    "global driver"
   ]
  },
  {
   "cell_type": "code",
   "execution_count": 5,
   "metadata": {},
   "outputs": [
    {
     "name": "stderr",
     "output_type": "stream",
     "text": [
      "<ipython-input-5-240008e0e6e7>:1: DeprecationWarning: executable_path has been deprecated, please pass in a Service object\n",
      "  driver = webdriver.Chrome('/usr/lib/chromium-browser/chromedriver', chrome_options=options)\n",
      "<ipython-input-5-240008e0e6e7>:1: DeprecationWarning: use options instead of chrome_options\n",
      "  driver = webdriver.Chrome('/usr/lib/chromium-browser/chromedriver', chrome_options=options)\n"
     ]
    }
   ],
   "source": [
    "driver = webdriver.Chrome('/usr/lib/chromium-browser/chromedriver', chrome_options=options)"
   ]
  },
  {
   "cell_type": "code",
   "execution_count": 6,
   "metadata": {},
   "outputs": [],
   "source": [
    "driver.get(url)"
   ]
  },
  {
   "cell_type": "markdown",
   "metadata": {},
   "source": [
    "# Deck Dictionary"
   ]
  },
  {
   "cell_type": "code",
   "execution_count": 7,
   "metadata": {},
   "outputs": [],
   "source": [
    "deck_dict = {\n",
    "    \"DemonHunter\" : \"https://hsreplay.net/decks/#playerClasses=DEMONHUNTER\",\n",
    "    \"Druid\" : \"https://hsreplay.net/decks/#playerClasses=DRUID\",\n",
    "    \"Hunter\" : \"https://hsreplay.net/decks/#playerClasses=HUNTER\",\n",
    "    \"Mage\" : \"https://hsreplay.net/decks/#playerClasses=MAGE\",\n",
    "    \"Paladin\" : \"https://hsreplay.net/decks/#playerClasses=PALADIN\",\n",
    "    \"Priest\" : \"https://hsreplay.net/decks/#playerClasses=PRIEST\",\n",
    "    \"Rogue\" : \"https://hsreplay.net/decks/#playerClasses=ROGUE\",\n",
    "    \"Shaman\" : \"https://hsreplay.net/decks/#playerClasses=SHAMAN\",\n",
    "    \"Warlock\" : \"https://hsreplay.net/decks/#playerClasses=WARLOCK\",\n",
    "    \"Warrior\" : \"https://hsreplay.net/decks/#playerClasses=WARRIOR\",\n",
    "}"
   ]
  },
  {
   "cell_type": "code",
   "execution_count": 8,
   "metadata": {},
   "outputs": [],
   "source": [
    "driver.get(deck_dict[\"DemonHunter\"])"
   ]
  },
  {
   "cell_type": "code",
   "execution_count": 9,
   "metadata": {},
   "outputs": [],
   "source": [
    "# 滑到網頁最下方\n",
    "def scroll_down():\n",
    "    SCROLL_PAUSE_TIME = 0.5\n",
    "\n",
    "    # Get scroll height\n",
    "    last_height = driver.execute_script(\"return document.body.scrollHeight\")\n",
    "\n",
    "    while True:\n",
    "        # Scroll down to bottom\n",
    "        driver.execute_script(\"window.scrollTo(0, document.body.scrollHeight);\")\n",
    "\n",
    "        # Wait to load page\n",
    "        time.sleep(SCROLL_PAUSE_TIME)\n",
    "\n",
    "        # Calculate new scroll height and compare with last scroll height\n",
    "        new_height = driver.execute_script(\"return document.body.scrollHeight\")\n",
    "        if new_height == last_height:\n",
    "            break\n",
    "        last_height = new_height"
   ]
  },
  {
   "cell_type": "markdown",
   "metadata": {},
   "source": [
    "### 排組名稱"
   ]
  },
  {
   "cell_type": "code",
   "execution_count": 10,
   "metadata": {},
   "outputs": [
    {
     "name": "stdout",
     "output_type": "stream",
     "text": [
      "Aggro Demon Hunter\n",
      "Soul Demon Hunter\n",
      "Aggro Demon Hunter\n",
      "Soul Demon Hunter\n",
      "Token Demon Hunter\n",
      "Soul Demon Hunter\n",
      "Soul Demon Hunter\n",
      "Aggro Demon Hunter\n",
      "Soul Demon Hunter\n",
      "Aggro Demon Hunter\n",
      "Aggro Demon Hunter\n",
      "Aggro Demon Hunter\n",
      "Soul Demon Hunter\n",
      "Soul Demon Hunter\n",
      "Soul Demon Hunter\n",
      "Aggro Demon Hunter\n",
      "Soul Demon Hunter\n",
      "Lifesteal Demon Hunter\n",
      "18\n"
     ]
    }
   ],
   "source": [
    "scroll_down()\n",
    "i = 0\n",
    "for deck_name in driver.find_elements_by_css_selector(\".deck-name\"):\n",
    "    print(deck_name.text)\n",
    "    i+=1\n",
    "print(i)"
   ]
  },
  {
   "cell_type": "markdown",
   "metadata": {},
   "source": [
    "### win rate"
   ]
  },
  {
   "cell_type": "code",
   "execution_count": 11,
   "metadata": {},
   "outputs": [
    {
     "name": "stdout",
     "output_type": "stream",
     "text": [
      "18\n",
      "61.2%\n",
      "59.3%\n",
      "62.5%\n",
      "59.7%\n",
      "50.5%\n",
      "61.3%\n",
      "61.4%\n",
      "62.2%\n",
      "62.4%\n",
      "61.4%\n",
      "61.3%\n",
      "61.7%\n",
      "59.2%\n",
      "61.4%\n",
      "60.0%\n",
      "53.7%\n",
      "59.8%\n",
      "46.3%\n"
     ]
    }
   ],
   "source": [
    "print(len(driver.find_elements_by_css_selector(\".win-rate\")))\n",
    "for win_rate in driver.find_elements_by_css_selector(\".win-rate\"):\n",
    "    print(win_rate.text)"
   ]
  },
  {
   "cell_type": "markdown",
   "metadata": {},
   "source": [
    "### 組成（第一個牌組）"
   ]
  },
  {
   "cell_type": "code",
   "execution_count": 12,
   "metadata": {},
   "outputs": [],
   "source": [
    "card_list = driver.find_element_by_css_selector(\"ul.card-list\")#.get_attribute(\"href\")"
   ]
  },
  {
   "cell_type": "code",
   "execution_count": 13,
   "metadata": {},
   "outputs": [
    {
     "data": {
      "text/plain": [
       "selenium.webdriver.remote.webelement.WebElement"
      ]
     },
     "execution_count": 13,
     "metadata": {},
     "output_type": "execute_result"
    }
   ],
   "source": [
    "type(card_list)"
   ]
  },
  {
   "cell_type": "code",
   "execution_count": 14,
   "metadata": {},
   "outputs": [
    {
     "data": {
      "text/plain": [
       "'https://hsreplay.net/cards/57182/'"
      ]
     },
     "execution_count": 14,
     "metadata": {},
     "output_type": "execute_result"
    }
   ],
   "source": [
    "card_list.find_element_by_css_selector(\"a\").get_attribute(\"href\")"
   ]
  },
  {
   "cell_type": "code",
   "execution_count": 15,
   "metadata": {},
   "outputs": [
    {
     "name": "stdout",
     "output_type": "stream",
     "text": [
      "https://hsreplay.net/cards/57182/\n",
      "https://hsreplay.net/cards/58972/\n",
      "https://hsreplay.net/cards/59394/\n",
      "https://hsreplay.net/cards/58487/\n",
      "https://hsreplay.net/cards/58610/\n",
      "https://hsreplay.net/cards/55161/\n",
      "https://hsreplay.net/cards/54269/\n",
      "https://hsreplay.net/cards/56928/\n",
      "https://hsreplay.net/cards/57175/\n",
      "https://hsreplay.net/cards/56587/\n",
      "https://hsreplay.net/cards/61898/\n",
      "https://hsreplay.net/cards/59590/\n",
      "https://hsreplay.net/cards/61273/\n",
      "https://hsreplay.net/cards/61133/\n",
      "https://hsreplay.net/cards/61135/\n"
     ]
    }
   ],
   "source": [
    "for card_url in card_list.find_elements_by_css_selector(\"a\"):\n",
    "    print(card_url.get_attribute(\"href\"))"
   ]
  },
  {
   "cell_type": "markdown",
   "metadata": {},
   "source": [
    "### 組成（一個職業全部的牌組）"
   ]
  },
  {
   "cell_type": "code",
   "execution_count": 16,
   "metadata": {},
   "outputs": [],
   "source": [
    "card_list = driver.find_elements_by_css_selector(\"ul.card-list\")#.get_attribute(\"href\")"
   ]
  },
  {
   "cell_type": "code",
   "execution_count": 17,
   "metadata": {},
   "outputs": [
    {
     "name": "stdout",
     "output_type": "stream",
     "text": [
      "https://hsreplay.net/cards/58452/\n",
      "https://hsreplay.net/cards/56928/\n",
      "https://hsreplay.net/cards/59724/\n",
      "https://hsreplay.net/cards/58492/\n",
      "https://hsreplay.net/cards/56791/\n",
      "https://hsreplay.net/cards/59725/\n",
      "https://hsreplay.net/cards/59259/\n",
      "https://hsreplay.net/cards/56583/\n",
      "https://hsreplay.net/cards/61125/\n",
      "https://hsreplay.net/cards/60151/\n",
      "https://hsreplay.net/cards/61136/\n",
      "https://hsreplay.net/cards/58202/\n",
      "https://hsreplay.net/cards/59089/\n",
      "https://hsreplay.net/cards/59732/\n",
      "https://hsreplay.net/cards/58201/\n",
      "https://hsreplay.net/cards/61132/\n",
      "https://hsreplay.net/cards/59727/\n"
     ]
    }
   ],
   "source": [
    "for card_url in card_list[1].find_elements_by_css_selector(\"a\"):\n",
    "    print(card_url.get_attribute(\"href\"))"
   ]
  },
  {
   "cell_type": "markdown",
   "metadata": {},
   "source": [
    "### 抓到特定職業的第一頁的全部牌組的全部牌"
   ]
  },
  {
   "cell_type": "code",
   "execution_count": 18,
   "metadata": {},
   "outputs": [
    {
     "name": "stdout",
     "output_type": "stream",
     "text": [
      "Deck 1\n",
      "https://hsreplay.net/cards/57182/\n",
      "https://hsreplay.net/cards/58972/\n",
      "https://hsreplay.net/cards/59394/\n",
      "https://hsreplay.net/cards/58487/\n",
      "https://hsreplay.net/cards/58610/\n",
      "https://hsreplay.net/cards/55161/\n",
      "https://hsreplay.net/cards/54269/\n",
      "https://hsreplay.net/cards/56928/\n",
      "https://hsreplay.net/cards/57175/\n",
      "https://hsreplay.net/cards/56587/\n",
      "https://hsreplay.net/cards/61898/\n",
      "https://hsreplay.net/cards/59590/\n",
      "https://hsreplay.net/cards/61273/\n",
      "https://hsreplay.net/cards/61133/\n",
      "https://hsreplay.net/cards/61135/\n",
      "Deck 2\n",
      "https://hsreplay.net/cards/58452/\n",
      "https://hsreplay.net/cards/56928/\n",
      "https://hsreplay.net/cards/59724/\n",
      "https://hsreplay.net/cards/58492/\n",
      "https://hsreplay.net/cards/56791/\n",
      "https://hsreplay.net/cards/59725/\n",
      "https://hsreplay.net/cards/59259/\n",
      "https://hsreplay.net/cards/56583/\n",
      "https://hsreplay.net/cards/61125/\n",
      "https://hsreplay.net/cards/60151/\n",
      "https://hsreplay.net/cards/61136/\n",
      "https://hsreplay.net/cards/58202/\n",
      "https://hsreplay.net/cards/59089/\n",
      "https://hsreplay.net/cards/59732/\n",
      "https://hsreplay.net/cards/58201/\n",
      "https://hsreplay.net/cards/61132/\n",
      "https://hsreplay.net/cards/59727/\n",
      "Deck 3\n",
      "https://hsreplay.net/cards/57182/\n",
      "https://hsreplay.net/cards/58972/\n",
      "https://hsreplay.net/cards/59394/\n",
      "https://hsreplay.net/cards/58487/\n",
      "https://hsreplay.net/cards/55161/\n",
      "https://hsreplay.net/cards/54269/\n",
      "https://hsreplay.net/cards/56928/\n",
      "https://hsreplay.net/cards/57175/\n",
      "https://hsreplay.net/cards/61898/\n",
      "https://hsreplay.net/cards/60043/\n",
      "https://hsreplay.net/cards/59590/\n",
      "https://hsreplay.net/cards/61133/\n",
      "https://hsreplay.net/cards/61135/\n",
      "https://hsreplay.net/cards/56652/\n",
      "https://hsreplay.net/cards/60278/\n",
      "https://hsreplay.net/cards/58201/\n",
      "Deck 4\n",
      "https://hsreplay.net/cards/56928/\n",
      "https://hsreplay.net/cards/59724/\n",
      "https://hsreplay.net/cards/58492/\n",
      "https://hsreplay.net/cards/56791/\n",
      "https://hsreplay.net/cards/58453/\n",
      "https://hsreplay.net/cards/59259/\n",
      "https://hsreplay.net/cards/59646/\n",
      "https://hsreplay.net/cards/56583/\n",
      "https://hsreplay.net/cards/61125/\n",
      "https://hsreplay.net/cards/60151/\n",
      "https://hsreplay.net/cards/61136/\n",
      "https://hsreplay.net/cards/58202/\n",
      "https://hsreplay.net/cards/59089/\n",
      "https://hsreplay.net/cards/59732/\n",
      "https://hsreplay.net/cards/58201/\n",
      "https://hsreplay.net/cards/61132/\n",
      "Deck 5\n",
      "https://hsreplay.net/cards/56739/\n",
      "https://hsreplay.net/cards/58487/\n",
      "https://hsreplay.net/cards/56928/\n",
      "https://hsreplay.net/cards/56587/\n",
      "https://hsreplay.net/cards/56791/\n",
      "https://hsreplay.net/cards/56973/\n",
      "https://hsreplay.net/cards/56873/\n",
      "https://hsreplay.net/cards/56792/\n",
      "https://hsreplay.net/cards/59710/\n",
      "https://hsreplay.net/cards/58489/\n",
      "https://hsreplay.net/cards/58183/\n",
      "https://hsreplay.net/cards/56652/\n",
      "https://hsreplay.net/cards/58524/\n",
      "https://hsreplay.net/cards/56841/\n",
      "https://hsreplay.net/cards/58494/\n",
      "https://hsreplay.net/cards/58172/\n",
      "Deck 6\n",
      "https://hsreplay.net/cards/58452/\n",
      "https://hsreplay.net/cards/56928/\n",
      "https://hsreplay.net/cards/59724/\n",
      "https://hsreplay.net/cards/58492/\n",
      "https://hsreplay.net/cards/56791/\n",
      "https://hsreplay.net/cards/59725/\n",
      "https://hsreplay.net/cards/59259/\n",
      "https://hsreplay.net/cards/59646/\n",
      "https://hsreplay.net/cards/56583/\n",
      "https://hsreplay.net/cards/60151/\n",
      "https://hsreplay.net/cards/58202/\n",
      "https://hsreplay.net/cards/55400/\n",
      "https://hsreplay.net/cards/59089/\n",
      "https://hsreplay.net/cards/58494/\n",
      "https://hsreplay.net/cards/59732/\n",
      "https://hsreplay.net/cards/58201/\n",
      "https://hsreplay.net/cards/59727/\n",
      "Deck 7\n",
      "https://hsreplay.net/cards/58452/\n",
      "https://hsreplay.net/cards/59039/\n",
      "https://hsreplay.net/cards/56928/\n",
      "https://hsreplay.net/cards/59724/\n",
      "https://hsreplay.net/cards/58492/\n",
      "https://hsreplay.net/cards/56791/\n",
      "https://hsreplay.net/cards/59725/\n",
      "https://hsreplay.net/cards/59259/\n",
      "https://hsreplay.net/cards/59646/\n",
      "https://hsreplay.net/cards/56583/\n",
      "https://hsreplay.net/cards/60151/\n",
      "https://hsreplay.net/cards/56652/\n",
      "https://hsreplay.net/cards/58202/\n",
      "https://hsreplay.net/cards/59089/\n",
      "https://hsreplay.net/cards/59732/\n",
      "https://hsreplay.net/cards/58201/\n",
      "https://hsreplay.net/cards/59727/\n",
      "Deck 8\n",
      "https://hsreplay.net/cards/57182/\n",
      "https://hsreplay.net/cards/58972/\n",
      "https://hsreplay.net/cards/59394/\n",
      "https://hsreplay.net/cards/58487/\n",
      "https://hsreplay.net/cards/58610/\n",
      "https://hsreplay.net/cards/55161/\n",
      "https://hsreplay.net/cards/58170/\n",
      "https://hsreplay.net/cards/54269/\n",
      "https://hsreplay.net/cards/56928/\n",
      "https://hsreplay.net/cards/57175/\n",
      "https://hsreplay.net/cards/61898/\n",
      "https://hsreplay.net/cards/59590/\n",
      "https://hsreplay.net/cards/61273/\n",
      "https://hsreplay.net/cards/61133/\n",
      "https://hsreplay.net/cards/61135/\n",
      "Deck 9\n",
      "https://hsreplay.net/cards/58452/\n",
      "https://hsreplay.net/cards/56928/\n",
      "https://hsreplay.net/cards/59724/\n",
      "https://hsreplay.net/cards/58492/\n",
      "https://hsreplay.net/cards/56791/\n",
      "https://hsreplay.net/cards/59725/\n",
      "https://hsreplay.net/cards/59259/\n",
      "https://hsreplay.net/cards/59646/\n",
      "https://hsreplay.net/cards/56583/\n",
      "https://hsreplay.net/cards/61125/\n",
      "https://hsreplay.net/cards/60151/\n",
      "https://hsreplay.net/cards/59089/\n",
      "https://hsreplay.net/cards/59732/\n",
      "https://hsreplay.net/cards/58201/\n",
      "https://hsreplay.net/cards/61132/\n",
      "Deck 10\n",
      "https://hsreplay.net/cards/57182/\n",
      "https://hsreplay.net/cards/59394/\n",
      "https://hsreplay.net/cards/58487/\n",
      "https://hsreplay.net/cards/58610/\n",
      "https://hsreplay.net/cards/55161/\n",
      "https://hsreplay.net/cards/54269/\n",
      "https://hsreplay.net/cards/56928/\n",
      "https://hsreplay.net/cards/56587/\n",
      "https://hsreplay.net/cards/61898/\n",
      "https://hsreplay.net/cards/60043/\n",
      "https://hsreplay.net/cards/59590/\n",
      "https://hsreplay.net/cards/61125/\n",
      "https://hsreplay.net/cards/61273/\n",
      "https://hsreplay.net/cards/61133/\n",
      "https://hsreplay.net/cards/61135/\n",
      "https://hsreplay.net/cards/58202/\n",
      "Deck 11\n",
      "https://hsreplay.net/cards/57182/\n",
      "https://hsreplay.net/cards/58972/\n",
      "https://hsreplay.net/cards/59394/\n",
      "https://hsreplay.net/cards/58487/\n",
      "https://hsreplay.net/cards/58610/\n",
      "https://hsreplay.net/cards/55161/\n",
      "https://hsreplay.net/cards/58170/\n",
      "https://hsreplay.net/cards/56928/\n",
      "https://hsreplay.net/cards/57175/\n",
      "https://hsreplay.net/cards/56587/\n",
      "https://hsreplay.net/cards/61128/\n",
      "https://hsreplay.net/cards/61898/\n",
      "https://hsreplay.net/cards/59590/\n",
      "https://hsreplay.net/cards/58453/\n",
      "https://hsreplay.net/cards/61133/\n",
      "https://hsreplay.net/cards/61135/\n",
      "Deck 12\n",
      "https://hsreplay.net/cards/57182/\n",
      "https://hsreplay.net/cards/58972/\n",
      "https://hsreplay.net/cards/59394/\n",
      "https://hsreplay.net/cards/58487/\n",
      "https://hsreplay.net/cards/58610/\n",
      "https://hsreplay.net/cards/55161/\n",
      "https://hsreplay.net/cards/54269/\n",
      "https://hsreplay.net/cards/56928/\n",
      "https://hsreplay.net/cards/57175/\n",
      "https://hsreplay.net/cards/56587/\n",
      "https://hsreplay.net/cards/61898/\n",
      "https://hsreplay.net/cards/59590/\n",
      "https://hsreplay.net/cards/61273/\n",
      "https://hsreplay.net/cards/61133/\n",
      "https://hsreplay.net/cards/61135/\n",
      "https://hsreplay.net/cards/58202/\n",
      "Deck 13\n",
      "https://hsreplay.net/cards/58452/\n",
      "https://hsreplay.net/cards/56928/\n",
      "https://hsreplay.net/cards/59724/\n",
      "https://hsreplay.net/cards/58492/\n",
      "https://hsreplay.net/cards/56791/\n",
      "https://hsreplay.net/cards/59725/\n",
      "https://hsreplay.net/cards/59259/\n",
      "https://hsreplay.net/cards/59646/\n",
      "https://hsreplay.net/cards/56583/\n",
      "https://hsreplay.net/cards/60151/\n",
      "https://hsreplay.net/cards/61136/\n",
      "https://hsreplay.net/cards/58202/\n",
      "https://hsreplay.net/cards/59089/\n",
      "https://hsreplay.net/cards/59732/\n",
      "https://hsreplay.net/cards/58201/\n",
      "https://hsreplay.net/cards/61132/\n",
      "https://hsreplay.net/cards/59727/\n",
      "Deck 14\n",
      "https://hsreplay.net/cards/59039/\n",
      "https://hsreplay.net/cards/56928/\n",
      "https://hsreplay.net/cards/59724/\n",
      "https://hsreplay.net/cards/58492/\n",
      "https://hsreplay.net/cards/56791/\n",
      "https://hsreplay.net/cards/59725/\n",
      "https://hsreplay.net/cards/59259/\n",
      "https://hsreplay.net/cards/59646/\n",
      "https://hsreplay.net/cards/56583/\n",
      "https://hsreplay.net/cards/60151/\n",
      "https://hsreplay.net/cards/61136/\n",
      "https://hsreplay.net/cards/58202/\n",
      "https://hsreplay.net/cards/59089/\n",
      "https://hsreplay.net/cards/59732/\n",
      "https://hsreplay.net/cards/58201/\n",
      "https://hsreplay.net/cards/61132/\n",
      "https://hsreplay.net/cards/59727/\n",
      "Deck 15\n",
      "https://hsreplay.net/cards/56928/\n",
      "https://hsreplay.net/cards/59724/\n",
      "https://hsreplay.net/cards/58492/\n",
      "https://hsreplay.net/cards/56791/\n",
      "https://hsreplay.net/cards/59725/\n",
      "https://hsreplay.net/cards/59259/\n",
      "https://hsreplay.net/cards/59646/\n",
      "https://hsreplay.net/cards/56583/\n",
      "https://hsreplay.net/cards/61125/\n",
      "https://hsreplay.net/cards/60151/\n",
      "https://hsreplay.net/cards/61136/\n",
      "https://hsreplay.net/cards/58202/\n",
      "https://hsreplay.net/cards/59089/\n",
      "https://hsreplay.net/cards/59732/\n",
      "https://hsreplay.net/cards/58201/\n",
      "https://hsreplay.net/cards/61132/\n",
      "https://hsreplay.net/cards/59727/\n",
      "Deck 16\n",
      "https://hsreplay.net/cards/724/\n",
      "https://hsreplay.net/cards/58972/\n",
      "https://hsreplay.net/cards/59394/\n",
      "https://hsreplay.net/cards/58487/\n",
      "https://hsreplay.net/cards/55161/\n",
      "https://hsreplay.net/cards/54269/\n",
      "https://hsreplay.net/cards/56928/\n",
      "https://hsreplay.net/cards/658/\n",
      "https://hsreplay.net/cards/56587/\n",
      "https://hsreplay.net/cards/54259/\n",
      "https://hsreplay.net/cards/61898/\n",
      "https://hsreplay.net/cards/59590/\n",
      "https://hsreplay.net/cards/61273/\n",
      "https://hsreplay.net/cards/61133/\n",
      "https://hsreplay.net/cards/61135/\n",
      "Deck 17\n",
      "https://hsreplay.net/cards/56928/\n",
      "https://hsreplay.net/cards/59724/\n",
      "https://hsreplay.net/cards/58492/\n",
      "https://hsreplay.net/cards/56791/\n",
      "https://hsreplay.net/cards/59725/\n",
      "https://hsreplay.net/cards/59259/\n",
      "https://hsreplay.net/cards/61269/\n",
      "https://hsreplay.net/cards/56583/\n",
      "https://hsreplay.net/cards/61125/\n",
      "https://hsreplay.net/cards/60151/\n",
      "https://hsreplay.net/cards/61136/\n",
      "https://hsreplay.net/cards/58202/\n",
      "https://hsreplay.net/cards/59089/\n",
      "https://hsreplay.net/cards/59732/\n",
      "https://hsreplay.net/cards/58201/\n",
      "https://hsreplay.net/cards/61132/\n",
      "https://hsreplay.net/cards/59727/\n",
      "Deck 18\n",
      "https://hsreplay.net/cards/57184/\n",
      "https://hsreplay.net/cards/58452/\n",
      "https://hsreplay.net/cards/56928/\n",
      "https://hsreplay.net/cards/59726/\n",
      "https://hsreplay.net/cards/61127/\n",
      "https://hsreplay.net/cards/53756/\n",
      "https://hsreplay.net/cards/58492/\n",
      "https://hsreplay.net/cards/56791/\n",
      "https://hsreplay.net/cards/59869/\n",
      "https://hsreplay.net/cards/57193/\n",
      "https://hsreplay.net/cards/749/\n",
      "https://hsreplay.net/cards/58453/\n",
      "https://hsreplay.net/cards/56583/\n",
      "https://hsreplay.net/cards/61273/\n",
      "https://hsreplay.net/cards/58183/\n",
      "https://hsreplay.net/cards/61136/\n",
      "https://hsreplay.net/cards/56765/\n",
      "https://hsreplay.net/cards/58201/\n"
     ]
    }
   ],
   "source": [
    "j = 0\n",
    "deck_list = driver.find_elements_by_css_selector(\"ul.card-list\")\n",
    "for deck in deck_list:\n",
    "    j+=1\n",
    "    print(f\"Deck {j}\")\n",
    "    for card_url in deck.find_elements_by_css_selector(\"a\"):\n",
    "        print(card_url.get_attribute(\"href\"))"
   ]
  },
  {
   "cell_type": "markdown",
   "metadata": {},
   "source": [
    "# Define Function"
   ]
  },
  {
   "cell_type": "code",
   "execution_count": null,
   "metadata": {},
   "outputs": [],
   "source": [
    "#def getDeck(deck_class = \"DemonHunter\", ):\n",
    "for k in range(1, 7):\n",
    "    url = deck_dict[deck_class]+f\"&page={k}\"\n",
    "    print(url)"
   ]
  }
 ],
 "metadata": {
  "kernelspec": {
   "display_name": "Python 3",
   "language": "python",
   "name": "python3"
  },
  "language_info": {
   "codemirror_mode": {
    "name": "ipython",
    "version": 3
   },
   "file_extension": ".py",
   "mimetype": "text/x-python",
   "name": "python",
   "nbconvert_exporter": "python",
   "pygments_lexer": "ipython3",
   "version": "3.8.6"
  }
 },
 "nbformat": 4,
 "nbformat_minor": 4
}
