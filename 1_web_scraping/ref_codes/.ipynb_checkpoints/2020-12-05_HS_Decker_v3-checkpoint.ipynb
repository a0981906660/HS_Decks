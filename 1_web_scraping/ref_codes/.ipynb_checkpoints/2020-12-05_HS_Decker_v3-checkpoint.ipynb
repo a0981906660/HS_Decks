{
 "cells": [
  {
   "cell_type": "markdown",
   "metadata": {},
   "source": [
    "# Hearth Stone Decker\n",
    "\n",
    "* https://hsreplay.net/decks/"
   ]
  },
  {
   "cell_type": "code",
   "execution_count": 1,
   "metadata": {},
   "outputs": [],
   "source": [
    "import requests\n",
    "from bs4 import BeautifulSoup\n",
    "from selenium import webdriver\n",
    "from selenium.webdriver.support.ui import WebDriverWait\n",
    "from selenium.webdriver.common.keys import Keys\n",
    "from selenium.webdriver.support.ui import Select\n",
    "import pandas as pd\n",
    "import numpy as np\n",
    "import time\n",
    "import re\n",
    "import datetime\n",
    "import sqlite3 as lite\n",
    "import os\n",
    "import random\n",
    "import calendar"
   ]
  },
  {
   "cell_type": "code",
   "execution_count": 2,
   "metadata": {},
   "outputs": [],
   "source": [
    "url = \"https://hsreplay.net/decks/\""
   ]
  },
  {
   "cell_type": "code",
   "execution_count": 3,
   "metadata": {},
   "outputs": [],
   "source": [
    "# Open Browser and open udn library #打開瀏覽器，但不要載入圖片\n",
    "options = webdriver.ChromeOptions()\n",
    "prefs = {\n",
    "    'profile.default_content_setting_values': {\n",
    "        #'images': 2,\n",
    "        #'javascript': 2\n",
    "    }\n",
    "}\n",
    "options.add_experimental_option('prefs', prefs)\n",
    "options.add_experimental_option('prefs', prefs)\n",
    "\n",
    "# 偽裝header\n",
    "user_agent = \"Mozilla/5.0 (Macintosh; Intel Mac OS X 10_13_6) AppleWebKit/605.1.15 (KHTML, like Gecko) Version/12.0.3 Safari/605.1.15\"\n",
    "options.add_argument('--user-agent=%s' % user_agent)\n",
    "# 防止 javascript detect selenium\n",
    "options.add_experimental_option('excludeSwitches', ['enable-automation'])\n",
    "# headless\n",
    "#options.add_argument('-headless')\n",
    "\n",
    "global driver"
   ]
  },
  {
   "cell_type": "code",
   "execution_count": 4,
   "metadata": {},
   "outputs": [
    {
     "name": "stderr",
     "output_type": "stream",
     "text": [
      "<ipython-input-4-240008e0e6e7>:1: DeprecationWarning: executable_path has been deprecated, please pass in a Service object\n",
      "  driver = webdriver.Chrome('/usr/lib/chromium-browser/chromedriver', chrome_options=options)\n",
      "<ipython-input-4-240008e0e6e7>:1: DeprecationWarning: use options instead of chrome_options\n",
      "  driver = webdriver.Chrome('/usr/lib/chromium-browser/chromedriver', chrome_options=options)\n"
     ]
    }
   ],
   "source": [
    "driver = webdriver.Chrome('/usr/lib/chromium-browser/chromedriver', chrome_options=options)"
   ]
  },
  {
   "cell_type": "code",
   "execution_count": 5,
   "metadata": {},
   "outputs": [],
   "source": [
    "driver.get(url)"
   ]
  },
  {
   "cell_type": "markdown",
   "metadata": {},
   "source": [
    "# Deck Dictionary"
   ]
  },
  {
   "cell_type": "code",
   "execution_count": 6,
   "metadata": {},
   "outputs": [],
   "source": [
    "deck_dict = {\n",
    "    \"DemonHunter\" : \"https://hsreplay.net/decks/#playerClasses=DEMONHUNTER\",\n",
    "    \"Druid\" : \"https://hsreplay.net/decks/#playerClasses=DRUID\",\n",
    "    \"Hunter\" : \"https://hsreplay.net/decks/#playerClasses=HUNTER\",\n",
    "    \"Mage\" : \"https://hsreplay.net/decks/#playerClasses=MAGE\",\n",
    "    \"Paladin\" : \"https://hsreplay.net/decks/#playerClasses=PALADIN\",\n",
    "    \"Priest\" : \"https://hsreplay.net/decks/#playerClasses=PRIEST\",\n",
    "    \"Rogue\" : \"https://hsreplay.net/decks/#playerClasses=ROGUE\",\n",
    "    \"Shaman\" : \"https://hsreplay.net/decks/#playerClasses=SHAMAN\",\n",
    "    \"Warlock\" : \"https://hsreplay.net/decks/#playerClasses=WARLOCK\",\n",
    "    \"Warrior\" : \"https://hsreplay.net/decks/#playerClasses=WARRIOR\",\n",
    "}"
   ]
  },
  {
   "cell_type": "code",
   "execution_count": 7,
   "metadata": {},
   "outputs": [],
   "source": [
    "driver.get(deck_dict[\"DemonHunter\"])"
   ]
  },
  {
   "cell_type": "code",
   "execution_count": 8,
   "metadata": {},
   "outputs": [],
   "source": [
    "# 滑到網頁最下方\n",
    "def scroll_down():\n",
    "    SCROLL_PAUSE_TIME = 0.5\n",
    "\n",
    "    # Get scroll height\n",
    "    last_height = driver.execute_script(\"return document.body.scrollHeight\")\n",
    "\n",
    "    while True:\n",
    "        # Scroll down to bottom\n",
    "        driver.execute_script(\"window.scrollTo(0, document.body.scrollHeight);\")\n",
    "\n",
    "        # Wait to load page\n",
    "        time.sleep(SCROLL_PAUSE_TIME)\n",
    "\n",
    "        # Calculate new scroll height and compare with last scroll height\n",
    "        new_height = driver.execute_script(\"return document.body.scrollHeight\")\n",
    "        if new_height == last_height:\n",
    "            break\n",
    "        last_height = new_height"
   ]
  },
  {
   "cell_type": "markdown",
   "metadata": {},
   "source": [
    "### 拿牌組的key \n",
    "\n",
    "因為名稱不唯一，而一個牌組是由其內的牌來組成的，所以拿key比拿名稱重要。\n",
    "名稱就只是這個牌組的一個feature而已"
   ]
  },
  {
   "cell_type": "code",
   "execution_count": 264,
   "metadata": {},
   "outputs": [],
   "source": [
    "# Load\n",
    "scroll_down()\n",
    "\n",
    "DemonHunter_deck_dict = {}\n",
    "\n",
    "# get keys (every 18 in 1 page, for 12 pages)\n",
    "for deck_key in driver.find_elements_by_partial_link_text(\"Demon Hunter\"):\n",
    "    #print(deck_key.get_attribute(\"href\"))\n",
    "    href = deck_key.get_attribute(\"href\")\n",
    "    key = href.split(\"/\")[-2]\n",
    "    DemonHunter_deck_dict[key] = {\"URL\" : href}"
   ]
  },
  {
   "cell_type": "code",
   "execution_count": 265,
   "metadata": {},
   "outputs": [
    {
     "data": {
      "text/plain": [
       "{'kyCUK1H2Y5wtS52RdFQLXb': {'URL': 'https://hsreplay.net/decks/kyCUK1H2Y5wtS52RdFQLXb/'},\n",
       " 'wKwIEzbviVLvEj6pEP4Coe': {'URL': 'https://hsreplay.net/decks/wKwIEzbviVLvEj6pEP4Coe/'},\n",
       " 'DqUe87qVw99Dso2poGdBif': {'URL': 'https://hsreplay.net/decks/DqUe87qVw99Dso2poGdBif/'},\n",
       " 'QWLOmOj7uYAGtA5hzIVrTe': {'URL': 'https://hsreplay.net/decks/QWLOmOj7uYAGtA5hzIVrTe/'},\n",
       " '4aChHKfoy145otte4P8r1f': {'URL': 'https://hsreplay.net/decks/4aChHKfoy145otte4P8r1f/'},\n",
       " 'nsEeXHKmqGKVT1yjrULMUe': {'URL': 'https://hsreplay.net/decks/nsEeXHKmqGKVT1yjrULMUe/'},\n",
       " 'E2oVtowA2KLswjWDSBERog': {'URL': 'https://hsreplay.net/decks/E2oVtowA2KLswjWDSBERog/'},\n",
       " 'wRHNhCjTRm0eEjtMrsWGod': {'URL': 'https://hsreplay.net/decks/wRHNhCjTRm0eEjtMrsWGod/'},\n",
       " 'zx3oqTdpYeRHgRE5Xpp7Dh': {'URL': 'https://hsreplay.net/decks/zx3oqTdpYeRHgRE5Xpp7Dh/'},\n",
       " 'YwB5GcKa0OMN33KGxBZpEb': {'URL': 'https://hsreplay.net/decks/YwB5GcKa0OMN33KGxBZpEb/'},\n",
       " '6rxb2ldIwEkkCVfOePXaJe': {'URL': 'https://hsreplay.net/decks/6rxb2ldIwEkkCVfOePXaJe/'},\n",
       " 'ZRJhHAU9UH2cm9lTVrk40g': {'URL': 'https://hsreplay.net/decks/ZRJhHAU9UH2cm9lTVrk40g/'},\n",
       " 'U9QYIcBtyNc9ACDnHuYeag': {'URL': 'https://hsreplay.net/decks/U9QYIcBtyNc9ACDnHuYeag/'},\n",
       " 'qwIv9zIkHdPUpBYepOWr2b': {'URL': 'https://hsreplay.net/decks/qwIv9zIkHdPUpBYepOWr2b/'},\n",
       " 'LPYOFoERHopXhuoJRjphzf': {'URL': 'https://hsreplay.net/decks/LPYOFoERHopXhuoJRjphzf/'},\n",
       " '7yGzixym8NNXaxhDhFVvbf': {'URL': 'https://hsreplay.net/decks/7yGzixym8NNXaxhDhFVvbf/'},\n",
       " 'MOwmFPm6uwNqlCiEvd2wnc': {'URL': 'https://hsreplay.net/decks/MOwmFPm6uwNqlCiEvd2wnc/'},\n",
       " '1QVpOw0BCQjZM4JZyrsoNb': {'URL': 'https://hsreplay.net/decks/1QVpOw0BCQjZM4JZyrsoNb/'}}"
      ]
     },
     "execution_count": 265,
     "metadata": {},
     "output_type": "execute_result"
    }
   ],
   "source": [
    "DemonHunter_deck_dict"
   ]
  },
  {
   "cell_type": "markdown",
   "metadata": {},
   "source": [
    "### 拿到牌組的其他feature\n",
    "\n",
    "1. Name\n",
    "\n",
    "2. Composition (1 or 2 cards)\n",
    "\n",
    "3. Card URL\n",
    "\n",
    "4. Overall Win Rate\n",
    "\n",
    "5. 合成成本 (表示土豪程度)\n",
    "\n",
    "6. 已遊玩的局數 (表示熱門程度)\n",
    "\n",
    "7. 遊戲持續時間 (表示節奏)"
   ]
  },
  {
   "cell_type": "markdown",
   "metadata": {},
   "source": [
    "soup = BeautifulSoup(driver.page_source, 'lxml')"
   ]
  },
  {
   "cell_type": "markdown",
   "metadata": {},
   "source": [
    "len(soup.select(\".row\"))"
   ]
  },
  {
   "cell_type": "markdown",
   "metadata": {},
   "source": [
    "先棄用\n",
    "```python\n",
    "# row 1~18 是牌組\n",
    "\n",
    "# Name\n",
    "soup.select(\".row\")[1].h3.text\n",
    "\n",
    "### Composition\n",
    "\n",
    "# Card Name\n",
    "soup.select(\".row\")[2].text\n",
    "# Num of Cards\n",
    "soup.select(\".row\")[2].text\n",
    "```"
   ]
  },
  {
   "cell_type": "markdown",
   "metadata": {},
   "source": [
    "```python\n",
    "# get deck names\n",
    "deck_names = []\n",
    "for deck_name in driver.find_elements_by_css_selector(\".deck-name\"):\n",
    "    #print(deck_name.text)\n",
    "    deck_names.append(deck_name.text)\n",
    "```"
   ]
  },
  {
   "cell_type": "markdown",
   "metadata": {},
   "source": [
    "### 寫成對於第一頁中的第i個牌組（一頁有18個牌組）"
   ]
  },
  {
   "cell_type": "markdown",
   "metadata": {},
   "source": [
    "```python\n",
    "soup = BeautifulSoup(driver.page_source, 'lxml')\n",
    "for i in range(0,18):\n",
    "    keyname = list(DemonHunter_deck_dict.keys())[i]\n",
    "\n",
    "    # get deck names\n",
    "    deck_name = driver.find_elements_by_css_selector(\".deck-name\")[i]\n",
    "        #print(deck_name.text)\n",
    "    DemonHunter_deck_dict[keyname][\"Deck_Name\"] = deck_name.text\n",
    "\n",
    "    # Get Card Compositions\n",
    "    DemonHunter_deck_dict[keyname][\"Deck_Composition\"] = {}\n",
    "    card_list = driver.find_elements_by_css_selector(\"ul.card-list\")[i].find_elements_by_css_selector(\"a\")\n",
    "    for j in range(len(card_list)): #從第一張卡到最後一張卡\n",
    "        #print(card_url.get_attribute(\"href\"))\n",
    "        card_url = card_list[j].get_attribute(\"href\")\n",
    "        DemonHunter_deck_dict[keyname][\"Deck_Composition\"][card_url] = soup.select(\"ul.card-list\")[i].select(\".card-icon\")[j][\"aria-label\"]\n",
    "        \n",
    "\n",
    "#     # 張數 #注意這是只有第一個牌組的組成，還沒有抓剩下17個\n",
    "#     for card_icon in driver.find_element_by_css_selector(\"ul.card-list\").find_elements_by_css_selector(\".card-icon\"):\n",
    "#         print(card_icon.text)\n",
    "```"
   ]
  },
  {
   "cell_type": "code",
   "execution_count": 224,
   "metadata": {},
   "outputs": [
    {
     "data": {
      "text/plain": [
       "{'URL': 'https://hsreplay.net/decks/kyCUK1H2Y5wtS52RdFQLXb/',\n",
       " 'Deck_Name': 'Aggro Demon Hunter',\n",
       " 'Deck_Composition': {'https://hsreplay.net/cards/57182/': '守護者強化商人 ×2',\n",
       "  'https://hsreplay.net/cards/58972/': '強悍的新生 ×2',\n",
       "  'https://hsreplay.net/cards/59394/': '惡魔夥伴 ×2',\n",
       "  'https://hsreplay.net/cards/58487/': '戰鬥犬魔 ×2',\n",
       "  'https://hsreplay.net/cards/58610/': '法力燃燒 ×2',\n",
       "  'https://hsreplay.net/cards/55161/': '烈焰戰鬥法師 ×2',\n",
       "  'https://hsreplay.net/cards/54269/': '開朗小幫手 ×2',\n",
       "  'https://hsreplay.net/cards/56928/': '雙刃斬 ×2',\n",
       "  'https://hsreplay.net/cards/57175/': '噬骨打鬥者 ×2',\n",
       "  'https://hsreplay.net/cards/56587/': '幽暗之翼 ×2',\n",
       "  'https://hsreplay.net/cards/61898/': '蠕動懼怪 ×2',\n",
       "  'https://hsreplay.net/cards/59590/': '閱讀狂 ×2',\n",
       "  'https://hsreplay.net/cards/61273/': '空中特技 ×2',\n",
       "  'https://hsreplay.net/cards/61133/': '驚懼領主之噬 ×2',\n",
       "  'https://hsreplay.net/cards/61135/': '高蹺手 ×2'}}"
      ]
     },
     "execution_count": 224,
     "metadata": {},
     "output_type": "execute_result"
    }
   ],
   "source": [
    "DemonHunter_deck_dict[\"kyCUK1H2Y5wtS52RdFQLXb\"]"
   ]
  },
  {
   "cell_type": "markdown",
   "metadata": {},
   "source": [
    "### 更好的存法\n",
    "\n",
    "```python\n",
    "\"Deck_Composition\" : {\n",
    "    58972 : {\n",
    "        \"duo\" : True, #表達是否放兩張，用1存是\n",
    "        \"card_name\" : \"守護者強化商人\"\n",
    "    }\n",
    "}\n",
    "\n",
    "```"
   ]
  },
  {
   "cell_type": "code",
   "execution_count": 267,
   "metadata": {},
   "outputs": [],
   "source": [
    "soup = BeautifulSoup(driver.page_source, 'lxml')\n",
    "for i in range(0,18):\n",
    "    keyname = list(DemonHunter_deck_dict.keys())[i]\n",
    "\n",
    "    # get deck names\n",
    "    deck_name = driver.find_elements_by_css_selector(\".deck-name\")[i]\n",
    "    DemonHunter_deck_dict[keyname][\"Deck_Name\"] = deck_name.text\n",
    "\n",
    "    # Get Card Compositions\n",
    "    DemonHunter_deck_dict[keyname][\"Deck_Composition\"] = {}\n",
    "    card_list = driver.find_elements_by_css_selector(\"ul.card-list\")[i].find_elements_by_css_selector(\"a\")\n",
    "    #Key for Cards\n",
    "    card_urls = [card_url.get_attribute(\"href\") for card_url in card_list]\n",
    "    card_keys = [int(k.split(\"/\")[-2]) for k in card_urls]\n",
    "    \n",
    "    for j in range(len(card_keys)): #從第一張卡到最後一張卡\n",
    "        name_num_str = soup.select(\"ul.card-list\")[i].select(\".card-icon\")[j][\"aria-label\"]\n",
    "        card_name = name_num_str.split()[0]\n",
    "        if name_num_str.split()[-1] == \"★\":\n",
    "            IsDuo = 0\n",
    "        if name_num_str.split()[-1] == \"×2\":\n",
    "            IsDuo = 1\n",
    "        \n",
    "        DemonHunter_deck_dict[keyname][\"Deck_Composition\"][card_keys[j]] = {\n",
    "            \"card_name\" : card_name,\n",
    "            \"IsDuo\" : IsDuo,\n",
    "            \"card_URL\" : card_urls[j],\n",
    "        }"
   ]
  },
  {
   "cell_type": "code",
   "execution_count": 272,
   "metadata": {},
   "outputs": [
    {
     "data": {
      "text/plain": [
       "{57182: {'card_name': '守護者強化商人',\n",
       "  'IsDuo': 1,\n",
       "  'card_URL': 'https://hsreplay.net/cards/57182/'},\n",
       " 58972: {'card_name': '強悍的新生',\n",
       "  'IsDuo': 1,\n",
       "  'card_URL': 'https://hsreplay.net/cards/58972/'},\n",
       " 59394: {'card_name': '惡魔夥伴',\n",
       "  'IsDuo': 1,\n",
       "  'card_URL': 'https://hsreplay.net/cards/59394/'},\n",
       " 58487: {'card_name': '戰鬥犬魔',\n",
       "  'IsDuo': 1,\n",
       "  'card_URL': 'https://hsreplay.net/cards/58487/'},\n",
       " 58610: {'card_name': '法力燃燒',\n",
       "  'IsDuo': 1,\n",
       "  'card_URL': 'https://hsreplay.net/cards/58610/'},\n",
       " 55161: {'card_name': '烈焰戰鬥法師',\n",
       "  'IsDuo': 1,\n",
       "  'card_URL': 'https://hsreplay.net/cards/55161/'},\n",
       " 54269: {'card_name': '開朗小幫手',\n",
       "  'IsDuo': 1,\n",
       "  'card_URL': 'https://hsreplay.net/cards/54269/'},\n",
       " 56928: {'card_name': '雙刃斬',\n",
       "  'IsDuo': 1,\n",
       "  'card_URL': 'https://hsreplay.net/cards/56928/'},\n",
       " 57175: {'card_name': '噬骨打鬥者',\n",
       "  'IsDuo': 1,\n",
       "  'card_URL': 'https://hsreplay.net/cards/57175/'},\n",
       " 56587: {'card_name': '幽暗之翼',\n",
       "  'IsDuo': 1,\n",
       "  'card_URL': 'https://hsreplay.net/cards/56587/'},\n",
       " 61898: {'card_name': '蠕動懼怪',\n",
       "  'IsDuo': 1,\n",
       "  'card_URL': 'https://hsreplay.net/cards/61898/'},\n",
       " 59590: {'card_name': '閱讀狂',\n",
       "  'IsDuo': 1,\n",
       "  'card_URL': 'https://hsreplay.net/cards/59590/'},\n",
       " 61273: {'card_name': '空中特技',\n",
       "  'IsDuo': 1,\n",
       "  'card_URL': 'https://hsreplay.net/cards/61273/'},\n",
       " 61133: {'card_name': '驚懼領主之噬',\n",
       "  'IsDuo': 1,\n",
       "  'card_URL': 'https://hsreplay.net/cards/61133/'},\n",
       " 61135: {'card_name': '高蹺手',\n",
       "  'IsDuo': 1,\n",
       "  'card_URL': 'https://hsreplay.net/cards/61135/'}}"
      ]
     },
     "execution_count": 272,
     "metadata": {},
     "output_type": "execute_result"
    }
   ],
   "source": [
    "DemonHunter_deck_dict[\"kyCUK1H2Y5wtS52RdFQLXb\"][\"Deck_Composition\"]"
   ]
  },
  {
   "cell_type": "code",
   "execution_count": null,
   "metadata": {},
   "outputs": [],
   "source": []
  },
  {
   "cell_type": "code",
   "execution_count": null,
   "metadata": {},
   "outputs": [],
   "source": []
  },
  {
   "cell_type": "code",
   "execution_count": null,
   "metadata": {},
   "outputs": [],
   "source": []
  },
  {
   "cell_type": "code",
   "execution_count": null,
   "metadata": {},
   "outputs": [],
   "source": []
  },
  {
   "cell_type": "code",
   "execution_count": null,
   "metadata": {},
   "outputs": [],
   "source": []
  },
  {
   "cell_type": "code",
   "execution_count": 263,
   "metadata": {},
   "outputs": [
    {
     "data": {
      "text/plain": [
       "'https://hsreplay.net/cards/58201/'"
      ]
     },
     "execution_count": 263,
     "metadata": {},
     "output_type": "execute_result"
    }
   ],
   "source": [
    "card_urls[j]"
   ]
  },
  {
   "cell_type": "code",
   "execution_count": 249,
   "metadata": {},
   "outputs": [
    {
     "data": {
      "text/plain": [
       "'古爾丹之顱 ×2'"
      ]
     },
     "execution_count": 249,
     "metadata": {},
     "output_type": "execute_result"
    }
   ],
   "source": [
    "name_num_str = soup.select(\"ul.card-list\")[i].select(\".card-icon\")[j][\"aria-label\"]\n",
    "name_num_str"
   ]
  },
  {
   "cell_type": "code",
   "execution_count": 250,
   "metadata": {},
   "outputs": [
    {
     "data": {
      "text/plain": [
       "'×2'"
      ]
     },
     "execution_count": 250,
     "metadata": {},
     "output_type": "execute_result"
    }
   ],
   "source": [
    "name_num_str.split()[-1]"
   ]
  },
  {
   "cell_type": "code",
   "execution_count": 227,
   "metadata": {},
   "outputs": [],
   "source": [
    "card_list = driver.find_elements_by_css_selector(\"ul.card-list\")[0].find_elements_by_css_selector(\"a\")"
   ]
  },
  {
   "cell_type": "code",
   "execution_count": 230,
   "metadata": {},
   "outputs": [],
   "source": [
    "card_urls = [card_url.get_attribute(\"href\") for card_url in card_list]"
   ]
  },
  {
   "cell_type": "code",
   "execution_count": 253,
   "metadata": {},
   "outputs": [
    {
     "data": {
      "text/plain": [
       "'57184'"
      ]
     },
     "execution_count": 253,
     "metadata": {},
     "output_type": "execute_result"
    }
   ],
   "source": [
    "card_urls[0].split(\"/\")[-2]"
   ]
  },
  {
   "cell_type": "code",
   "execution_count": 254,
   "metadata": {},
   "outputs": [
    {
     "data": {
      "text/plain": [
       "[57184,\n",
       " 58452,\n",
       " 56928,\n",
       " 59726,\n",
       " 61127,\n",
       " 53756,\n",
       " 58492,\n",
       " 56791,\n",
       " 59869,\n",
       " 57193,\n",
       " 749,\n",
       " 58453,\n",
       " 56583,\n",
       " 61273,\n",
       " 58183,\n",
       " 61136,\n",
       " 56765,\n",
       " 58201]"
      ]
     },
     "execution_count": 254,
     "metadata": {},
     "output_type": "execute_result"
    }
   ],
   "source": [
    "card_keys = [int(k.split(\"/\")[-2]) for k in card_urls]\n",
    "card_keys"
   ]
  },
  {
   "cell_type": "code",
   "execution_count": 197,
   "metadata": {},
   "outputs": [
    {
     "data": {
      "text/plain": [
       "'https://hsreplay.net/cards/57182/'"
      ]
     },
     "execution_count": 197,
     "metadata": {},
     "output_type": "execute_result"
    }
   ],
   "source": [
    "card_list[0].get_attribute(\"href\")"
   ]
  },
  {
   "cell_type": "code",
   "execution_count": 219,
   "metadata": {},
   "outputs": [
    {
     "data": {
      "text/plain": [
       "'守護者強化商人 ×2'"
      ]
     },
     "execution_count": 219,
     "metadata": {},
     "output_type": "execute_result"
    }
   ],
   "source": [
    "soup.select(\"ul.card-list\")[0].select(\".card-icon\")[0][\"aria-label\"]"
   ]
  },
  {
   "cell_type": "code",
   "execution_count": 209,
   "metadata": {},
   "outputs": [
    {
     "ename": "AttributeError",
     "evalue": "'WebElement' object has no attribute 'attrs'",
     "output_type": "error",
     "traceback": [
      "\u001b[0;31m---------------------------------------------------------------------------\u001b[0m",
      "\u001b[0;31mAttributeError\u001b[0m                            Traceback (most recent call last)",
      "\u001b[0;32m<ipython-input-209-5c409ecc799a>\u001b[0m in \u001b[0;36m<module>\u001b[0;34m\u001b[0m\n\u001b[0;32m----> 1\u001b[0;31m \u001b[0mdriver\u001b[0m\u001b[0;34m.\u001b[0m\u001b[0mfind_elements_by_css_selector\u001b[0m\u001b[0;34m(\u001b[0m\u001b[0;34m\"ul.card-list\"\u001b[0m\u001b[0;34m)\u001b[0m\u001b[0;34m[\u001b[0m\u001b[0;36m0\u001b[0m\u001b[0;34m]\u001b[0m\u001b[0;34m.\u001b[0m\u001b[0mfind_elements_by_css_selector\u001b[0m\u001b[0;34m(\u001b[0m\u001b[0;34m\".card-icon\"\u001b[0m\u001b[0;34m)\u001b[0m\u001b[0;34m[\u001b[0m\u001b[0;36m0\u001b[0m\u001b[0;34m]\u001b[0m\u001b[0;34m.\u001b[0m\u001b[0mattrs\u001b[0m\u001b[0;34m\u001b[0m\u001b[0;34m\u001b[0m\u001b[0m\n\u001b[0m",
      "\u001b[0;31mAttributeError\u001b[0m: 'WebElement' object has no attribute 'attrs'"
     ]
    }
   ],
   "source": [
    "driver.find_elements_by_css_selector(\"ul.card-list\")[0].find_elements_by_css_selector(\".card-icon\")[0]."
   ]
  },
  {
   "cell_type": "markdown",
   "metadata": {},
   "source": [
    "## 進入一個牌組內爬資訊"
   ]
  },
  {
   "cell_type": "code",
   "execution_count": 112,
   "metadata": {},
   "outputs": [],
   "source": [
    "for key in list(DemonHunter_deck_dict.keys())[0:1]:\n",
    "    driver.get(DemonHunter_deck_dict[key]['URL'])\n",
    "    driver.implicitly_wait(10)"
   ]
  },
  {
   "cell_type": "code",
   "execution_count": 113,
   "metadata": {},
   "outputs": [],
   "source": [
    "sub_soup = BeautifulSoup(driver.page_source, 'lxml')"
   ]
  },
  {
   "cell_type": "code",
   "execution_count": 117,
   "metadata": {},
   "outputs": [
    {
     "data": {
      "text/plain": [
       "[<figcaption class=\"card-name\" style=\"font-size: 0.9em; width: calc(100% - 28px);\">守護者強化商人</figcaption>,\n",
       " <figcaption class=\"card-name\" style=\"font-size: 0.9em; width: calc(100% - 28px);\">強悍的新生</figcaption>,\n",
       " <figcaption class=\"card-name\" style=\"font-size: 0.9em; width: calc(100% - 28px);\">惡魔夥伴</figcaption>,\n",
       " <figcaption class=\"card-name\" style=\"font-size: 0.9em; width: calc(100% - 28px);\">戰鬥犬魔</figcaption>,\n",
       " <figcaption class=\"card-name\" style=\"font-size: 0.9em; width: calc(100% - 28px);\">法力燃燒</figcaption>,\n",
       " <figcaption class=\"card-name\" style=\"font-size: 0.9em; width: calc(100% - 28px);\">烈焰戰鬥法師</figcaption>,\n",
       " <figcaption class=\"card-name\" style=\"font-size: 0.9em; width: calc(100% - 28px);\">開朗小幫手</figcaption>,\n",
       " <figcaption class=\"card-name\" style=\"font-size: 0.9em; width: calc(100% - 28px);\">雙刃斬</figcaption>,\n",
       " <figcaption class=\"card-name\" style=\"font-size: 0.9em; width: calc(100% - 28px);\">噬骨打鬥者</figcaption>,\n",
       " <figcaption class=\"card-name\" style=\"font-size: 0.9em; width: calc(100% - 28px);\">幽暗之翼</figcaption>,\n",
       " <figcaption class=\"card-name\" style=\"font-size: 0.9em; width: calc(100% - 28px);\">蠕動懼怪</figcaption>,\n",
       " <figcaption class=\"card-name\" style=\"font-size: 0.9em; width: calc(100% - 28px);\">閱讀狂</figcaption>,\n",
       " <figcaption class=\"card-name\" style=\"font-size: 0.9em; width: calc(100% - 28px);\">空中特技</figcaption>,\n",
       " <figcaption class=\"card-name\" style=\"font-size: 0.9em; width: calc(100% - 28px);\">驚懼領主之噬</figcaption>,\n",
       " <figcaption class=\"card-name\" style=\"font-size: 0.9em; width: calc(100% - 28px);\">高蹺手</figcaption>]"
      ]
     },
     "execution_count": 117,
     "metadata": {},
     "output_type": "execute_result"
    }
   ],
   "source": [
    "sub_soup.select(\".card-name\")"
   ]
  },
  {
   "cell_type": "code",
   "execution_count": null,
   "metadata": {},
   "outputs": [],
   "source": [
    "for card in driver.find_elements_by_css_selector(\".card-name\"):\n",
    "    print(card.attrs)"
   ]
  },
  {
   "cell_type": "code",
   "execution_count": null,
   "metadata": {},
   "outputs": [],
   "source": []
  },
  {
   "cell_type": "code",
   "execution_count": null,
   "metadata": {},
   "outputs": [],
   "source": []
  },
  {
   "cell_type": "code",
   "execution_count": null,
   "metadata": {},
   "outputs": [],
   "source": []
  },
  {
   "cell_type": "code",
   "execution_count": null,
   "metadata": {},
   "outputs": [],
   "source": []
  },
  {
   "cell_type": "code",
   "execution_count": null,
   "metadata": {},
   "outputs": [],
   "source": []
  },
  {
   "cell_type": "markdown",
   "metadata": {},
   "source": [
    "### 拿到牌組的key"
   ]
  },
  {
   "cell_type": "code",
   "execution_count": 96,
   "metadata": {},
   "outputs": [
    {
     "data": {
      "text/plain": [
       "'https://hsreplay.net/decks/kyCUK1H2Y5wtS52RdFQLXb/'"
      ]
     },
     "execution_count": 96,
     "metadata": {},
     "output_type": "execute_result"
    }
   ],
   "source": [
    "driver.find_element_by_partial_link_text(\"Demon Hunter\").get_attribute(\"href\")"
   ]
  },
  {
   "cell_type": "markdown",
   "metadata": {},
   "source": [
    "### for all key in decks of a certain occupation"
   ]
  },
  {
   "cell_type": "code",
   "execution_count": 97,
   "metadata": {},
   "outputs": [
    {
     "name": "stdout",
     "output_type": "stream",
     "text": [
      "https://hsreplay.net/decks/kyCUK1H2Y5wtS52RdFQLXb/\n",
      "https://hsreplay.net/decks/wKwIEzbviVLvEj6pEP4Coe/\n",
      "https://hsreplay.net/decks/DqUe87qVw99Dso2poGdBif/\n",
      "https://hsreplay.net/decks/QWLOmOj7uYAGtA5hzIVrTe/\n",
      "https://hsreplay.net/decks/4aChHKfoy145otte4P8r1f/\n",
      "https://hsreplay.net/decks/nsEeXHKmqGKVT1yjrULMUe/\n",
      "https://hsreplay.net/decks/E2oVtowA2KLswjWDSBERog/\n",
      "https://hsreplay.net/decks/wRHNhCjTRm0eEjtMrsWGod/\n",
      "https://hsreplay.net/decks/zx3oqTdpYeRHgRE5Xpp7Dh/\n",
      "https://hsreplay.net/decks/YwB5GcKa0OMN33KGxBZpEb/\n",
      "https://hsreplay.net/decks/6rxb2ldIwEkkCVfOePXaJe/\n",
      "https://hsreplay.net/decks/ZRJhHAU9UH2cm9lTVrk40g/\n",
      "https://hsreplay.net/decks/U9QYIcBtyNc9ACDnHuYeag/\n",
      "https://hsreplay.net/decks/qwIv9zIkHdPUpBYepOWr2b/\n",
      "https://hsreplay.net/decks/LPYOFoERHopXhuoJRjphzf/\n",
      "https://hsreplay.net/decks/7yGzixym8NNXaxhDhFVvbf/\n",
      "https://hsreplay.net/decks/MOwmFPm6uwNqlCiEvd2wnc/\n",
      "https://hsreplay.net/decks/1QVpOw0BCQjZM4JZyrsoNb/\n"
     ]
    }
   ],
   "source": [
    "for deck_key in driver.find_elements_by_partial_link_text(\"Demon Hunter\"):\n",
    "    print(deck_key.get_attribute(\"href\"))"
   ]
  },
  {
   "cell_type": "code",
   "execution_count": null,
   "metadata": {},
   "outputs": [],
   "source": []
  },
  {
   "cell_type": "code",
   "execution_count": 90,
   "metadata": {},
   "outputs": [
    {
     "name": "stdout",
     "output_type": "stream",
     "text": [
      "https://hsreplay.net/cards/57182/\n",
      "<selenium.webdriver.remote.webelement.WebElement (session=\"ed5a3a83b14ffb0b7e5f1f1093aa7917\", element=\"a87c2a13-43c6-4fa6-be86-97cc920bad2b\")>\n",
      "https://hsreplay.net/cards/58972/\n",
      "<selenium.webdriver.remote.webelement.WebElement (session=\"ed5a3a83b14ffb0b7e5f1f1093aa7917\", element=\"3d7a8af5-e157-4dce-8852-57a068289b07\")>\n",
      "https://hsreplay.net/cards/59394/\n",
      "<selenium.webdriver.remote.webelement.WebElement (session=\"ed5a3a83b14ffb0b7e5f1f1093aa7917\", element=\"e327b9c2-d540-4418-9ca9-872c7994d7ff\")>\n",
      "https://hsreplay.net/cards/58487/\n",
      "<selenium.webdriver.remote.webelement.WebElement (session=\"ed5a3a83b14ffb0b7e5f1f1093aa7917\", element=\"0b4d3469-1222-4203-9d46-c6f11806ea4b\")>\n",
      "https://hsreplay.net/cards/58610/\n",
      "<selenium.webdriver.remote.webelement.WebElement (session=\"ed5a3a83b14ffb0b7e5f1f1093aa7917\", element=\"1bf868f9-b89b-4e28-9cf0-faf4aa03c7b8\")>\n",
      "https://hsreplay.net/cards/55161/\n",
      "<selenium.webdriver.remote.webelement.WebElement (session=\"ed5a3a83b14ffb0b7e5f1f1093aa7917\", element=\"40b30d68-f7e4-4258-b5e1-80f27b576dcf\")>\n",
      "https://hsreplay.net/cards/54269/\n",
      "<selenium.webdriver.remote.webelement.WebElement (session=\"ed5a3a83b14ffb0b7e5f1f1093aa7917\", element=\"4c77a855-42d1-49fc-aec0-58399ebe5c54\")>\n",
      "https://hsreplay.net/cards/56928/\n",
      "<selenium.webdriver.remote.webelement.WebElement (session=\"ed5a3a83b14ffb0b7e5f1f1093aa7917\", element=\"9b8c1dc6-87d6-47c8-9bd0-91968a2d58ca\")>\n",
      "https://hsreplay.net/cards/57175/\n",
      "<selenium.webdriver.remote.webelement.WebElement (session=\"ed5a3a83b14ffb0b7e5f1f1093aa7917\", element=\"46428a51-a0fc-4e3d-ad1d-379246d73233\")>\n",
      "https://hsreplay.net/cards/56587/\n",
      "<selenium.webdriver.remote.webelement.WebElement (session=\"ed5a3a83b14ffb0b7e5f1f1093aa7917\", element=\"5454cb9e-7d36-4c7f-854c-5b71e13019f9\")>\n",
      "https://hsreplay.net/cards/61898/\n",
      "<selenium.webdriver.remote.webelement.WebElement (session=\"ed5a3a83b14ffb0b7e5f1f1093aa7917\", element=\"48aa726f-a0db-4c6a-85b5-696c6cc6fd3c\")>\n",
      "https://hsreplay.net/cards/59590/\n",
      "<selenium.webdriver.remote.webelement.WebElement (session=\"ed5a3a83b14ffb0b7e5f1f1093aa7917\", element=\"fe7ddef5-1c8b-4d07-9690-a16e41c3b2ac\")>\n",
      "https://hsreplay.net/cards/61273/\n",
      "<selenium.webdriver.remote.webelement.WebElement (session=\"ed5a3a83b14ffb0b7e5f1f1093aa7917\", element=\"019f4476-a7c3-4313-9a5d-c12d256907a9\")>\n",
      "https://hsreplay.net/cards/61133/\n",
      "<selenium.webdriver.remote.webelement.WebElement (session=\"ed5a3a83b14ffb0b7e5f1f1093aa7917\", element=\"439c37d7-fed1-495a-9b4b-f2bbf1a0f609\")>\n",
      "https://hsreplay.net/cards/61135/\n",
      "<selenium.webdriver.remote.webelement.WebElement (session=\"ed5a3a83b14ffb0b7e5f1f1093aa7917\", element=\"3e04c3af-3998-4e27-954c-a791b00616b8\")>\n"
     ]
    }
   ],
   "source": [
    "for link in driver.find_elements_by_css_selector(\".row\")[1].find_elements_by_css_selector(\"a\"):\n",
    "    print(link.get_attribute('href'))\n",
    "    print(link)"
   ]
  },
  {
   "cell_type": "code",
   "execution_count": 48,
   "metadata": {},
   "outputs": [
    {
     "data": {
      "text/plain": [
       "22"
      ]
     },
     "execution_count": 48,
     "metadata": {},
     "output_type": "execute_result"
    }
   ],
   "source": [
    "len(soup.select(\".row\"))"
   ]
  },
  {
   "cell_type": "code",
   "execution_count": 53,
   "metadata": {},
   "outputs": [
    {
     "data": {
      "text/plain": [
       "<div class=\"row\"><div aria-sort=\"none\" class=\"deck-list__header__item deck-list__header__item--sortable col-lg-2 col-md-2 col-sm-2 col-xs-6\" role=\"columnheader\" tabindex=\"0\"><span>套牌/成本</span><span class=\"sort-indicator\"><span aria-hidden=\"true\" class=\"glyphicon glyphicon-triangle-top\"></span><span aria-hidden=\"true\" class=\"glyphicon glyphicon-triangle-bottom\"></span></span><div class=\"tooltip-wrapper info-icon\"><aside class=\"sr-only\"><h4>合成成本</h4><p>合成這套套牌所需要的總魔塵量</p></aside> <span aria-hidden=\"true\" class=\"glyphicon glyphicon-question-sign\"></span></div></div><div aria-sort=\"none\" class=\"deck-list__header__item deck-list__header__item--sortable deck-list__header__item--align-right col-lg-1 col-md-1 col-sm-1 col-xs-3\" role=\"columnheader\" tabindex=\"0\"><span aria-hidden=\"true\">勝率</span><span class=\"sort-indicator\"><span aria-hidden=\"true\" class=\"glyphicon glyphicon-triangle-top\"></span><span aria-hidden=\"true\" class=\"glyphicon glyphicon-triangle-bottom\"></span></span><div class=\"tooltip-wrapper info-icon\"><aside class=\"sr-only\"><h4>勝率</h4><p>這個套牌贏得的遊戲比率</p></aside> <span aria-hidden=\"true\" class=\"glyphicon glyphicon-question-sign\"></span></div></div><div aria-sort=\"descending\" class=\"deck-list__header__item deck-list__header__item--sortable deck-list__header__item--align-right col-lg-1 col-md-1 col-sm-1 col-xs-3\" role=\"columnheader\" tabindex=\"0\"><span aria-hidden=\"true\">局數</span><span class=\"sort-indicator primary\"><span aria-hidden=\"true\" class=\"glyphicon glyphicon-triangle-top\"></span><span aria-hidden=\"true\" class=\"glyphicon glyphicon-triangle-bottom active\"></span></span><div class=\"tooltip-wrapper info-icon\"><aside class=\"sr-only\"><h4>已遊玩的局數</h4><p>這個套牌被記錄到的遊戲場數</p></aside> <span aria-hidden=\"true\" class=\"glyphicon glyphicon-question-sign\"></span></div></div><div aria-sort=\"none\" class=\"deck-list__header__item deck-list__header__item--sortable deck-list__header__item--align-right col-lg-1 col-md-1 hidden-sm hidden-xs\" role=\"columnheader\" tabindex=\"0\"><span aria-hidden=\"true\">時長</span><span class=\"sort-indicator\"><span aria-hidden=\"true\" class=\"glyphicon glyphicon-triangle-top\"></span><span aria-hidden=\"true\" class=\"glyphicon glyphicon-triangle-bottom\"></span></span><div class=\"tooltip-wrapper info-icon\"><aside class=\"sr-only\"><h4>遊戲持續時間</h4><p>這套牌的平均遊戲時間</p></aside> <span aria-hidden=\"true\" class=\"glyphicon glyphicon-question-sign\"></span></div></div><div aria-sort=\"none\" class=\"deck-list__header__item deck-list__header__item--sortable deck-list__header__item--align-right col-lg-1 hidden-md hidden-sm hidden-xs\" role=\"columnheader\" tabindex=\"0\"><span aria-hidden=\"true\">水晶</span><span class=\"sort-indicator\"><span aria-hidden=\"true\" class=\"glyphicon glyphicon-triangle-top\"></span><span aria-hidden=\"true\" class=\"glyphicon glyphicon-triangle-bottom\"></span></span><div class=\"tooltip-wrapper info-icon\"><aside class=\"sr-only\"><h4>法力曲線</h4><p>套牌的費用曲線</p></aside> <span aria-hidden=\"true\" class=\"glyphicon glyphicon-question-sign\"></span></div></div><div class=\"deck-list__header__item deck-list__header__item--sortable col-lg-6 col-md-7 col-sm-8 hidden-xs\" role=\"columnheader\">卡牌</div></div>"
      ]
     },
     "execution_count": 53,
     "metadata": {},
     "output_type": "execute_result"
    }
   ],
   "source": [
    "soup.select(\".row\")[0]"
   ]
  },
  {
   "cell_type": "code",
   "execution_count": 65,
   "metadata": {},
   "outputs": [
    {
     "data": {
      "text/plain": [
       "[<h4>合成成本</h4>, <h4>勝率</h4>, <h4>已遊玩的局數</h4>, <h4>遊戲持續時間</h4>, <h4>法力曲線</h4>]"
      ]
     },
     "execution_count": 65,
     "metadata": {},
     "output_type": "execute_result"
    }
   ],
   "source": [
    "soup.select(\".row\")[0].select(\"h4\")"
   ]
  },
  {
   "cell_type": "code",
   "execution_count": null,
   "metadata": {},
   "outputs": [],
   "source": [
    "\"https://hsreplay.net/decks/kyCUK1H2Y5wtS52RdFQLXb/\""
   ]
  },
  {
   "cell_type": "markdown",
   "metadata": {},
   "source": [
    "#### 一個row內的資訊"
   ]
  },
  {
   "cell_type": "code",
   "execution_count": 111,
   "metadata": {},
   "outputs": [
    {
     "data": {
      "text/plain": [
       "'Aggro Demon Hunter'"
      ]
     },
     "execution_count": 111,
     "metadata": {},
     "output_type": "execute_result"
    }
   ],
   "source": [
    "soup.select(\".row\")[1].h3.text"
   ]
  },
  {
   "cell_type": "code",
   "execution_count": 162,
   "metadata": {},
   "outputs": [
    {
     "data": {
      "text/plain": [
       "'Soul Demon Hunter6000\\xa0現正直播59.3%57,000 7.5 分鐘×2×2×2×2×2×2×2×2×2★★×2×2×2×2★'"
      ]
     },
     "execution_count": 162,
     "metadata": {},
     "output_type": "execute_result"
    }
   ],
   "source": [
    "soup.select(\".row\")[2].text"
   ]
  },
  {
   "cell_type": "code",
   "execution_count": 164,
   "metadata": {},
   "outputs": [
    {
     "data": {
      "text/plain": [
       "'Soul Demon Hunter436059.7%16,000 7.4 分鐘×2×2×2×2×2×2×2×2×2×2★★×2×2×2×2'"
      ]
     },
     "execution_count": 164,
     "metadata": {},
     "output_type": "execute_result"
    }
   ],
   "source": [
    "soup.select(\".row\")[4].text"
   ]
  },
  {
   "cell_type": "code",
   "execution_count": 68,
   "metadata": {},
   "outputs": [
    {
     "data": {
      "text/plain": [
       "<div class=\"row\"><div class=\"col-lg-2 col-md-2 col-sm-2 col-xs-6\"><h3 class=\"deck-name\" style='background-image: url(\"https://static.hsreplay.net/static/images/64x/class-icons/demonhunter.png\");'>Aggro Demon Hunter</h3><small><span class=\"dust-cost\" style='background-image: url(\"https://static.hsreplay.net/static/images/dust.png\");'>1840</span></small></div><div class=\"col-lg-1 col-md-1 col-sm-1 col-xs-3\"><span class=\"win-rate\">61.2%</span></div><div class=\"col-lg-1 col-md-1 col-sm-1 col-xs-3\"><span class=\"game-count\">120,000</span></div><div class=\"col-lg-1 col-md-1 hidden-sm hidden-xs\"><span class=\"duration\"><span><span aria-hidden=\"true\" class=\"glyphicon glyphicon-time\"></span> 5.6 分鐘</span></span></div><div class=\"col-lg-1 hidden-md hidden-sm hidden-xs\"><ul class=\"mana-curve\"><li><span data-cost=\"0\" data-count=\"\" style=\"height: 0%;\"></span></li><li><span data-cost=\"1\" data-count=\"16\" style=\"height: 100%;\"></span></li><li><span data-cost=\"2\" data-count=\"8\" style=\"height: 50%;\"></span></li><li><span data-cost=\"3\" data-count=\"6\" style=\"height: 37.5%;\"></span></li><li><span data-cost=\"4\" data-count=\"\" style=\"height: 0%;\"></span></li><li><span data-cost=\"5\" data-count=\"\" style=\"height: 0%;\"></span></li><li><span data-cost=\"6\" data-count=\"\" style=\"height: 0%;\"></span></li><li><span data-cost=\"7+\" data-count=\"\" style=\"height: 0%;\"></span></li></ul></div><div class=\"col-lg-6 col-md-7 col-sm-8 hidden-xs\"><ul class=\"card-list\"><li><div class=\"tooltip-wrapper\"><aside class=\"sr-only\"><img alt=\"守護者強化商人\" class=\"card-image\" src=\"https://art.hearthstonejson.com/v1/render/latest/zhTW/256x/BT_722.png\"/></aside><a class=\"card-icon-link\" href=\"/cards/57182/\" tabindex=\"-1\"><div aria-label=\"守護者強化商人 ×2\" class=\"card-icon\" style='height: 34px; width: 34px; background-image: url(\"https://art.hearthstonejson.com/v1/tiles/BT_722.jpg\"); background-position: -70px 0px; background-size: 126px 32px;'><span style=\"color: rgb(244, 212, 66); font-size: 1em; right: 0px; top: 0px;\">×2</span></div></a></div></li><li><div class=\"tooltip-wrapper\"><aside class=\"sr-only\"><img alt=\"強悍的新生\" class=\"card-image\" src=\"https://art.hearthstonejson.com/v1/render/latest/zhTW/256x/SCH_231.png\"/></aside><a class=\"card-icon-link\" href=\"/cards/58972/\" tabindex=\"-1\"><div aria-label=\"強悍的新生 ×2\" class=\"card-icon\" style='height: 34px; width: 34px; background-image: url(\"https://art.hearthstonejson.com/v1/tiles/SCH_231.jpg\"); background-position: -70px 0px; background-size: 126px 32px;'><span style=\"color: rgb(244, 212, 66); font-size: 1em; right: 0px; top: 0px;\">×2</span></div></a></div></li><li><div class=\"tooltip-wrapper\"><aside class=\"sr-only\"><img alt=\"惡魔夥伴\" class=\"card-image\" src=\"https://art.hearthstonejson.com/v1/render/latest/zhTW/256x/SCH_600.png\"/></aside><a class=\"card-icon-link\" href=\"/cards/59394/\" tabindex=\"-1\"><div aria-label=\"惡魔夥伴 ×2\" class=\"card-icon\" style='height: 34px; width: 34px; background-image: url(\"https://art.hearthstonejson.com/v1/tiles/SCH_600.jpg\"); background-position: -70px 0px; background-size: 126px 32px;'><span style=\"color: rgb(244, 212, 66); font-size: 1em; right: 0px; top: 0px;\">×2</span></div></a></div></li><li><div class=\"tooltip-wrapper\"><aside class=\"sr-only\"><img alt=\"戰鬥犬魔\" class=\"card-image\" src=\"https://art.hearthstonejson.com/v1/render/latest/zhTW/256x/BT_351.png\"/></aside><a class=\"card-icon-link\" href=\"/cards/58487/\" tabindex=\"-1\"><div aria-label=\"戰鬥犬魔 ×2\" class=\"card-icon\" style='height: 34px; width: 34px; background-image: url(\"https://art.hearthstonejson.com/v1/tiles/BT_351.jpg\"); background-position: -70px 0px; background-size: 126px 32px;'><span style=\"color: rgb(244, 212, 66); font-size: 1em; right: 0px; top: 0px;\">×2</span></div></a></div></li><li><div class=\"tooltip-wrapper\"><aside class=\"sr-only\"><img alt=\"法力燃燒\" class=\"card-image\" src=\"https://art.hearthstonejson.com/v1/render/latest/zhTW/256x/BT_753.png\"/></aside><a class=\"card-icon-link\" href=\"/cards/58610/\" tabindex=\"-1\"><div aria-label=\"法力燃燒 ×2\" class=\"card-icon\" style='height: 34px; width: 34px; background-image: url(\"https://art.hearthstonejson.com/v1/tiles/BT_753.jpg\"); background-position: -70px 0px; background-size: 126px 32px;'><span style=\"color: rgb(244, 212, 66); font-size: 1em; right: 0px; top: 0px;\">×2</span></div></a></div></li><li><div class=\"tooltip-wrapper\"><aside class=\"sr-only\"><img alt=\"烈焰戰鬥法師\" class=\"card-image\" src=\"https://art.hearthstonejson.com/v1/render/latest/zhTW/256x/DRG_239.png\"/></aside><a class=\"card-icon-link\" href=\"/cards/55161/\" tabindex=\"-1\"><div aria-label=\"烈焰戰鬥法師 ×2\" class=\"card-icon\" style='height: 34px; width: 34px; background-image: url(\"https://art.hearthstonejson.com/v1/tiles/DRG_239.jpg\"); background-position: -70px 0px; background-size: 126px 32px;'><span style=\"color: rgb(244, 212, 66); font-size: 1em; right: 0px; top: 0px;\">×2</span></div></a></div></li><li><div class=\"tooltip-wrapper\"><aside class=\"sr-only\"><img alt=\"開朗小幫手\" class=\"card-image\" src=\"https://art.hearthstonejson.com/v1/render/latest/zhTW/256x/ULD_191.png\"/></aside><a class=\"card-icon-link\" href=\"/cards/54269/\" tabindex=\"-1\"><div aria-label=\"開朗小幫手 ×2\" class=\"card-icon\" style='height: 34px; width: 34px; background-image: url(\"https://art.hearthstonejson.com/v1/tiles/ULD_191.jpg\"); background-position: -70px 0px; background-size: 126px 32px;'><span style=\"color: rgb(244, 212, 66); font-size: 1em; right: 0px; top: 0px;\">×2</span></div></a></div></li><li><div class=\"tooltip-wrapper\"><aside class=\"sr-only\"><img alt=\"雙刃斬\" class=\"card-image\" src=\"https://art.hearthstonejson.com/v1/render/latest/zhTW/256x/BT_175.png\"/></aside><a class=\"card-icon-link\" href=\"/cards/56928/\" tabindex=\"-1\"><div aria-label=\"雙刃斬 ×2\" class=\"card-icon\" style='height: 34px; width: 34px; background-image: url(\"https://art.hearthstonejson.com/v1/tiles/BT_175.jpg\"); background-position: -70px 0px; background-size: 126px 32px;'><span style=\"color: rgb(244, 212, 66); font-size: 1em; right: 0px; top: 0px;\">×2</span></div></a></div></li><li><div class=\"tooltip-wrapper\"><aside class=\"sr-only\"><img alt=\"噬骨打鬥者\" class=\"card-image\" src=\"https://art.hearthstonejson.com/v1/render/latest/zhTW/256x/BT_715.png\"/></aside><a class=\"card-icon-link\" href=\"/cards/57175/\" tabindex=\"-1\"><div aria-label=\"噬骨打鬥者 ×2\" class=\"card-icon\" style='height: 34px; width: 34px; background-image: url(\"https://art.hearthstonejson.com/v1/tiles/BT_715.jpg\"); background-position: -70px 0px; background-size: 126px 32px;'><span style=\"color: rgb(244, 212, 66); font-size: 1em; right: 0px; top: 0px;\">×2</span></div></a></div></li><li><div class=\"tooltip-wrapper\"><aside class=\"sr-only\"><img alt=\"幽暗之翼\" class=\"card-image\" src=\"https://art.hearthstonejson.com/v1/render/latest/zhTW/256x/BT_922.png\"/></aside><a class=\"card-icon-link\" href=\"/cards/56587/\" tabindex=\"-1\"><div aria-label=\"幽暗之翼 ×2\" class=\"card-icon\" style='height: 34px; width: 34px; background-image: url(\"https://art.hearthstonejson.com/v1/tiles/BT_922.jpg\"); background-position: -70px 0px; background-size: 126px 32px;'><span style=\"color: rgb(244, 212, 66); font-size: 1em; right: 0px; top: 0px;\">×2</span></div></a></div></li><li><div class=\"tooltip-wrapper\"><aside class=\"sr-only\"><img alt=\"蠕動懼怪\" class=\"card-image\" src=\"https://art.hearthstonejson.com/v1/render/latest/zhTW/256x/DMF_091.png\"/></aside><a class=\"card-icon-link\" href=\"/cards/61898/\" tabindex=\"-1\"><div aria-label=\"蠕動懼怪 ×2\" class=\"card-icon\" style='height: 34px; width: 34px; background-image: url(\"https://art.hearthstonejson.com/v1/tiles/DMF_091.jpg\"); background-position: -70px 0px; background-size: 126px 32px;'><span style=\"color: rgb(244, 212, 66); font-size: 1em; right: 0px; top: 0px;\">×2</span></div></a></div></li><li><div class=\"tooltip-wrapper\"><aside class=\"sr-only\"><img alt=\"閱讀狂\" class=\"card-image\" src=\"https://art.hearthstonejson.com/v1/render/latest/zhTW/256x/SCH_142.png\"/></aside><a class=\"card-icon-link\" href=\"/cards/59590/\" tabindex=\"-1\"><div aria-label=\"閱讀狂 ×2\" class=\"card-icon\" style='height: 34px; width: 34px; background-image: url(\"https://art.hearthstonejson.com/v1/tiles/SCH_142.jpg\"); background-position: -70px 0px; background-size: 126px 32px;'><span style=\"color: rgb(244, 212, 66); font-size: 1em; right: 0px; top: 0px;\">×2</span></div></a></div></li><li><div class=\"tooltip-wrapper\"><aside class=\"sr-only\"><img alt=\"空中特技\" class=\"card-image\" src=\"https://art.hearthstonejson.com/v1/render/latest/zhTW/256x/DMF_249.png\"/></aside><a class=\"card-icon-link\" href=\"/cards/61273/\" tabindex=\"-1\"><div aria-label=\"空中特技 ×2\" class=\"card-icon\" style='height: 34px; width: 34px; background-image: url(\"https://art.hearthstonejson.com/v1/tiles/DMF_249.jpg\"); background-position: -70px 0px; background-size: 126px 32px;'><span style=\"color: rgb(244, 212, 66); font-size: 1em; right: 0px; top: 0px;\">×2</span></div></a></div></li><li><div class=\"tooltip-wrapper\"><aside class=\"sr-only\"><img alt=\"驚懼領主之噬\" class=\"card-image\" src=\"https://art.hearthstonejson.com/v1/render/latest/zhTW/256x/DMF_227.png\"/></aside><a class=\"card-icon-link\" href=\"/cards/61133/\" tabindex=\"-1\"><div aria-label=\"驚懼領主之噬 ×2\" class=\"card-icon\" style='height: 34px; width: 34px; background-image: url(\"https://art.hearthstonejson.com/v1/tiles/DMF_227.jpg\"); background-position: -70px 0px; background-size: 126px 32px;'><span style=\"color: rgb(244, 212, 66); font-size: 1em; right: 0px; top: 0px;\">×2</span></div></a></div></li><li><div class=\"tooltip-wrapper\"><aside class=\"sr-only\"><img alt=\"高蹺手\" class=\"card-image\" src=\"https://art.hearthstonejson.com/v1/render/latest/zhTW/256x/DMF_229.png\"/></aside><a class=\"card-icon-link\" href=\"/cards/61135/\" tabindex=\"-1\"><div aria-label=\"高蹺手 ×2\" class=\"card-icon\" style='height: 34px; width: 34px; background-image: url(\"https://art.hearthstonejson.com/v1/tiles/DMF_229.jpg\"); background-position: -70px 0px; background-size: 126px 32px;'><span style=\"color: rgb(244, 212, 66); font-size: 1em; right: 0px; top: 0px;\">×2</span></div></a></div></li></ul></div></div>"
      ]
     },
     "execution_count": 68,
     "metadata": {},
     "output_type": "execute_result"
    }
   ],
   "source": [
    "soup.select(\".row\")[1]"
   ]
  },
  {
   "cell_type": "code",
   "execution_count": 71,
   "metadata": {},
   "outputs": [
    {
     "name": "stdout",
     "output_type": "stream",
     "text": [
      "/cards/57182/\n",
      "/cards/58972/\n",
      "/cards/59394/\n",
      "/cards/58487/\n",
      "/cards/58610/\n",
      "/cards/55161/\n",
      "/cards/54269/\n",
      "/cards/56928/\n",
      "/cards/57175/\n",
      "/cards/56587/\n",
      "/cards/61898/\n",
      "/cards/59590/\n",
      "/cards/61273/\n",
      "/cards/61133/\n",
      "/cards/61135/\n"
     ]
    }
   ],
   "source": [
    "for link in soup.select(\".row\")[1].select(\"a\"):\n",
    "    print(link['href'])"
   ]
  },
  {
   "cell_type": "markdown",
   "metadata": {},
   "source": [
    "### win rate"
   ]
  },
  {
   "cell_type": "code",
   "execution_count": 11,
   "metadata": {},
   "outputs": [
    {
     "name": "stdout",
     "output_type": "stream",
     "text": [
      "18\n",
      "61.2%\n",
      "59.3%\n",
      "62.5%\n",
      "59.7%\n",
      "50.5%\n",
      "61.3%\n",
      "61.4%\n",
      "62.2%\n",
      "62.4%\n",
      "61.4%\n",
      "61.3%\n",
      "61.7%\n",
      "59.2%\n",
      "61.4%\n",
      "60.0%\n",
      "53.7%\n",
      "59.8%\n",
      "46.3%\n"
     ]
    }
   ],
   "source": [
    "print(len(driver.find_elements_by_css_selector(\".win-rate\")))\n",
    "for win_rate in driver.find_elements_by_css_selector(\".win-rate\"):\n",
    "    print(win_rate.text)"
   ]
  },
  {
   "cell_type": "markdown",
   "metadata": {},
   "source": [
    "### 組成（第一個牌組）"
   ]
  },
  {
   "cell_type": "code",
   "execution_count": 170,
   "metadata": {},
   "outputs": [],
   "source": [
    "card_list = driver.find_element_by_css_selector(\"ul.card-list\")#.get_attribute(\"href\")"
   ]
  },
  {
   "cell_type": "code",
   "execution_count": 172,
   "metadata": {},
   "outputs": [
    {
     "data": {
      "text/plain": [
       "'https://hsreplay.net/cards/57182/'"
      ]
     },
     "execution_count": 172,
     "metadata": {},
     "output_type": "execute_result"
    }
   ],
   "source": [
    "card_list.find_element_by_css_selector(\"a\").get_attribute(\"href\")"
   ]
  },
  {
   "cell_type": "code",
   "execution_count": 180,
   "metadata": {},
   "outputs": [
    {
     "name": "stdout",
     "output_type": "stream",
     "text": [
      "https://hsreplay.net/cards/57182/\n",
      "https://hsreplay.net/cards/58972/\n",
      "https://hsreplay.net/cards/59394/\n",
      "https://hsreplay.net/cards/58487/\n",
      "https://hsreplay.net/cards/58610/\n",
      "https://hsreplay.net/cards/55161/\n",
      "https://hsreplay.net/cards/54269/\n",
      "https://hsreplay.net/cards/56928/\n",
      "https://hsreplay.net/cards/57175/\n",
      "https://hsreplay.net/cards/56587/\n",
      "https://hsreplay.net/cards/61898/\n",
      "https://hsreplay.net/cards/59590/\n",
      "https://hsreplay.net/cards/61273/\n",
      "https://hsreplay.net/cards/61133/\n",
      "https://hsreplay.net/cards/61135/\n"
     ]
    }
   ],
   "source": [
    "for card_url in card_list.find_elements_by_css_selector(\"a\"):\n",
    "    print(card_url.get_attribute(\"href\"))"
   ]
  },
  {
   "cell_type": "markdown",
   "metadata": {},
   "source": [
    "### 張數"
   ]
  },
  {
   "cell_type": "code",
   "execution_count": 178,
   "metadata": {},
   "outputs": [
    {
     "data": {
      "text/plain": [
       "'×2'"
      ]
     },
     "execution_count": 178,
     "metadata": {},
     "output_type": "execute_result"
    }
   ],
   "source": [
    "driver.find_element_by_css_selector(\"ul.card-list\").find_element_by_css_selector(\".card-icon\").text"
   ]
  },
  {
   "cell_type": "code",
   "execution_count": 179,
   "metadata": {},
   "outputs": [
    {
     "name": "stdout",
     "output_type": "stream",
     "text": [
      "×2\n",
      "×2\n",
      "×2\n",
      "×2\n",
      "×2\n",
      "×2\n",
      "×2\n",
      "×2\n",
      "×2\n",
      "×2\n",
      "×2\n",
      "×2\n",
      "×2\n",
      "×2\n",
      "×2\n"
     ]
    }
   ],
   "source": [
    "for card_icon in driver.find_element_by_css_selector(\"ul.card-list\").find_elements_by_css_selector(\".card-icon\"):\n",
    "    print(card_icon.text)"
   ]
  },
  {
   "cell_type": "markdown",
   "metadata": {},
   "source": [
    "### 組成（一個職業全部的牌組）"
   ]
  },
  {
   "cell_type": "code",
   "execution_count": 181,
   "metadata": {},
   "outputs": [],
   "source": [
    "card_list = driver.find_elements_by_css_selector(\"ul.card-list\")#.get_attribute(\"href\")"
   ]
  },
  {
   "cell_type": "code",
   "execution_count": 182,
   "metadata": {},
   "outputs": [
    {
     "name": "stdout",
     "output_type": "stream",
     "text": [
      "https://hsreplay.net/cards/57182/\n",
      "https://hsreplay.net/cards/58972/\n",
      "https://hsreplay.net/cards/59394/\n",
      "https://hsreplay.net/cards/58487/\n",
      "https://hsreplay.net/cards/58610/\n",
      "https://hsreplay.net/cards/55161/\n",
      "https://hsreplay.net/cards/54269/\n",
      "https://hsreplay.net/cards/56928/\n",
      "https://hsreplay.net/cards/57175/\n",
      "https://hsreplay.net/cards/56587/\n",
      "https://hsreplay.net/cards/61898/\n",
      "https://hsreplay.net/cards/59590/\n",
      "https://hsreplay.net/cards/61273/\n",
      "https://hsreplay.net/cards/61133/\n",
      "https://hsreplay.net/cards/61135/\n"
     ]
    }
   ],
   "source": [
    "for card_url in card_list[0].find_elements_by_css_selector(\"a\"):\n",
    "    print(card_url.get_attribute(\"href\"))"
   ]
  },
  {
   "cell_type": "markdown",
   "metadata": {},
   "source": [
    "### 抓到特定職業的第一頁的全部牌組的全部牌"
   ]
  },
  {
   "cell_type": "code",
   "execution_count": 18,
   "metadata": {},
   "outputs": [
    {
     "name": "stdout",
     "output_type": "stream",
     "text": [
      "Deck 1\n",
      "https://hsreplay.net/cards/57182/\n",
      "https://hsreplay.net/cards/58972/\n",
      "https://hsreplay.net/cards/59394/\n",
      "https://hsreplay.net/cards/58487/\n",
      "https://hsreplay.net/cards/58610/\n",
      "https://hsreplay.net/cards/55161/\n",
      "https://hsreplay.net/cards/54269/\n",
      "https://hsreplay.net/cards/56928/\n",
      "https://hsreplay.net/cards/57175/\n",
      "https://hsreplay.net/cards/56587/\n",
      "https://hsreplay.net/cards/61898/\n",
      "https://hsreplay.net/cards/59590/\n",
      "https://hsreplay.net/cards/61273/\n",
      "https://hsreplay.net/cards/61133/\n",
      "https://hsreplay.net/cards/61135/\n",
      "Deck 2\n",
      "https://hsreplay.net/cards/58452/\n",
      "https://hsreplay.net/cards/56928/\n",
      "https://hsreplay.net/cards/59724/\n",
      "https://hsreplay.net/cards/58492/\n",
      "https://hsreplay.net/cards/56791/\n",
      "https://hsreplay.net/cards/59725/\n",
      "https://hsreplay.net/cards/59259/\n",
      "https://hsreplay.net/cards/56583/\n",
      "https://hsreplay.net/cards/61125/\n",
      "https://hsreplay.net/cards/60151/\n",
      "https://hsreplay.net/cards/61136/\n",
      "https://hsreplay.net/cards/58202/\n",
      "https://hsreplay.net/cards/59089/\n",
      "https://hsreplay.net/cards/59732/\n",
      "https://hsreplay.net/cards/58201/\n",
      "https://hsreplay.net/cards/61132/\n",
      "https://hsreplay.net/cards/59727/\n",
      "Deck 3\n",
      "https://hsreplay.net/cards/57182/\n",
      "https://hsreplay.net/cards/58972/\n",
      "https://hsreplay.net/cards/59394/\n",
      "https://hsreplay.net/cards/58487/\n",
      "https://hsreplay.net/cards/55161/\n",
      "https://hsreplay.net/cards/54269/\n",
      "https://hsreplay.net/cards/56928/\n",
      "https://hsreplay.net/cards/57175/\n",
      "https://hsreplay.net/cards/61898/\n",
      "https://hsreplay.net/cards/60043/\n",
      "https://hsreplay.net/cards/59590/\n",
      "https://hsreplay.net/cards/61133/\n",
      "https://hsreplay.net/cards/61135/\n",
      "https://hsreplay.net/cards/56652/\n",
      "https://hsreplay.net/cards/60278/\n",
      "https://hsreplay.net/cards/58201/\n",
      "Deck 4\n",
      "https://hsreplay.net/cards/56928/\n",
      "https://hsreplay.net/cards/59724/\n",
      "https://hsreplay.net/cards/58492/\n",
      "https://hsreplay.net/cards/56791/\n",
      "https://hsreplay.net/cards/58453/\n",
      "https://hsreplay.net/cards/59259/\n",
      "https://hsreplay.net/cards/59646/\n",
      "https://hsreplay.net/cards/56583/\n",
      "https://hsreplay.net/cards/61125/\n",
      "https://hsreplay.net/cards/60151/\n",
      "https://hsreplay.net/cards/61136/\n",
      "https://hsreplay.net/cards/58202/\n",
      "https://hsreplay.net/cards/59089/\n",
      "https://hsreplay.net/cards/59732/\n",
      "https://hsreplay.net/cards/58201/\n",
      "https://hsreplay.net/cards/61132/\n",
      "Deck 5\n",
      "https://hsreplay.net/cards/56739/\n",
      "https://hsreplay.net/cards/58487/\n",
      "https://hsreplay.net/cards/56928/\n",
      "https://hsreplay.net/cards/56587/\n",
      "https://hsreplay.net/cards/56791/\n",
      "https://hsreplay.net/cards/56973/\n",
      "https://hsreplay.net/cards/56873/\n",
      "https://hsreplay.net/cards/56792/\n",
      "https://hsreplay.net/cards/59710/\n",
      "https://hsreplay.net/cards/58489/\n",
      "https://hsreplay.net/cards/58183/\n",
      "https://hsreplay.net/cards/56652/\n",
      "https://hsreplay.net/cards/58524/\n",
      "https://hsreplay.net/cards/56841/\n",
      "https://hsreplay.net/cards/58494/\n",
      "https://hsreplay.net/cards/58172/\n",
      "Deck 6\n",
      "https://hsreplay.net/cards/58452/\n",
      "https://hsreplay.net/cards/56928/\n",
      "https://hsreplay.net/cards/59724/\n",
      "https://hsreplay.net/cards/58492/\n",
      "https://hsreplay.net/cards/56791/\n",
      "https://hsreplay.net/cards/59725/\n",
      "https://hsreplay.net/cards/59259/\n",
      "https://hsreplay.net/cards/59646/\n",
      "https://hsreplay.net/cards/56583/\n",
      "https://hsreplay.net/cards/60151/\n",
      "https://hsreplay.net/cards/58202/\n",
      "https://hsreplay.net/cards/55400/\n",
      "https://hsreplay.net/cards/59089/\n",
      "https://hsreplay.net/cards/58494/\n",
      "https://hsreplay.net/cards/59732/\n",
      "https://hsreplay.net/cards/58201/\n",
      "https://hsreplay.net/cards/59727/\n",
      "Deck 7\n",
      "https://hsreplay.net/cards/58452/\n",
      "https://hsreplay.net/cards/59039/\n",
      "https://hsreplay.net/cards/56928/\n",
      "https://hsreplay.net/cards/59724/\n",
      "https://hsreplay.net/cards/58492/\n",
      "https://hsreplay.net/cards/56791/\n",
      "https://hsreplay.net/cards/59725/\n",
      "https://hsreplay.net/cards/59259/\n",
      "https://hsreplay.net/cards/59646/\n",
      "https://hsreplay.net/cards/56583/\n",
      "https://hsreplay.net/cards/60151/\n",
      "https://hsreplay.net/cards/56652/\n",
      "https://hsreplay.net/cards/58202/\n",
      "https://hsreplay.net/cards/59089/\n",
      "https://hsreplay.net/cards/59732/\n",
      "https://hsreplay.net/cards/58201/\n",
      "https://hsreplay.net/cards/59727/\n",
      "Deck 8\n",
      "https://hsreplay.net/cards/57182/\n",
      "https://hsreplay.net/cards/58972/\n",
      "https://hsreplay.net/cards/59394/\n",
      "https://hsreplay.net/cards/58487/\n",
      "https://hsreplay.net/cards/58610/\n",
      "https://hsreplay.net/cards/55161/\n",
      "https://hsreplay.net/cards/58170/\n",
      "https://hsreplay.net/cards/54269/\n",
      "https://hsreplay.net/cards/56928/\n",
      "https://hsreplay.net/cards/57175/\n",
      "https://hsreplay.net/cards/61898/\n",
      "https://hsreplay.net/cards/59590/\n",
      "https://hsreplay.net/cards/61273/\n",
      "https://hsreplay.net/cards/61133/\n",
      "https://hsreplay.net/cards/61135/\n",
      "Deck 9\n",
      "https://hsreplay.net/cards/58452/\n",
      "https://hsreplay.net/cards/56928/\n",
      "https://hsreplay.net/cards/59724/\n",
      "https://hsreplay.net/cards/58492/\n",
      "https://hsreplay.net/cards/56791/\n",
      "https://hsreplay.net/cards/59725/\n",
      "https://hsreplay.net/cards/59259/\n",
      "https://hsreplay.net/cards/59646/\n",
      "https://hsreplay.net/cards/56583/\n",
      "https://hsreplay.net/cards/61125/\n",
      "https://hsreplay.net/cards/60151/\n",
      "https://hsreplay.net/cards/59089/\n",
      "https://hsreplay.net/cards/59732/\n",
      "https://hsreplay.net/cards/58201/\n",
      "https://hsreplay.net/cards/61132/\n",
      "Deck 10\n",
      "https://hsreplay.net/cards/57182/\n",
      "https://hsreplay.net/cards/59394/\n",
      "https://hsreplay.net/cards/58487/\n",
      "https://hsreplay.net/cards/58610/\n",
      "https://hsreplay.net/cards/55161/\n",
      "https://hsreplay.net/cards/54269/\n",
      "https://hsreplay.net/cards/56928/\n",
      "https://hsreplay.net/cards/56587/\n",
      "https://hsreplay.net/cards/61898/\n",
      "https://hsreplay.net/cards/60043/\n",
      "https://hsreplay.net/cards/59590/\n",
      "https://hsreplay.net/cards/61125/\n",
      "https://hsreplay.net/cards/61273/\n",
      "https://hsreplay.net/cards/61133/\n",
      "https://hsreplay.net/cards/61135/\n",
      "https://hsreplay.net/cards/58202/\n",
      "Deck 11\n",
      "https://hsreplay.net/cards/57182/\n",
      "https://hsreplay.net/cards/58972/\n",
      "https://hsreplay.net/cards/59394/\n",
      "https://hsreplay.net/cards/58487/\n",
      "https://hsreplay.net/cards/58610/\n",
      "https://hsreplay.net/cards/55161/\n",
      "https://hsreplay.net/cards/58170/\n",
      "https://hsreplay.net/cards/56928/\n",
      "https://hsreplay.net/cards/57175/\n",
      "https://hsreplay.net/cards/56587/\n",
      "https://hsreplay.net/cards/61128/\n",
      "https://hsreplay.net/cards/61898/\n",
      "https://hsreplay.net/cards/59590/\n",
      "https://hsreplay.net/cards/58453/\n",
      "https://hsreplay.net/cards/61133/\n",
      "https://hsreplay.net/cards/61135/\n",
      "Deck 12\n",
      "https://hsreplay.net/cards/57182/\n",
      "https://hsreplay.net/cards/58972/\n",
      "https://hsreplay.net/cards/59394/\n",
      "https://hsreplay.net/cards/58487/\n",
      "https://hsreplay.net/cards/58610/\n",
      "https://hsreplay.net/cards/55161/\n",
      "https://hsreplay.net/cards/54269/\n",
      "https://hsreplay.net/cards/56928/\n",
      "https://hsreplay.net/cards/57175/\n",
      "https://hsreplay.net/cards/56587/\n",
      "https://hsreplay.net/cards/61898/\n",
      "https://hsreplay.net/cards/59590/\n",
      "https://hsreplay.net/cards/61273/\n",
      "https://hsreplay.net/cards/61133/\n",
      "https://hsreplay.net/cards/61135/\n",
      "https://hsreplay.net/cards/58202/\n",
      "Deck 13\n",
      "https://hsreplay.net/cards/58452/\n",
      "https://hsreplay.net/cards/56928/\n",
      "https://hsreplay.net/cards/59724/\n",
      "https://hsreplay.net/cards/58492/\n",
      "https://hsreplay.net/cards/56791/\n",
      "https://hsreplay.net/cards/59725/\n",
      "https://hsreplay.net/cards/59259/\n",
      "https://hsreplay.net/cards/59646/\n",
      "https://hsreplay.net/cards/56583/\n",
      "https://hsreplay.net/cards/60151/\n",
      "https://hsreplay.net/cards/61136/\n",
      "https://hsreplay.net/cards/58202/\n",
      "https://hsreplay.net/cards/59089/\n",
      "https://hsreplay.net/cards/59732/\n",
      "https://hsreplay.net/cards/58201/\n",
      "https://hsreplay.net/cards/61132/\n",
      "https://hsreplay.net/cards/59727/\n",
      "Deck 14\n",
      "https://hsreplay.net/cards/59039/\n",
      "https://hsreplay.net/cards/56928/\n",
      "https://hsreplay.net/cards/59724/\n",
      "https://hsreplay.net/cards/58492/\n",
      "https://hsreplay.net/cards/56791/\n",
      "https://hsreplay.net/cards/59725/\n",
      "https://hsreplay.net/cards/59259/\n",
      "https://hsreplay.net/cards/59646/\n",
      "https://hsreplay.net/cards/56583/\n",
      "https://hsreplay.net/cards/60151/\n",
      "https://hsreplay.net/cards/61136/\n",
      "https://hsreplay.net/cards/58202/\n",
      "https://hsreplay.net/cards/59089/\n",
      "https://hsreplay.net/cards/59732/\n",
      "https://hsreplay.net/cards/58201/\n",
      "https://hsreplay.net/cards/61132/\n",
      "https://hsreplay.net/cards/59727/\n",
      "Deck 15\n",
      "https://hsreplay.net/cards/56928/\n",
      "https://hsreplay.net/cards/59724/\n",
      "https://hsreplay.net/cards/58492/\n",
      "https://hsreplay.net/cards/56791/\n",
      "https://hsreplay.net/cards/59725/\n",
      "https://hsreplay.net/cards/59259/\n",
      "https://hsreplay.net/cards/59646/\n",
      "https://hsreplay.net/cards/56583/\n",
      "https://hsreplay.net/cards/61125/\n",
      "https://hsreplay.net/cards/60151/\n",
      "https://hsreplay.net/cards/61136/\n",
      "https://hsreplay.net/cards/58202/\n",
      "https://hsreplay.net/cards/59089/\n",
      "https://hsreplay.net/cards/59732/\n",
      "https://hsreplay.net/cards/58201/\n",
      "https://hsreplay.net/cards/61132/\n",
      "https://hsreplay.net/cards/59727/\n",
      "Deck 16\n",
      "https://hsreplay.net/cards/724/\n",
      "https://hsreplay.net/cards/58972/\n",
      "https://hsreplay.net/cards/59394/\n",
      "https://hsreplay.net/cards/58487/\n",
      "https://hsreplay.net/cards/55161/\n",
      "https://hsreplay.net/cards/54269/\n",
      "https://hsreplay.net/cards/56928/\n",
      "https://hsreplay.net/cards/658/\n",
      "https://hsreplay.net/cards/56587/\n",
      "https://hsreplay.net/cards/54259/\n",
      "https://hsreplay.net/cards/61898/\n",
      "https://hsreplay.net/cards/59590/\n",
      "https://hsreplay.net/cards/61273/\n",
      "https://hsreplay.net/cards/61133/\n",
      "https://hsreplay.net/cards/61135/\n",
      "Deck 17\n",
      "https://hsreplay.net/cards/56928/\n",
      "https://hsreplay.net/cards/59724/\n",
      "https://hsreplay.net/cards/58492/\n",
      "https://hsreplay.net/cards/56791/\n",
      "https://hsreplay.net/cards/59725/\n",
      "https://hsreplay.net/cards/59259/\n",
      "https://hsreplay.net/cards/61269/\n",
      "https://hsreplay.net/cards/56583/\n",
      "https://hsreplay.net/cards/61125/\n",
      "https://hsreplay.net/cards/60151/\n",
      "https://hsreplay.net/cards/61136/\n",
      "https://hsreplay.net/cards/58202/\n",
      "https://hsreplay.net/cards/59089/\n",
      "https://hsreplay.net/cards/59732/\n",
      "https://hsreplay.net/cards/58201/\n",
      "https://hsreplay.net/cards/61132/\n",
      "https://hsreplay.net/cards/59727/\n",
      "Deck 18\n",
      "https://hsreplay.net/cards/57184/\n",
      "https://hsreplay.net/cards/58452/\n",
      "https://hsreplay.net/cards/56928/\n",
      "https://hsreplay.net/cards/59726/\n",
      "https://hsreplay.net/cards/61127/\n",
      "https://hsreplay.net/cards/53756/\n",
      "https://hsreplay.net/cards/58492/\n",
      "https://hsreplay.net/cards/56791/\n",
      "https://hsreplay.net/cards/59869/\n",
      "https://hsreplay.net/cards/57193/\n",
      "https://hsreplay.net/cards/749/\n",
      "https://hsreplay.net/cards/58453/\n",
      "https://hsreplay.net/cards/56583/\n",
      "https://hsreplay.net/cards/61273/\n",
      "https://hsreplay.net/cards/58183/\n",
      "https://hsreplay.net/cards/61136/\n",
      "https://hsreplay.net/cards/56765/\n",
      "https://hsreplay.net/cards/58201/\n"
     ]
    }
   ],
   "source": [
    "j = 0\n",
    "deck_list = driver.find_elements_by_css_selector(\"ul.card-list\")\n",
    "for deck in deck_list:\n",
    "    j+=1\n",
    "    print(f\"Deck {j}\")\n",
    "    for card_url in deck.find_elements_by_css_selector(\"a\"):\n",
    "        print(card_url.get_attribute(\"href\"))"
   ]
  },
  {
   "cell_type": "markdown",
   "metadata": {},
   "source": [
    "# Define Function"
   ]
  },
  {
   "cell_type": "code",
   "execution_count": 19,
   "metadata": {},
   "outputs": [
    {
     "ename": "NameError",
     "evalue": "name 'deck_class' is not defined",
     "output_type": "error",
     "traceback": [
      "\u001b[0;31m---------------------------------------------------------------------------\u001b[0m",
      "\u001b[0;31mNameError\u001b[0m                                 Traceback (most recent call last)",
      "\u001b[0;32m<ipython-input-19-9f1acbac62ab>\u001b[0m in \u001b[0;36m<module>\u001b[0;34m\u001b[0m\n\u001b[1;32m      1\u001b[0m \u001b[0;31m#def getDeck(deck_class = \"DemonHunter\", ):\u001b[0m\u001b[0;34m\u001b[0m\u001b[0;34m\u001b[0m\u001b[0;34m\u001b[0m\u001b[0m\n\u001b[1;32m      2\u001b[0m \u001b[0;32mfor\u001b[0m \u001b[0mk\u001b[0m \u001b[0;32min\u001b[0m \u001b[0mrange\u001b[0m\u001b[0;34m(\u001b[0m\u001b[0;36m1\u001b[0m\u001b[0;34m,\u001b[0m \u001b[0;36m7\u001b[0m\u001b[0;34m)\u001b[0m\u001b[0;34m:\u001b[0m\u001b[0;34m\u001b[0m\u001b[0;34m\u001b[0m\u001b[0m\n\u001b[0;32m----> 3\u001b[0;31m     \u001b[0murl\u001b[0m \u001b[0;34m=\u001b[0m \u001b[0mdeck_dict\u001b[0m\u001b[0;34m[\u001b[0m\u001b[0mdeck_class\u001b[0m\u001b[0;34m]\u001b[0m\u001b[0;34m+\u001b[0m\u001b[0;34mf\"&page={k}\"\u001b[0m\u001b[0;34m\u001b[0m\u001b[0;34m\u001b[0m\u001b[0m\n\u001b[0m\u001b[1;32m      4\u001b[0m     \u001b[0mprint\u001b[0m\u001b[0;34m(\u001b[0m\u001b[0murl\u001b[0m\u001b[0;34m)\u001b[0m\u001b[0;34m\u001b[0m\u001b[0;34m\u001b[0m\u001b[0m\n",
      "\u001b[0;31mNameError\u001b[0m: name 'deck_class' is not defined"
     ]
    }
   ],
   "source": [
    "#def getDeck(deck_class = \"DemonHunter\", ):\n",
    "for k in range(1, 7):\n",
    "    url = deck_dict[deck_class]+f\"&page={k}\"\n",
    "    print(url)"
   ]
  },
  {
   "cell_type": "code",
   "execution_count": null,
   "metadata": {},
   "outputs": [],
   "source": []
  }
 ],
 "metadata": {
  "kernelspec": {
   "display_name": "Python 3",
   "language": "python",
   "name": "python3"
  },
  "language_info": {
   "codemirror_mode": {
    "name": "ipython",
    "version": 3
   },
   "file_extension": ".py",
   "mimetype": "text/x-python",
   "name": "python",
   "nbconvert_exporter": "python",
   "pygments_lexer": "ipython3",
   "version": "3.8.6"
  }
 },
 "nbformat": 4,
 "nbformat_minor": 4
}
