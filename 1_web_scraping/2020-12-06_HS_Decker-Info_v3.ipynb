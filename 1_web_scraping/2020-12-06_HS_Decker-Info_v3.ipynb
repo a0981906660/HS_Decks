{
 "cells": [
  {
   "cell_type": "markdown",
   "metadata": {},
   "source": [
    "# Hearth Stone Decker\n",
    "\n",
    "* https://hsreplay.net/decks/"
   ]
  },
  {
   "cell_type": "code",
   "execution_count": 1,
   "metadata": {},
   "outputs": [],
   "source": [
    "import requests\n",
    "from bs4 import BeautifulSoup\n",
    "from selenium import webdriver\n",
    "from selenium.webdriver.support.ui import WebDriverWait\n",
    "from selenium.webdriver.common.keys import Keys\n",
    "from selenium.webdriver.support.ui import Select\n",
    "import pandas as pd\n",
    "import numpy as np\n",
    "import time\n",
    "import re\n",
    "import datetime\n",
    "import sqlite3 as lite\n",
    "import os\n",
    "import random\n",
    "import calendar"
   ]
  },
  {
   "cell_type": "code",
   "execution_count": 2,
   "metadata": {},
   "outputs": [],
   "source": [
    "url = \"https://hsreplay.net/decks/\""
   ]
  },
  {
   "cell_type": "code",
   "execution_count": 3,
   "metadata": {},
   "outputs": [],
   "source": [
    "# Open Browser and open udn library #打開瀏覽器，但不要載入圖片\n",
    "options = webdriver.ChromeOptions()\n",
    "prefs = {\n",
    "    'profile.default_content_setting_values': {\n",
    "        'images': 2,\n",
    "        #'javascript': 2\n",
    "    }\n",
    "}\n",
    "options.add_experimental_option('prefs', prefs)\n",
    "options.add_experimental_option('prefs', prefs)\n",
    "\n",
    "# 偽裝header\n",
    "user_agent = \"Mozilla/5.0 (Macintosh; Intel Mac OS X 10_13_6) AppleWebKit/605.1.15 (KHTML, like Gecko) Version/12.0.3 Safari/605.1.15\"\n",
    "options.add_argument('--user-agent=%s' % user_agent)\n",
    "# 防止 javascript detect selenium\n",
    "options.add_experimental_option('excludeSwitches', ['enable-automation'])\n",
    "# headless\n",
    "#options.add_argument('-headless')\n",
    "\n",
    "# Window Maximized\n",
    "options.add_argument(\"--start-maximized\")\n",
    "\n",
    "global driver"
   ]
  },
  {
   "cell_type": "code",
   "execution_count": 4,
   "metadata": {},
   "outputs": [
    {
     "name": "stderr",
     "output_type": "stream",
     "text": [
      "<ipython-input-4-c8fe7e538624>:1: DeprecationWarning: use options instead of chrome_options\n",
      "  driver = webdriver.Chrome('/Users/boyie/chrome_driver/chromedriver', chrome_options=options)\n"
     ]
    }
   ],
   "source": [
    "driver = webdriver.Chrome('/Users/boyie/chrome_driver/chromedriver', chrome_options=options)"
   ]
  },
  {
   "cell_type": "code",
   "execution_count": 5,
   "metadata": {},
   "outputs": [],
   "source": [
    "driver.get(url)"
   ]
  },
  {
   "cell_type": "markdown",
   "metadata": {},
   "source": [
    "# Deck Dictionary"
   ]
  },
  {
   "cell_type": "code",
   "execution_count": 6,
   "metadata": {},
   "outputs": [],
   "source": [
    "occupation_dict = {\n",
    "    \"Demon Hunter\" : \"https://hsreplay.net/decks/#playerClasses=DEMONHUNTER\",\n",
    "    \"Druid\" : \"https://hsreplay.net/decks/#playerClasses=DRUID\",\n",
    "    \"Hunter\" : \"https://hsreplay.net/decks/#playerClasses=HUNTER\",\n",
    "    \"Mage\" : \"https://hsreplay.net/decks/#playerClasses=MAGE\",\n",
    "    \"Paladin\" : \"https://hsreplay.net/decks/#playerClasses=PALADIN\",\n",
    "    \"Priest\" : \"https://hsreplay.net/decks/#playerClasses=PRIEST\",\n",
    "    \"Rogue\" : \"https://hsreplay.net/decks/#playerClasses=ROGUE\",\n",
    "    \"Shaman\" : \"https://hsreplay.net/decks/#playerClasses=SHAMAN\",\n",
    "    \"Warlock\" : \"https://hsreplay.net/decks/#playerClasses=WARLOCK\",\n",
    "    \"Warrior\" : \"https://hsreplay.net/decks/#playerClasses=WARRIOR\",\n",
    "}"
   ]
  },
  {
   "cell_type": "code",
   "execution_count": 7,
   "metadata": {},
   "outputs": [],
   "source": [
    "occupation_alternative_keyword = {\n",
    "    \"Demon Hunter\" : \"惡魔獵人\",\n",
    "    \"Druid\" : \"德\",\n",
    "    \"Hunter\" : \"獵\",\n",
    "    \"Mage\" : \"法\",\n",
    "    \"Paladin\" : \"聖\",\n",
    "    \"Priest\" : \"牧\",\n",
    "    \"Rogue\" : \"賊\",\n",
    "    \"Shaman\" : \"薩\",\n",
    "    \"Warlock\" : \"術\",\n",
    "    \"Warrior\" : \"戰\",\n",
    "}"
   ]
  },
  {
   "cell_type": "code",
   "execution_count": 8,
   "metadata": {},
   "outputs": [],
   "source": [
    "# 滑到網頁最下方\n",
    "def scroll_down():\n",
    "    SCROLL_PAUSE_TIME = 0.5\n",
    "\n",
    "    # Get scroll height\n",
    "    last_height = driver.execute_script(\"return document.body.scrollHeight\")\n",
    "\n",
    "    while True:\n",
    "        # Scroll down to bottom\n",
    "        driver.execute_script(\"window.scrollTo(0, document.body.scrollHeight);\")\n",
    "\n",
    "        # Wait to load page\n",
    "        time.sleep(SCROLL_PAUSE_TIME)\n",
    "\n",
    "        # Calculate new scroll height and compare with last scroll height\n",
    "        new_height = driver.execute_script(\"return document.body.scrollHeight\")\n",
    "        if new_height == last_height:\n",
    "            break\n",
    "        last_height = new_height"
   ]
  },
  {
   "cell_type": "markdown",
   "metadata": {},
   "source": [
    "### 拿到牌組的其他feature\n",
    "\n",
    "1. Name\n",
    "\n",
    "2. Composition (1 or 2 cards)\n",
    "\n",
    "3. Card URL\n",
    "\n",
    "4. Overall Win Rate\n",
    "\n",
    "5. 合成成本 (表示土豪程度)\n",
    "\n",
    "6. 已遊玩的局數 (表示熱門程度)\n",
    "\n",
    "7. 遊戲持續時間 (表示節奏)"
   ]
  },
  {
   "cell_type": "markdown",
   "metadata": {},
   "source": [
    "### 階段性成果QQ"
   ]
  },
  {
   "cell_type": "code",
   "execution_count": 9,
   "metadata": {},
   "outputs": [],
   "source": [
    "# Save\n",
    "#np.save('Priest_deck_dict.npy', deck_dict)\n",
    "\n",
    "# Load\n",
    "#read_dictionary = np.load('DemonHunter_deck_dict.npy',allow_pickle='TRUE').item()"
   ]
  },
  {
   "cell_type": "markdown",
   "metadata": {},
   "source": [
    "# function\n",
    "\n",
    "寫成迴圈，對於12頁的資料都如此爬"
   ]
  },
  {
   "cell_type": "code",
   "execution_count": 10,
   "metadata": {},
   "outputs": [],
   "source": [
    "def getDeck(occupation_name = \"Demon Hunter\"):\n",
    "    print(f\">>> 現在爬的職業是：{occupation_name}\")\n",
    "    # 可能會出現的中文關鍵字\n",
    "    alternative_keyword = occupation_alternative_keyword[occupation_name]\n",
    "\n",
    "    # Overall_dict\n",
    "    deck_dict = {}\n",
    "\n",
    "    page_url = f\"{occupation_dict[occupation_name]}\"\n",
    "    driver.get(page_url)\n",
    "\n",
    "    soup = BeautifulSoup(driver.page_source, 'lxml')\n",
    "    max_page = int(soup.select(\".transparent-background\")[-1].text.split(\" / \")[-1])\n",
    "    print(f\">>> 總共有 {max_page} 頁\")\n",
    "    \n",
    "    for k in range(1,max_page+1):\n",
    "        print(f\">>> 現在正在爬第 {k} 頁\")\n",
    "\n",
    "        driver.implicitly_wait(10)\n",
    "        time.sleep(1)\n",
    "        # Load\n",
    "        scroll_down()\n",
    "        time.sleep(1)\n",
    "\n",
    "        # a sub dict\n",
    "        DemonHunter_deck_dict = {}\n",
    "\n",
    "        # get keys (every 18 in 1 page, for 12 pages)\n",
    "        # 需要specify不同的keyword，因為牌組名稱有中文有英文\n",
    "        partial_link_elements = []\n",
    "        for part in driver.find_elements_by_partial_link_text(f\"{occupation_name}\"):\n",
    "            partial_link_elements.append(part)\n",
    "        for part in driver.find_elements_by_partial_link_text(f\"{alternative_keyword}\"):\n",
    "            partial_link_elements.append(part)\n",
    "        # 開始拿牌組的key\n",
    "        for deck_key in partial_link_elements:\n",
    "            #print(deck_key.get_attribute(\"href\"))\n",
    "            href = deck_key.get_attribute(\"href\")\n",
    "            key = href.split(\"/\")[-2]\n",
    "            DemonHunter_deck_dict[key] = {\"URL\" : href}\n",
    "        print(f\">>> 這一頁有 {len(partial_link_elements)} 個符合關鍵字的牌組\")\n",
    "\n",
    "        soup = BeautifulSoup(driver.page_source, 'lxml')\n",
    "        for i in range(0,len(partial_link_elements)):\n",
    "            keyname = list(DemonHunter_deck_dict.keys())[i]\n",
    "\n",
    "            # get deck names\n",
    "            deck_name = driver.find_elements_by_css_selector(\".deck-name\")[i]\n",
    "            DemonHunter_deck_dict[keyname][\"Deck_Name\"] = deck_name.text\n",
    "\n",
    "            # Get Card Compositions\n",
    "            DemonHunter_deck_dict[keyname][\"Deck_Composition\"] = {}\n",
    "            card_list = driver.find_elements_by_css_selector(\"ul.card-list\")[i].find_elements_by_css_selector(\"a\")\n",
    "            #Key for Cards\n",
    "            card_urls = [card_url.get_attribute(\"href\") for card_url in card_list]\n",
    "            card_keys = [int(k.split(\"/\")[-2]) for k in card_urls]\n",
    "\n",
    "            for j in range(len(card_keys)): #從第一張卡到最後一張卡\n",
    "                name_num_str = soup.select(\"ul.card-list\")[i].select(\".card-icon\")[j][\"aria-label\"]\n",
    "                card_name = name_num_str.split()[0]\n",
    "                if name_num_str.split()[-1] == \"★\":\n",
    "                    IsDuo = 0\n",
    "                if name_num_str.split()[-1] == \"×2\":\n",
    "                    IsDuo = 1\n",
    "                else:\n",
    "                    IsDuo = \"NaN\"\n",
    "\n",
    "                DemonHunter_deck_dict[keyname][\"Deck_Composition\"][card_keys[j]] = {\n",
    "                    \"card_name\" : card_name,\n",
    "                    \"IsDuo\" : IsDuo,\n",
    "                    \"card_URL\" : card_urls[j],\n",
    "                }\n",
    "\n",
    "            # Win Rate\n",
    "            win_rate = driver.find_elements_by_css_selector(\".win-rate\")[i].text\n",
    "            DemonHunter_deck_dict[keyname][\"win_rate\"] = win_rate\n",
    "\n",
    "            # 合卡成本\n",
    "            dust_cost = driver.find_elements_by_css_selector(\".dust-cost\")[i].text\n",
    "            DemonHunter_deck_dict[keyname][\"dust_cost\"] = dust_cost\n",
    "\n",
    "            # 該牌組已被使用的對場場數\n",
    "            game_count = driver.find_elements_by_css_selector(\".game-count\")[i].text\n",
    "            DemonHunter_deck_dict[keyname][\"game_count\"] = game_count\n",
    "\n",
    "            # 每回比賽平均時間\n",
    "            time_duration = driver.find_elements_by_css_selector(\".duration\")[i].text\n",
    "            DemonHunter_deck_dict[keyname][\"time_duration\"] = time_duration\n",
    "\n",
    "            time.sleep(1)\n",
    "            # Merge to the parent dict\n",
    "            deck_dict.update(DemonHunter_deck_dict)\n",
    "\n",
    "        # Next Page\n",
    "        #driver.find_element_by_xpath(\"\"\"//*[@id=\"decks-container\"]/main/div[3]/section/div[4]/nav/ul/li[8]/a\"\"\").click()\n",
    "        driver.find_element_by_css_selector(\".glyphicon-arrow-right\").click()\n",
    "        driver.implicitly_wait(5)\n",
    "\n",
    "    return deck_dict"
   ]
  },
  {
   "cell_type": "markdown",
   "metadata": {},
   "source": [
    "### For all occupations\n",
    "\n",
    "run `getDeck()`"
   ]
  },
  {
   "cell_type": "code",
   "execution_count": 11,
   "metadata": {},
   "outputs": [
    {
     "name": "stdout",
     "output_type": "stream",
     "text": [
      ">>> 現在爬的職業是：Demon Hunter\n",
      ">>> 總共有 2 頁\n",
      ">>> 現在正在爬第 1 頁\n",
      ">>> 這一頁有 18 個符合關鍵字的牌組\n",
      ">>> 現在正在爬第 2 頁\n",
      ">>> 這一頁有 16 個符合關鍵字的牌組\n",
      ">>> 現在爬的職業是：Druid\n",
      ">>> 現在爬的職業是：Hunter\n",
      ">>> 總共有 2 頁\n",
      ">>> 現在正在爬第 1 頁\n",
      ">>> 這一頁有 18 個符合關鍵字的牌組\n",
      ">>> 現在正在爬第 2 頁\n",
      ">>> 這一頁有 4 個符合關鍵字的牌組\n",
      ">>> 現在爬的職業是：Mage\n",
      ">>> 總共有 2 頁\n",
      ">>> 現在正在爬第 1 頁\n",
      ">>> 這一頁有 18 個符合關鍵字的牌組\n",
      ">>> 現在正在爬第 2 頁\n",
      ">>> 這一頁有 1 個符合關鍵字的牌組\n",
      ">>> 現在爬的職業是：Paladin\n",
      ">>> 總共有 2 頁\n",
      ">>> 現在正在爬第 1 頁\n",
      ">>> 這一頁有 18 個符合關鍵字的牌組\n",
      ">>> 現在正在爬第 2 頁\n",
      ">>> 這一頁有 7 個符合關鍵字的牌組\n",
      ">>> 現在爬的職業是：Priest\n",
      ">>> 現在爬的職業是：Rogue\n",
      ">>> 總共有 2 頁\n",
      ">>> 現在正在爬第 1 頁\n",
      ">>> 這一頁有 18 個符合關鍵字的牌組\n",
      ">>> 現在正在爬第 2 頁\n",
      ">>> 這一頁有 6 個符合關鍵字的牌組\n",
      ">>> 現在爬的職業是：Shaman\n",
      ">>> 總共有 2 頁\n",
      ">>> 現在正在爬第 1 頁\n",
      ">>> 這一頁有 18 個符合關鍵字的牌組\n",
      ">>> 現在正在爬第 2 頁\n",
      ">>> 這一頁有 16 個符合關鍵字的牌組\n",
      ">>> 現在爬的職業是：Warlock\n",
      ">>> 現在爬的職業是：Warrior\n",
      ">>> 總共有 2 頁\n",
      ">>> 現在正在爬第 1 頁\n",
      ">>> 這一頁有 18 個符合關鍵字的牌組\n",
      ">>> 現在正在爬第 2 頁\n",
      ">>> 這一頁有 4 個符合關鍵字的牌組\n"
     ]
    }
   ],
   "source": [
    "names = locals()\n",
    "for key in list(occupation_dict.keys()):\n",
    "    try:\n",
    "        nam = \"\".join(key.split())\n",
    "        names[f\"dict_{nam}\"] = getDeck(occupation_name = key)\n",
    "        time_stamp = datetime.datetime.today().strftime(\"%Y-%m-%d_%H-%M\")\n",
    "        np.save(f\"/Users/boyie/HS/DB/{key}/{nam}_deck_dict_{time_stamp}.npy\", names[f\"dict_{nam}\"])\n",
    "    except:\n",
    "        pass"
   ]
  },
  {
   "cell_type": "code",
   "execution_count": 12,
   "metadata": {},
   "outputs": [],
   "source": [
    "driver.close()"
   ]
  },
  {
   "cell_type": "markdown",
   "metadata": {},
   "source": [
    "## 進入一個牌組內爬資訊"
   ]
  },
  {
   "cell_type": "markdown",
   "metadata": {},
   "source": [
    "for key in list(DemonHunter_deck_dict.keys())[0:1]:\n",
    "    driver.get(DemonHunter_deck_dict[key]['URL'])\n",
    "    driver.implicitly_wait(10)"
   ]
  },
  {
   "cell_type": "markdown",
   "metadata": {},
   "source": [
    "sub_soup = BeautifulSoup(driver.page_source, 'lxml')"
   ]
  },
  {
   "cell_type": "markdown",
   "metadata": {},
   "source": [
    "sub_soup.select(\".card-name\")"
   ]
  },
  {
   "cell_type": "markdown",
   "metadata": {},
   "source": [
    "for card in driver.find_elements_by_css_selector(\".card-name\"):\n",
    "    print(card.attrs)"
   ]
  },
  {
   "cell_type": "code",
   "execution_count": null,
   "metadata": {},
   "outputs": [],
   "source": []
  },
  {
   "cell_type": "code",
   "execution_count": null,
   "metadata": {},
   "outputs": [],
   "source": []
  },
  {
   "cell_type": "code",
   "execution_count": null,
   "metadata": {},
   "outputs": [],
   "source": []
  },
  {
   "cell_type": "code",
   "execution_count": null,
   "metadata": {},
   "outputs": [],
   "source": []
  },
  {
   "cell_type": "code",
   "execution_count": null,
   "metadata": {},
   "outputs": [],
   "source": []
  },
  {
   "cell_type": "code",
   "execution_count": null,
   "metadata": {},
   "outputs": [],
   "source": []
  }
 ],
 "metadata": {
  "kernelspec": {
   "display_name": "Python 3",
   "language": "python",
   "name": "python3"
  },
  "language_info": {
   "codemirror_mode": {
    "name": "ipython",
    "version": 3
   },
   "file_extension": ".py",
   "mimetype": "text/x-python",
   "name": "python",
   "nbconvert_exporter": "python",
   "pygments_lexer": "ipython3",
   "version": "3.6.5"
  }
 },
 "nbformat": 4,
 "nbformat_minor": 4
}
