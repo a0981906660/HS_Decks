{
 "cells": [
  {
   "cell_type": "markdown",
   "metadata": {},
   "source": [
    "# Hearth Stone Decker\n",
    "\n",
    "* https://hsreplay.net/decks/\n",
    "\n",
    "* 清資料"
   ]
  },
  {
   "cell_type": "code",
   "execution_count": 1,
   "metadata": {},
   "outputs": [],
   "source": [
    "import requests\n",
    "from bs4 import BeautifulSoup\n",
    "from selenium import webdriver\n",
    "from selenium.webdriver.support.ui import WebDriverWait\n",
    "from selenium.webdriver.common.keys import Keys\n",
    "from selenium.webdriver.support.ui import Select\n",
    "import pandas as pd\n",
    "import numpy as np\n",
    "import time\n",
    "import re\n",
    "import datetime\n",
    "import sqlite3 as lite\n",
    "import os\n",
    "import random\n",
    "import calendar"
   ]
  },
  {
   "cell_type": "markdown",
   "metadata": {},
   "source": [
    "url = \"https://hsreplay.net/decks/\""
   ]
  },
  {
   "cell_type": "markdown",
   "metadata": {},
   "source": [
    "# Deck Dictionary"
   ]
  },
  {
   "cell_type": "code",
   "execution_count": 2,
   "metadata": {},
   "outputs": [],
   "source": [
    "occupation_dict = {\n",
    "    \"Demon Hunter\" : \"https://hsreplay.net/decks/#playerClasses=DEMONHUNTER\",\n",
    "    \"Druid\" : \"https://hsreplay.net/decks/#playerClasses=DRUID\",\n",
    "    \"Hunter\" : \"https://hsreplay.net/decks/#playerClasses=HUNTER\",\n",
    "    \"Mage\" : \"https://hsreplay.net/decks/#playerClasses=MAGE\",\n",
    "    \"Paladin\" : \"https://hsreplay.net/decks/#playerClasses=PALADIN\",\n",
    "    \"Priest\" : \"https://hsreplay.net/decks/#playerClasses=PRIEST\",\n",
    "    \"Rogue\" : \"https://hsreplay.net/decks/#playerClasses=ROGUE\",\n",
    "    \"Shaman\" : \"https://hsreplay.net/decks/#playerClasses=SHAMAN\",\n",
    "    \"Warlock\" : \"https://hsreplay.net/decks/#playerClasses=WARLOCK\",\n",
    "    \"Warrior\" : \"https://hsreplay.net/decks/#playerClasses=WARRIOR\",\n",
    "}"
   ]
  },
  {
   "cell_type": "code",
   "execution_count": 3,
   "metadata": {},
   "outputs": [],
   "source": [
    "occupation_alternative_keyword = {\n",
    "    \"Demon Hunter\" : \"惡魔獵人\",\n",
    "    \"Druid\" : \"德\",\n",
    "    \"Hunter\" : \"獵\",\n",
    "    \"Mage\" : \"法\",\n",
    "    \"Paladin\" : \"聖\",\n",
    "    \"Priest\" : \"牧\",\n",
    "    \"Rogue\" : \"賊\",\n",
    "    \"Shaman\" : \"薩\",\n",
    "    \"Warlock\" : \"術\",\n",
    "    \"Warrior\" : \"戰\",\n",
    "}"
   ]
  },
  {
   "cell_type": "markdown",
   "metadata": {},
   "source": [
    "# Loading Dictionary & Analysis"
   ]
  },
  {
   "cell_type": "code",
   "execution_count": 4,
   "metadata": {},
   "outputs": [],
   "source": [
    "# Save\n",
    "#np.save('Priest_deck_dict.npy', deck_dict)\n",
    "\n",
    "# Load\n",
    "#read_dictionary = np.load('DemonHunter_deck_dict.npy',allow_pickle='TRUE').item()"
   ]
  },
  {
   "cell_type": "code",
   "execution_count": 4,
   "metadata": {},
   "outputs": [
    {
     "data": {
      "text/plain": [
       "{'Demon Hunter': 'https://hsreplay.net/decks/#playerClasses=DEMONHUNTER',\n",
       " 'Druid': 'https://hsreplay.net/decks/#playerClasses=DRUID',\n",
       " 'Hunter': 'https://hsreplay.net/decks/#playerClasses=HUNTER',\n",
       " 'Mage': 'https://hsreplay.net/decks/#playerClasses=MAGE',\n",
       " 'Paladin': 'https://hsreplay.net/decks/#playerClasses=PALADIN',\n",
       " 'Priest': 'https://hsreplay.net/decks/#playerClasses=PRIEST',\n",
       " 'Rogue': 'https://hsreplay.net/decks/#playerClasses=ROGUE',\n",
       " 'Shaman': 'https://hsreplay.net/decks/#playerClasses=SHAMAN',\n",
       " 'Warlock': 'https://hsreplay.net/decks/#playerClasses=WARLOCK',\n",
       " 'Warrior': 'https://hsreplay.net/decks/#playerClasses=WARRIOR'}"
      ]
     },
     "execution_count": 4,
     "metadata": {},
     "output_type": "execute_result"
    }
   ],
   "source": [
    "occupation_dict"
   ]
  },
  {
   "cell_type": "markdown",
   "metadata": {},
   "source": [
    "# Tidy Data"
   ]
  },
  {
   "cell_type": "markdown",
   "metadata": {},
   "source": [
    "1. get into layer 3 -> get unique card list\n",
    "\n",
    "2. for each deck, append to the dataframe as a new row"
   ]
  },
  {
   "cell_type": "code",
   "execution_count": 5,
   "metadata": {},
   "outputs": [],
   "source": [
    "df_cards = pd.read_csv(\"df_cards.csv\")"
   ]
  },
  {
   "cell_type": "code",
   "execution_count": 7,
   "metadata": {},
   "outputs": [],
   "source": [
    "df_cards = df_cards[['Card_ID', 'Card_Name']]"
   ]
  },
  {
   "cell_type": "code",
   "execution_count": 8,
   "metadata": {},
   "outputs": [
    {
     "data": {
      "text/html": [
       "<div>\n",
       "<style scoped>\n",
       "    .dataframe tbody tr th:only-of-type {\n",
       "        vertical-align: middle;\n",
       "    }\n",
       "\n",
       "    .dataframe tbody tr th {\n",
       "        vertical-align: top;\n",
       "    }\n",
       "\n",
       "    .dataframe thead th {\n",
       "        text-align: right;\n",
       "    }\n",
       "</style>\n",
       "<table border=\"1\" class=\"dataframe\">\n",
       "  <thead>\n",
       "    <tr style=\"text-align: right;\">\n",
       "      <th></th>\n",
       "      <th>Card_ID</th>\n",
       "      <th>Card_Name</th>\n",
       "    </tr>\n",
       "  </thead>\n",
       "  <tbody>\n",
       "    <tr>\n",
       "      <th>0</th>\n",
       "      <td>8</td>\n",
       "      <td>精神控制</td>\n",
       "    </tr>\n",
       "    <tr>\n",
       "      <th>1</th>\n",
       "      <td>22</td>\n",
       "      <td>心靈之怒</td>\n",
       "    </tr>\n",
       "    <tr>\n",
       "      <th>2</th>\n",
       "      <td>23</td>\n",
       "      <td>末日災厄</td>\n",
       "    </tr>\n",
       "    <tr>\n",
       "      <th>3</th>\n",
       "      <td>28</td>\n",
       "      <td>柯爾克隆精英</td>\n",
       "    </tr>\n",
       "    <tr>\n",
       "      <th>4</th>\n",
       "      <td>30</td>\n",
       "      <td>思想竊取</td>\n",
       "    </tr>\n",
       "    <tr>\n",
       "      <th>...</th>\n",
       "      <td>...</td>\n",
       "      <td>...</td>\n",
       "    </tr>\n",
       "    <tr>\n",
       "      <th>968</th>\n",
       "      <td>61842</td>\n",
       "      <td>瑪克希瑪‧布萊頓海默</td>\n",
       "    </tr>\n",
       "    <tr>\n",
       "      <th>969</th>\n",
       "      <td>61846</td>\n",
       "      <td>請勿餵食動物</td>\n",
       "    </tr>\n",
       "    <tr>\n",
       "      <th>970</th>\n",
       "      <td>61884</td>\n",
       "      <td>舞台鬼母</td>\n",
       "    </tr>\n",
       "    <tr>\n",
       "      <th>971</th>\n",
       "      <td>61898</td>\n",
       "      <td>蠕動懼怪</td>\n",
       "    </tr>\n",
       "    <tr>\n",
       "      <th>972</th>\n",
       "      <td>62049</td>\n",
       "      <td>安全檢查員</td>\n",
       "    </tr>\n",
       "  </tbody>\n",
       "</table>\n",
       "<p>973 rows × 2 columns</p>\n",
       "</div>"
      ],
      "text/plain": [
       "     Card_ID   Card_Name\n",
       "0          8        精神控制\n",
       "1         22        心靈之怒\n",
       "2         23        末日災厄\n",
       "3         28      柯爾克隆精英\n",
       "4         30        思想竊取\n",
       "..       ...         ...\n",
       "968    61842  瑪克希瑪‧布萊頓海默\n",
       "969    61846      請勿餵食動物\n",
       "970    61884        舞台鬼母\n",
       "971    61898        蠕動懼怪\n",
       "972    62049       安全檢查員\n",
       "\n",
       "[973 rows x 2 columns]"
      ]
     },
     "execution_count": 8,
     "metadata": {},
     "output_type": "execute_result"
    }
   ],
   "source": [
    "df_cards"
   ]
  },
  {
   "cell_type": "code",
   "execution_count": 9,
   "metadata": {},
   "outputs": [],
   "source": [
    "card_url_prefix = \"https://hsreplay.net/cards/\""
   ]
  },
  {
   "cell_type": "markdown",
   "metadata": {},
   "source": [
    "# Find中立卡牌"
   ]
  },
  {
   "cell_type": "code",
   "execution_count": 15,
   "metadata": {},
   "outputs": [],
   "source": [
    "# Open Browser and open udn library #打開瀏覽器，但不要載入圖片\n",
    "options = webdriver.ChromeOptions()\n",
    "prefs = {\n",
    "    'profile.default_content_setting_values': {\n",
    "        'images': 2,\n",
    "        #'javascript': 2\n",
    "    }\n",
    "}\n",
    "options.add_experimental_option('prefs', prefs)\n",
    "options.add_experimental_option('prefs', prefs)\n",
    "\n",
    "# 偽裝header\n",
    "user_agent = \"Mozilla/5.0 (Macintosh; Intel Mac OS X 10_13_6) AppleWebKit/605.1.15 (KHTML, like Gecko) Version/12.0.3 Safari/605.1.15\"\n",
    "options.add_argument('--user-agent=%s' % user_agent)\n",
    "# 防止 javascript detect selenium\n",
    "options.add_experimental_option('excludeSwitches', ['enable-automation'])\n",
    "# headless\n",
    "#options.add_argument('-headless')\n",
    "\n",
    "# Window Maximized\n",
    "options.add_argument(\"--start-maximized\")\n",
    "\n",
    "global driver"
   ]
  },
  {
   "cell_type": "code",
   "execution_count": 18,
   "metadata": {},
   "outputs": [
    {
     "name": "stderr",
     "output_type": "stream",
     "text": [
      "/Applications/anaconda3/lib/python3.6/site-packages/ipykernel_launcher.py:1: DeprecationWarning: use options instead of chrome_options\n",
      "  \"\"\"Entry point for launching an IPython kernel.\n"
     ]
    }
   ],
   "source": [
    "driver = webdriver.Chrome('/Users/Andy 1/Chrome_Driver/chromedriver', chrome_options=options)"
   ]
  },
  {
   "cell_type": "code",
   "execution_count": 19,
   "metadata": {},
   "outputs": [],
   "source": [
    "driver.get(\"https://hsreplay.net/cards/62049/#tab=class-distribution\")"
   ]
  },
  {
   "cell_type": "code",
   "execution_count": 32,
   "metadata": {},
   "outputs": [],
   "source": [
    "soup = BeautifulSoup(driver.page_source, 'lxml')"
   ]
  },
  {
   "cell_type": "code",
   "execution_count": 34,
   "metadata": {},
   "outputs": [
    {
     "data": {
      "text/plain": [
       "'中立'"
      ]
     },
     "execution_count": 34,
     "metadata": {},
     "output_type": "execute_result"
    }
   ],
   "source": [
    "soup.select(\".infobox-value\")[3].text"
   ]
  },
  {
   "cell_type": "markdown",
   "metadata": {},
   "source": [
    "### For Loop"
   ]
  },
  {
   "cell_type": "code",
   "execution_count": 37,
   "metadata": {},
   "outputs": [],
   "source": [
    "neutral_dict = {}\n",
    "for no in list(df_cards[\"Card_ID\"]):\n",
    "    card_url = card_url_prefix+str(no)\n",
    "    driver.get(card_url)\n",
    "    driver.implicitly_wait(5)\n",
    "    time.sleep(1)\n",
    "    soup = BeautifulSoup(driver.page_source, 'lxml')\n",
    "    \n",
    "    # 判斷是否是中立卡\n",
    "    if soup.select(\".infobox-value\")[3].text==\"中立\":\n",
    "        neutral_dict[no] = 1\n",
    "    else:\n",
    "        neutral_dict[no] = 0\n",
    "    time.sleep(0.5)"
   ]
  },
  {
   "cell_type": "code",
   "execution_count": 43,
   "metadata": {},
   "outputs": [],
   "source": [
    "#neutral_dict"
   ]
  },
  {
   "cell_type": "code",
   "execution_count": 44,
   "metadata": {},
   "outputs": [],
   "source": [
    "IsNeutral = []\n",
    "for no in list(df_cards[\"Card_ID\"]):\n",
    "    IsNeutral.append(neutral_dict[no])"
   ]
  },
  {
   "cell_type": "code",
   "execution_count": 46,
   "metadata": {},
   "outputs": [],
   "source": [
    "df_cards[\"IsNeutral\"] = IsNeutral"
   ]
  },
  {
   "cell_type": "code",
   "execution_count": 48,
   "metadata": {},
   "outputs": [],
   "source": [
    "df_cards.to_csv(\"neutral_cards.csv\")"
   ]
  },
  {
   "cell_type": "code",
   "execution_count": 58,
   "metadata": {},
   "outputs": [
    {
     "data": {
      "text/html": [
       "<div>\n",
       "<style scoped>\n",
       "    .dataframe tbody tr th:only-of-type {\n",
       "        vertical-align: middle;\n",
       "    }\n",
       "\n",
       "    .dataframe tbody tr th {\n",
       "        vertical-align: top;\n",
       "    }\n",
       "\n",
       "    .dataframe thead th {\n",
       "        text-align: right;\n",
       "    }\n",
       "</style>\n",
       "<table border=\"1\" class=\"dataframe\">\n",
       "  <thead>\n",
       "    <tr style=\"text-align: right;\">\n",
       "      <th></th>\n",
       "      <th>Card_ID</th>\n",
       "      <th>Card_Name</th>\n",
       "      <th>IsNeutral</th>\n",
       "    </tr>\n",
       "  </thead>\n",
       "  <tbody>\n",
       "    <tr>\n",
       "      <th>9</th>\n",
       "      <td>67</td>\n",
       "      <td>銀背猩猩族王</td>\n",
       "      <td>1</td>\n",
       "    </tr>\n",
       "    <tr>\n",
       "      <th>10</th>\n",
       "      <td>69</td>\n",
       "      <td>白銀之手騎士</td>\n",
       "      <td>1</td>\n",
       "    </tr>\n",
       "    <tr>\n",
       "      <th>15</th>\n",
       "      <td>90</td>\n",
       "      <td>冰風雪人</td>\n",
       "      <td>1</td>\n",
       "    </tr>\n",
       "    <tr>\n",
       "      <th>18</th>\n",
       "      <td>132</td>\n",
       "      <td>巫毒巫醫</td>\n",
       "      <td>1</td>\n",
       "    </tr>\n",
       "    <tr>\n",
       "      <th>19</th>\n",
       "      <td>138</td>\n",
       "      <td>末日預言者</td>\n",
       "      <td>1</td>\n",
       "    </tr>\n",
       "    <tr>\n",
       "      <th>...</th>\n",
       "      <td>...</td>\n",
       "      <td>...</td>\n",
       "      <td>...</td>\n",
       "    </tr>\n",
       "    <tr>\n",
       "      <th>958</th>\n",
       "      <td>61674</td>\n",
       "      <td>迅蹄珠齒伊萊克</td>\n",
       "      <td>1</td>\n",
       "    </tr>\n",
       "    <tr>\n",
       "      <th>959</th>\n",
       "      <td>61677</td>\n",
       "      <td>暗月雕像</td>\n",
       "      <td>1</td>\n",
       "    </tr>\n",
       "    <tr>\n",
       "      <th>962</th>\n",
       "      <td>61685</td>\n",
       "      <td>駭人生長體</td>\n",
       "      <td>1</td>\n",
       "    </tr>\n",
       "    <tr>\n",
       "      <th>971</th>\n",
       "      <td>61898</td>\n",
       "      <td>蠕動懼怪</td>\n",
       "      <td>1</td>\n",
       "    </tr>\n",
       "    <tr>\n",
       "      <th>972</th>\n",
       "      <td>62049</td>\n",
       "      <td>安全檢查員</td>\n",
       "      <td>1</td>\n",
       "    </tr>\n",
       "  </tbody>\n",
       "</table>\n",
       "<p>226 rows × 3 columns</p>\n",
       "</div>"
      ],
      "text/plain": [
       "     Card_ID Card_Name  IsNeutral\n",
       "9         67    銀背猩猩族王          1\n",
       "10        69    白銀之手騎士          1\n",
       "15        90      冰風雪人          1\n",
       "18       132      巫毒巫醫          1\n",
       "19       138     末日預言者          1\n",
       "..       ...       ...        ...\n",
       "958    61674   迅蹄珠齒伊萊克          1\n",
       "959    61677      暗月雕像          1\n",
       "962    61685     駭人生長體          1\n",
       "971    61898      蠕動懼怪          1\n",
       "972    62049     安全檢查員          1\n",
       "\n",
       "[226 rows x 3 columns]"
      ]
     },
     "execution_count": 58,
     "metadata": {},
     "output_type": "execute_result"
    }
   ],
   "source": [
    "df_cards[df_cards['IsNeutral']==1]"
   ]
  },
  {
   "cell_type": "code",
   "execution_count": 59,
   "metadata": {},
   "outputs": [
    {
     "data": {
      "text/html": [
       "<div>\n",
       "<style scoped>\n",
       "    .dataframe tbody tr th:only-of-type {\n",
       "        vertical-align: middle;\n",
       "    }\n",
       "\n",
       "    .dataframe tbody tr th {\n",
       "        vertical-align: top;\n",
       "    }\n",
       "\n",
       "    .dataframe thead th {\n",
       "        text-align: right;\n",
       "    }\n",
       "</style>\n",
       "<table border=\"1\" class=\"dataframe\">\n",
       "  <thead>\n",
       "    <tr style=\"text-align: right;\">\n",
       "      <th></th>\n",
       "      <th>Card_ID</th>\n",
       "      <th>Card_Name</th>\n",
       "      <th>IsNeutral</th>\n",
       "    </tr>\n",
       "  </thead>\n",
       "  <tbody>\n",
       "    <tr>\n",
       "      <th>187</th>\n",
       "      <td>999</td>\n",
       "      <td>血帆劫掠者</td>\n",
       "      <td>1</td>\n",
       "    </tr>\n",
       "  </tbody>\n",
       "</table>\n",
       "</div>"
      ],
      "text/plain": [
       "     Card_ID Card_Name  IsNeutral\n",
       "187      999     血帆劫掠者          1"
      ]
     },
     "execution_count": 59,
     "metadata": {},
     "output_type": "execute_result"
    }
   ],
   "source": [
    "df_cards[df_cards['Card_ID']==999]"
   ]
  },
  {
   "cell_type": "markdown",
   "metadata": {},
   "source": [
    "```R\n",
    " [1] \"win_rate_RE        4.67218665473637\"         \n",
    " [2] \"time_duration_RE        0.000156656548294709\"\n",
    " [3] \"Card_62049        0.832009763102095\"         \n",
    " [4] \"Card_60280        2.55282958928911\"          \n",
    " [5] \"Card_59658        0.15411656900678\"          \n",
    " [6] \"Card_59646        -1.49511713454943\"         \n",
    " [7] \"Card_59395        4.34942441528714\"          \n",
    " [8] \"Card_59039        1.76100661192004\"          \n",
    " [9] \"Card_59036        1.78894309462431\"          \n",
    "[10] \"Card_59035        1.48871453526339\"          \n",
    "[11] \"Card_58973        2.26300441482049\"          \n",
    "[12] \"Card_55429        2.16930380979627\"          \n",
    "[13] \"Card_55401        1.09320992464284\"          \n",
    "[14] \"Card_53771        1.78211572392716\"          \n",
    "[15] \"Card_48        0.78900693038165\" \n",
    "```"
   ]
  },
  {
   "cell_type": "code",
   "execution_count": 61,
   "metadata": {},
   "outputs": [],
   "source": [
    "#LASSO_cards = [\"win_rate_RE\",\"time_duration_RE\",\"Card_62049\",\"Card_60280\",\"Card_59658\",\"Card_59646\",\"Card_59395\",\"Card_59039\",\"Card_59036\",\"Card_59035\",\"Card_58973\",\"Card_55429\",\"Card_55401\",\"Card_53771\",\"Card_48\"]\n",
    "LASSO_cards = [\"Card_62049\",\"Card_60280\",\"Card_59658\",\"Card_59646\",\"Card_59395\",\"Card_59039\",\"Card_59036\",\"Card_59035\",\"Card_58973\",\"Card_55429\",\"Card_55401\",\"Card_53771\",\"Card_48\"]"
   ]
  },
  {
   "cell_type": "code",
   "execution_count": 62,
   "metadata": {},
   "outputs": [
    {
     "name": "stdout",
     "output_type": "stream",
     "text": [
      "Empty DataFrame\n",
      "Columns: [Card_ID, Card_Name, IsNeutral]\n",
      "Index: []\n",
      "Empty DataFrame\n",
      "Columns: [Card_ID, Card_Name, IsNeutral]\n",
      "Index: []\n",
      "Empty DataFrame\n",
      "Columns: [Card_ID, Card_Name, IsNeutral]\n",
      "Index: []\n",
      "Empty DataFrame\n",
      "Columns: [Card_ID, Card_Name, IsNeutral]\n",
      "Index: []\n",
      "Empty DataFrame\n",
      "Columns: [Card_ID, Card_Name, IsNeutral]\n",
      "Index: []\n",
      "Empty DataFrame\n",
      "Columns: [Card_ID, Card_Name, IsNeutral]\n",
      "Index: []\n",
      "Empty DataFrame\n",
      "Columns: [Card_ID, Card_Name, IsNeutral]\n",
      "Index: []\n",
      "Empty DataFrame\n",
      "Columns: [Card_ID, Card_Name, IsNeutral]\n",
      "Index: []\n",
      "Empty DataFrame\n",
      "Columns: [Card_ID, Card_Name, IsNeutral]\n",
      "Index: []\n",
      "Empty DataFrame\n",
      "Columns: [Card_ID, Card_Name, IsNeutral]\n",
      "Index: []\n",
      "Empty DataFrame\n",
      "Columns: [Card_ID, Card_Name, IsNeutral]\n",
      "Index: []\n",
      "Empty DataFrame\n",
      "Columns: [Card_ID, Card_Name, IsNeutral]\n",
      "Index: []\n",
      "Empty DataFrame\n",
      "Columns: [Card_ID, Card_Name, IsNeutral]\n",
      "Index: []\n"
     ]
    }
   ],
   "source": [
    "for card in LASSO_cards:\n",
    "    print(df_cards[df_cards['Card_Name']==card])"
   ]
  },
  {
   "cell_type": "code",
   "execution_count": null,
   "metadata": {},
   "outputs": [],
   "source": []
  }
 ],
 "metadata": {
  "kernelspec": {
   "display_name": "Python 3",
   "language": "python",
   "name": "python3"
  },
  "language_info": {
   "codemirror_mode": {
    "name": "ipython",
    "version": 3
   },
   "file_extension": ".py",
   "mimetype": "text/x-python",
   "name": "python",
   "nbconvert_exporter": "python",
   "pygments_lexer": "ipython3",
   "version": "3.6.5"
  }
 },
 "nbformat": 4,
 "nbformat_minor": 4
}
